{
 "cells": [
  {
   "cell_type": "markdown",
   "id": "c1e19b84",
   "metadata": {},
   "source": [
    "# A gentle introduction to python\n",
    "\n",
    "## A quick tour of the notebook\n",
    "- formatted text\n",
    "- equations\n",
    "- code\n",
    "- code output\n",
    "- images"
   ]
  },
  {
   "cell_type": "markdown",
   "id": "08335996",
   "metadata": {},
   "source": [
    "## Things you already know\n",
    "- mathematical operators\n",
    "- logical operators"
   ]
  },
  {
   "cell_type": "markdown",
   "id": "45cbc6f6",
   "metadata": {},
   "source": [
    "## Stepping sideways out of your comfort zone\n",
    "- words and collections in python (i.e. `str`, `list`, `dict`)"
   ]
  },
  {
   "cell_type": "markdown",
   "id": "aaef4012",
   "metadata": {},
   "source": [
    "## Controlling the flow\n",
    "- `if ... else`"
   ]
  },
  {
   "cell_type": "markdown",
   "id": "9c726fbb",
   "metadata": {},
   "source": [
    "## Say that again?\n",
    "- loops in python (`for`, list comprehensions, `while`)"
   ]
  },
  {
   "cell_type": "markdown",
   "id": "01835b0d",
   "metadata": {},
   "source": [
    "## An image speaks a thousand words\n",
    "- `import matplotlib.pyplot as plt`"
   ]
  },
  {
   "cell_type": "markdown",
   "id": "5174f474",
   "metadata": {},
   "source": [
    "## Wrap it up and do it again\n",
    "- functions"
   ]
  },
  {
   "cell_type": "markdown",
   "id": "18f4866f",
   "metadata": {},
   "source": [
    "## Where to next?\n",
    "- Useful (and approachable) documentation\n",
    "- Books\n",
    "- Cheatsheets\n",
    "- Online resources\n",
    "- T22 tutorial (and previous Transform tutorials)\n",
    "- Your own awesome project!"
   ]
  },
  {
   "cell_type": "code",
   "execution_count": null,
   "id": "cdc4bc15",
   "metadata": {},
   "outputs": [],
   "source": []
  }
 ],
 "metadata": {
  "kernelspec": {
   "display_name": "geocomp",
   "language": "python",
   "name": "geocomp"
  },
  "language_info": {
   "codemirror_mode": {
    "name": "ipython",
    "version": 3
   },
   "file_extension": ".py",
   "mimetype": "text/x-python",
   "name": "python",
   "nbconvert_exporter": "python",
   "pygments_lexer": "ipython3",
   "version": "3.9.7"
  }
 },
 "nbformat": 4,
 "nbformat_minor": 5
}
