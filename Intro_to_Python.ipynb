{
 "cells": [
  {
   "cell_type": "markdown",
   "id": "ef3d0a32",
   "metadata": {},
   "source": [
    "# First a quick tour of the jupyter notebook\n",
    "\n",
    "- Shortcuts\n",
    "- Getting help\n",
    "- Cell types\n",
    "- Executing cells\n",
    "\n",
    "### Formatted text\n",
    "\n",
    "We can write formated text in Markdown cells (`Esc + m`) and there are plenty of resources available:\n",
    "\n",
    "- The original Markdown page by John Gruber:\n",
    "[daringfireball.net/projects/markdown](https://daringfireball.net/projects/markdown/)\n",
    "- Getting started with markdown:\n",
    "[markdownguide.org/getting-started](https://www.markdownguide.org/getting-started/)\n",
    "- Cheat sheet:\n",
    "[markdownguide.org/cheat-sheet](https://www.markdownguide.org/cheat-sheet)"
   ]
  },
  {
   "cell_type": "markdown",
   "id": "12219f72",
   "metadata": {},
   "source": [
    "#### H4-heading\n",
    "\n",
    "**Unordered list**\n",
    "- item 1\n",
    "- item 2\n",
    "  - sub-item a\n",
    "  - sub-item b\n",
    "- item 3\n",
    "\n",
    "**Ordered list**\n",
    "1. first\n",
    "2. second\n",
    "3. third\n",
    "\n",
    "*italic*, **bold**, <ins>underline (not strictly markdown but works in the notebook)</ins>\n",
    "\n",
    "> quoted text\n",
    "\n",
    "\n",
    "| Syntax | Description |\n",
    "| ----------- | ----------- |\n",
    "| Header | Title |\n",
    "| Paragraph | Text |"
   ]
  },
  {
   "cell_type": "markdown",
   "id": "f8ddc68c",
   "metadata": {},
   "source": [
    "### Equations\n",
    "Mathematical expressions in notebooks use LaTeX:\n",
    "[overleaf.com/learn/latex/Mathematical_expressions](https://www.overleaf.com/learn/latex/Mathematical_expressions)\n",
    "\n",
    "Inline [Gardner's equation](https://subsurfwiki.org/wiki/Gardner%27s_equation) $\\rho = \\alpha V_P^{\\beta}$\n",
    "\n",
    "Centered equation [Darcy'y Law](https://en.wikipedia.org/wiki/Darcy%27s_law)\n",
    "$$q = -\\frac{k}{\\mu L} \\Delta p$$"
   ]
  },
  {
   "cell_type": "markdown",
   "id": "86aa787d",
   "metadata": {},
   "source": [
    "### Code\n",
    "\n",
    "in-line `code`\n",
    "\n",
    "and multiline formatted code:\n",
    "\n",
    "```python\n",
    "# Some formatted python code\n",
    "\n",
    "def say_hi():\n",
    "    \"\"\"Just print hello!\"\"\"\n",
    "    print('Hello!')\n",
    "    return None\n",
    "```"
   ]
  },
  {
   "cell_type": "markdown",
   "id": "9b8068e9",
   "metadata": {},
   "source": [
    "### Code output"
   ]
  },
  {
   "cell_type": "code",
   "execution_count": 1,
   "id": "cf5da51e",
   "metadata": {},
   "outputs": [
    {
     "name": "stdout",
     "output_type": "stream",
     "text": [
      "Hello Transfrom 2022!\n"
     ]
    }
   ],
   "source": [
    "print('Hello Transfrom 2022!')"
   ]
  },
  {
   "cell_type": "markdown",
   "id": "1a1728b1",
   "metadata": {},
   "source": [
    "### Images\n",
    "\n",
    "![Transform 2022](./images/T21_shirt_viridis.png)"
   ]
  },
  {
   "cell_type": "markdown",
   "id": "3df942b3",
   "metadata": {},
   "source": [
    "# A gentle introduction to python\n",
    "\n",
    "## Things you already know\n",
    "### mathematical operators"
   ]
  },
  {
   "cell_type": "code",
   "execution_count": 2,
   "id": "501073d9",
   "metadata": {},
   "outputs": [
    {
     "data": {
      "text/plain": [
       "5"
      ]
     },
     "execution_count": 2,
     "metadata": {},
     "output_type": "execute_result"
    }
   ],
   "source": [
    "# Press shift+enter to execute a cell\n",
    "2 + 3"
   ]
  },
  {
   "cell_type": "code",
   "execution_count": 3,
   "id": "9d5a1341",
   "metadata": {},
   "outputs": [
    {
     "data": {
      "text/plain": [
       "5.5"
      ]
     },
     "execution_count": 3,
     "metadata": {},
     "output_type": "execute_result"
    }
   ],
   "source": [
    "2 + 3.5"
   ]
  },
  {
   "cell_type": "code",
   "execution_count": 4,
   "id": "1ad2287f",
   "metadata": {},
   "outputs": [
    {
     "data": {
      "text/plain": [
       "-61"
      ]
     },
     "execution_count": 4,
     "metadata": {},
     "output_type": "execute_result"
    }
   ],
   "source": [
    "15 - 76"
   ]
  },
  {
   "cell_type": "code",
   "execution_count": 5,
   "id": "87e8abbc",
   "metadata": {},
   "outputs": [
    {
     "data": {
      "text/plain": [
       "18.0"
      ]
     },
     "execution_count": 5,
     "metadata": {},
     "output_type": "execute_result"
    }
   ],
   "source": [
    "45 * 0.4"
   ]
  },
  {
   "cell_type": "code",
   "execution_count": 6,
   "id": "c389c7fa",
   "metadata": {},
   "outputs": [
    {
     "data": {
      "text/plain": [
       "11.5"
      ]
     },
     "execution_count": 6,
     "metadata": {},
     "output_type": "execute_result"
    }
   ],
   "source": [
    "23 / 2"
   ]
  },
  {
   "cell_type": "code",
   "execution_count": 7,
   "id": "a46e470b",
   "metadata": {},
   "outputs": [
    {
     "data": {
      "text/plain": [
       "11"
      ]
     },
     "execution_count": 7,
     "metadata": {},
     "output_type": "execute_result"
    }
   ],
   "source": [
    "# Long division\n",
    "23 // 2"
   ]
  },
  {
   "cell_type": "code",
   "execution_count": 8,
   "id": "bd0f4642",
   "metadata": {},
   "outputs": [
    {
     "data": {
      "text/plain": [
       "1"
      ]
     },
     "execution_count": 8,
     "metadata": {},
     "output_type": "execute_result"
    }
   ],
   "source": [
    "# Remainder of long division: the \"modulo operator\"\n",
    "23 % 2"
   ]
  },
  {
   "cell_type": "markdown",
   "id": "f1aff43b",
   "metadata": {},
   "source": [
    "### logical operators"
   ]
  },
  {
   "cell_type": "code",
   "execution_count": 9,
   "id": "fd0f5939",
   "metadata": {},
   "outputs": [
    {
     "data": {
      "text/plain": [
       "True"
      ]
     },
     "execution_count": 9,
     "metadata": {},
     "output_type": "execute_result"
    }
   ],
   "source": [
    "23 > 4"
   ]
  },
  {
   "cell_type": "code",
   "execution_count": 10,
   "id": "b713a10e",
   "metadata": {},
   "outputs": [
    {
     "data": {
      "text/plain": [
       "True"
      ]
     },
     "execution_count": 10,
     "metadata": {},
     "output_type": "execute_result"
    }
   ],
   "source": [
    "53.4 < 100"
   ]
  },
  {
   "cell_type": "code",
   "execution_count": 11,
   "id": "172bb6cc",
   "metadata": {},
   "outputs": [
    {
     "data": {
      "text/plain": [
       "True"
      ]
     },
     "execution_count": 11,
     "metadata": {},
     "output_type": "execute_result"
    }
   ],
   "source": [
    "100 <= 100"
   ]
  },
  {
   "cell_type": "code",
   "execution_count": 12,
   "id": "ff94c085",
   "metadata": {},
   "outputs": [
    {
     "data": {
      "text/plain": [
       "True"
      ]
     },
     "execution_count": 12,
     "metadata": {},
     "output_type": "execute_result"
    }
   ],
   "source": [
    "200 >= 199"
   ]
  },
  {
   "cell_type": "code",
   "execution_count": 13,
   "id": "248e07b5",
   "metadata": {},
   "outputs": [
    {
     "data": {
      "text/plain": [
       "True"
      ]
     },
     "execution_count": 13,
     "metadata": {},
     "output_type": "execute_result"
    }
   ],
   "source": [
    "13 == 13"
   ]
  },
  {
   "cell_type": "code",
   "execution_count": 14,
   "id": "bc76c314",
   "metadata": {},
   "outputs": [
    {
     "data": {
      "text/plain": [
       "True"
      ]
     },
     "execution_count": 14,
     "metadata": {},
     "output_type": "execute_result"
    }
   ],
   "source": [
    "43 != 49"
   ]
  },
  {
   "cell_type": "code",
   "execution_count": 15,
   "id": "b1e3c6cc",
   "metadata": {},
   "outputs": [
    {
     "data": {
      "text/plain": [
       "False"
      ]
     },
     "execution_count": 15,
     "metadata": {},
     "output_type": "execute_result"
    }
   ],
   "source": [
    "# Combining them\n",
    "11 % 2 == 0"
   ]
  },
  {
   "cell_type": "code",
   "execution_count": 16,
   "id": "837ce611",
   "metadata": {},
   "outputs": [
    {
     "data": {
      "text/plain": [
       "False"
      ]
     },
     "execution_count": 16,
     "metadata": {},
     "output_type": "execute_result"
    }
   ],
   "source": [
    "(4 > 2) and (50 <= 10)"
   ]
  },
  {
   "cell_type": "code",
   "execution_count": 17,
   "id": "1128846c",
   "metadata": {},
   "outputs": [
    {
     "data": {
      "text/plain": [
       "True"
      ]
     },
     "execution_count": 17,
     "metadata": {},
     "output_type": "execute_result"
    }
   ],
   "source": [
    "(4 > 2) or (50 <= 10)"
   ]
  },
  {
   "cell_type": "markdown",
   "id": "cfaac3b3",
   "metadata": {},
   "source": [
    "### Assignment"
   ]
  },
  {
   "cell_type": "code",
   "execution_count": 18,
   "id": "0a87a7f2",
   "metadata": {},
   "outputs": [],
   "source": [
    "x = 10\n",
    "# no output!"
   ]
  },
  {
   "cell_type": "code",
   "execution_count": 19,
   "id": "70c0c744",
   "metadata": {},
   "outputs": [
    {
     "data": {
      "text/plain": [
       "10"
      ]
     },
     "execution_count": 19,
     "metadata": {},
     "output_type": "execute_result"
    }
   ],
   "source": [
    "x"
   ]
  },
  {
   "cell_type": "markdown",
   "id": "e0b2e973",
   "metadata": {},
   "source": [
    "## Stepping sideways out of your comfort zone\n",
    "\n",
    "Words and collections in python (i.e. `str`, `list`, `dict`)\n",
    "\n",
    "### `str`"
   ]
  },
  {
   "cell_type": "code",
   "execution_count": 20,
   "id": "b1adb76e",
   "metadata": {},
   "outputs": [
    {
     "data": {
      "text/plain": [
       "str"
      ]
     },
     "execution_count": 20,
     "metadata": {},
     "output_type": "execute_result"
    }
   ],
   "source": [
    "word = 'python'\n",
    "type(word)"
   ]
  },
  {
   "cell_type": "code",
   "execution_count": 21,
   "id": "b3031a98",
   "metadata": {},
   "outputs": [
    {
     "data": {
      "text/plain": [
       "'python'"
      ]
     },
     "execution_count": 21,
     "metadata": {},
     "output_type": "execute_result"
    }
   ],
   "source": [
    "word"
   ]
  },
  {
   "cell_type": "code",
   "execution_count": 22,
   "id": "1c45dd22",
   "metadata": {},
   "outputs": [
    {
     "data": {
      "text/plain": [
       "'same thing'"
      ]
     },
     "execution_count": 22,
     "metadata": {},
     "output_type": "execute_result"
    }
   ],
   "source": [
    "double_quotes = \"same thing\"\n",
    "double_quotes"
   ]
  },
  {
   "cell_type": "code",
   "execution_count": 23,
   "id": "fd69ee69",
   "metadata": {},
   "outputs": [
    {
     "data": {
      "text/plain": [
       "6"
      ]
     },
     "execution_count": 23,
     "metadata": {},
     "output_type": "execute_result"
    }
   ],
   "source": [
    "len(word)"
   ]
  },
  {
   "cell_type": "code",
   "execution_count": 24,
   "id": "607608e0",
   "metadata": {},
   "outputs": [
    {
     "data": {
      "text/plain": [
       "'PYTHON'"
      ]
     },
     "execution_count": 24,
     "metadata": {},
     "output_type": "execute_result"
    }
   ],
   "source": [
    "word.upper()"
   ]
  },
  {
   "cell_type": "code",
   "execution_count": 25,
   "id": "74b4c6d6",
   "metadata": {},
   "outputs": [
    {
     "data": {
      "text/plain": [
       "'python'"
      ]
     },
     "execution_count": 25,
     "metadata": {},
     "output_type": "execute_result"
    }
   ],
   "source": [
    "word"
   ]
  },
  {
   "cell_type": "markdown",
   "id": "80d85435",
   "metadata": {},
   "source": [
    "### `list`"
   ]
  },
  {
   "cell_type": "code",
   "execution_count": 26,
   "id": "a985babe",
   "metadata": {},
   "outputs": [],
   "source": [
    "word_list = ['python', 'geology', 'programming', 'code', 'outcrop']\n",
    "# again, no output, assignment is silent"
   ]
  },
  {
   "cell_type": "code",
   "execution_count": 27,
   "id": "b12e95da",
   "metadata": {},
   "outputs": [
    {
     "data": {
      "text/plain": [
       "list"
      ]
     },
     "execution_count": 27,
     "metadata": {},
     "output_type": "execute_result"
    }
   ],
   "source": [
    "type(word_list)"
   ]
  },
  {
   "cell_type": "code",
   "execution_count": 28,
   "id": "562417c5",
   "metadata": {},
   "outputs": [
    {
     "data": {
      "text/plain": [
       "5"
      ]
     },
     "execution_count": 28,
     "metadata": {},
     "output_type": "execute_result"
    }
   ],
   "source": [
    "len(word_list)"
   ]
  },
  {
   "cell_type": "code",
   "execution_count": 29,
   "id": "36ab2125",
   "metadata": {},
   "outputs": [
    {
     "data": {
      "text/plain": [
       "['python', 'geology', 'programming', 'code', 'outcrop']"
      ]
     },
     "execution_count": 29,
     "metadata": {},
     "output_type": "execute_result"
    }
   ],
   "source": [
    "word_list"
   ]
  },
  {
   "cell_type": "code",
   "execution_count": 30,
   "id": "fd8fe328",
   "metadata": {},
   "outputs": [
    {
     "data": {
      "text/plain": [
       "True"
      ]
     },
     "execution_count": 30,
     "metadata": {},
     "output_type": "execute_result"
    }
   ],
   "source": [
    "'geology' in word_list"
   ]
  },
  {
   "cell_type": "code",
   "execution_count": 31,
   "id": "15afd6cd",
   "metadata": {},
   "outputs": [],
   "source": [
    "word_list.append('mineral')\n",
    "# no output"
   ]
  },
  {
   "cell_type": "code",
   "execution_count": 32,
   "id": "db26089c",
   "metadata": {},
   "outputs": [
    {
     "data": {
      "text/plain": [
       "['python', 'geology', 'programming', 'code', 'outcrop', 'mineral']"
      ]
     },
     "execution_count": 32,
     "metadata": {},
     "output_type": "execute_result"
    }
   ],
   "source": [
    "word_list"
   ]
  },
  {
   "cell_type": "markdown",
   "id": "fb579e7e",
   "metadata": {},
   "source": [
    "### `dict`"
   ]
  },
  {
   "cell_type": "code",
   "execution_count": 33,
   "id": "bc7dfbd1",
   "metadata": {},
   "outputs": [
    {
     "data": {
      "text/plain": [
       "{'words': ['python', 'geology', 'programming', 'code', 'outcrop', 'mineral'],\n",
       " 'word': 'python',\n",
       " 'transform': 2022}"
      ]
     },
     "execution_count": 33,
     "metadata": {},
     "output_type": "execute_result"
    }
   ],
   "source": [
    "collection = {'words': word_list, 'word': word, 'transform': 2022}\n",
    "collection"
   ]
  },
  {
   "cell_type": "code",
   "execution_count": 34,
   "id": "12ca5ca4",
   "metadata": {},
   "outputs": [
    {
     "data": {
      "text/plain": [
       "dict_keys(['words', 'word', 'transform'])"
      ]
     },
     "execution_count": 34,
     "metadata": {},
     "output_type": "execute_result"
    }
   ],
   "source": [
    "collection.keys()"
   ]
  },
  {
   "cell_type": "code",
   "execution_count": 35,
   "id": "eae71ea9",
   "metadata": {},
   "outputs": [
    {
     "data": {
      "text/plain": [
       "dict_values([['python', 'geology', 'programming', 'code', 'outcrop', 'mineral'], 'python', 2022])"
      ]
     },
     "execution_count": 35,
     "metadata": {},
     "output_type": "execute_result"
    }
   ],
   "source": [
    "collection.values()"
   ]
  },
  {
   "cell_type": "code",
   "execution_count": 36,
   "id": "39b4a920",
   "metadata": {},
   "outputs": [
    {
     "data": {
      "text/plain": [
       "'python'"
      ]
     },
     "execution_count": 36,
     "metadata": {},
     "output_type": "execute_result"
    }
   ],
   "source": [
    "collection.get('word')"
   ]
  },
  {
   "cell_type": "code",
   "execution_count": 37,
   "id": "1be09a0e",
   "metadata": {},
   "outputs": [],
   "source": [
    "from datetime import datetime"
   ]
  },
  {
   "cell_type": "code",
   "execution_count": 38,
   "id": "3604b790",
   "metadata": {},
   "outputs": [],
   "source": [
    "collection.update({'Location': 'Global', 'date': datetime.now().date().isoformat()})"
   ]
  },
  {
   "cell_type": "code",
   "execution_count": 39,
   "id": "d2890638",
   "metadata": {},
   "outputs": [
    {
     "data": {
      "text/plain": [
       "{'words': ['python', 'geology', 'programming', 'code', 'outcrop', 'mineral'],\n",
       " 'word': 'python',\n",
       " 'transform': 2022,\n",
       " 'Location': 'Global',\n",
       " 'date': '2022-03-25'}"
      ]
     },
     "execution_count": 39,
     "metadata": {},
     "output_type": "execute_result"
    }
   ],
   "source": [
    "collection"
   ]
  },
  {
   "cell_type": "code",
   "execution_count": 40,
   "id": "1f862ad3",
   "metadata": {},
   "outputs": [
    {
     "data": {
      "text/plain": [
       "'2022-03-25'"
      ]
     },
     "execution_count": 40,
     "metadata": {},
     "output_type": "execute_result"
    }
   ],
   "source": [
    "collection['date']"
   ]
  },
  {
   "cell_type": "markdown",
   "id": "576b7d92",
   "metadata": {},
   "source": [
    "## Indexing and slicing\n",
    "\n",
    "We can reach into these collections, there are two main things to remember:\n",
    "\n",
    "0. python starts counting at `0`\n",
    "1. we use square brackets `[]`"
   ]
  },
  {
   "cell_type": "markdown",
   "id": "6833708c",
   "metadata": {},
   "source": [
    "### Indexing and slicing `str`"
   ]
  },
  {
   "cell_type": "code",
   "execution_count": 41,
   "id": "49aeabc3",
   "metadata": {},
   "outputs": [
    {
     "data": {
      "text/plain": [
       "6"
      ]
     },
     "execution_count": 41,
     "metadata": {},
     "output_type": "execute_result"
    }
   ],
   "source": [
    "len(word)"
   ]
  },
  {
   "cell_type": "code",
   "execution_count": 42,
   "id": "09bc3e62",
   "metadata": {},
   "outputs": [
    {
     "data": {
      "text/plain": [
       "'python'"
      ]
     },
     "execution_count": 42,
     "metadata": {},
     "output_type": "execute_result"
    }
   ],
   "source": [
    "word"
   ]
  },
  {
   "cell_type": "code",
   "execution_count": 43,
   "id": "b3ef354b",
   "metadata": {},
   "outputs": [
    {
     "data": {
      "text/plain": [
       "'p'"
      ]
     },
     "execution_count": 43,
     "metadata": {},
     "output_type": "execute_result"
    }
   ],
   "source": [
    "word[0]"
   ]
  },
  {
   "cell_type": "code",
   "execution_count": 44,
   "id": "f4cf7bc3",
   "metadata": {},
   "outputs": [
    {
     "data": {
      "text/plain": [
       "'n'"
      ]
     },
     "execution_count": 44,
     "metadata": {},
     "output_type": "execute_result"
    }
   ],
   "source": [
    "word[5]"
   ]
  },
  {
   "cell_type": "code",
   "execution_count": 45,
   "id": "8425e1c9",
   "metadata": {},
   "outputs": [
    {
     "data": {
      "text/plain": [
       "'pyt'"
      ]
     },
     "execution_count": 45,
     "metadata": {},
     "output_type": "execute_result"
    }
   ],
   "source": [
    "# half-open interval\n",
    "word[0:3]"
   ]
  },
  {
   "cell_type": "markdown",
   "id": "1dad1ff1",
   "metadata": {},
   "source": [
    "### Indexing and slicing `list`"
   ]
  },
  {
   "cell_type": "code",
   "execution_count": 46,
   "id": "6374b3b9",
   "metadata": {},
   "outputs": [
    {
     "data": {
      "text/plain": [
       "['python', 'geology', 'programming', 'code', 'outcrop', 'mineral']"
      ]
     },
     "execution_count": 46,
     "metadata": {},
     "output_type": "execute_result"
    }
   ],
   "source": [
    "# same thing with `list`\n",
    "word_list"
   ]
  },
  {
   "cell_type": "code",
   "execution_count": 47,
   "id": "6e8b33a1",
   "metadata": {},
   "outputs": [
    {
     "data": {
      "text/plain": [
       "'python'"
      ]
     },
     "execution_count": 47,
     "metadata": {},
     "output_type": "execute_result"
    }
   ],
   "source": [
    "word_list[0]"
   ]
  },
  {
   "cell_type": "code",
   "execution_count": 48,
   "id": "d2194892",
   "metadata": {},
   "outputs": [
    {
     "data": {
      "text/plain": [
       "'mineral'"
      ]
     },
     "execution_count": 48,
     "metadata": {},
     "output_type": "execute_result"
    }
   ],
   "source": [
    "word_list[-1]"
   ]
  },
  {
   "cell_type": "code",
   "execution_count": 49,
   "id": "e55fa21e",
   "metadata": {},
   "outputs": [
    {
     "data": {
      "text/plain": [
       "['outcrop', 'mineral']"
      ]
     },
     "execution_count": 49,
     "metadata": {},
     "output_type": "execute_result"
    }
   ],
   "source": [
    "word_list[4:]"
   ]
  },
  {
   "cell_type": "markdown",
   "id": "c005d352",
   "metadata": {},
   "source": [
    "### Keying into a `dict`"
   ]
  },
  {
   "cell_type": "code",
   "execution_count": 50,
   "id": "6afdaf3a",
   "metadata": {},
   "outputs": [
    {
     "data": {
      "text/plain": [
       "dict_keys(['words', 'word', 'transform', 'Location', 'date'])"
      ]
     },
     "execution_count": 50,
     "metadata": {},
     "output_type": "execute_result"
    }
   ],
   "source": [
    "collection.keys()"
   ]
  },
  {
   "cell_type": "code",
   "execution_count": 51,
   "id": "3c577fb6",
   "metadata": {},
   "outputs": [
    {
     "data": {
      "text/plain": [
       "'python'"
      ]
     },
     "execution_count": 51,
     "metadata": {},
     "output_type": "execute_result"
    }
   ],
   "source": [
    "collection.get('word')"
   ]
  },
  {
   "cell_type": "code",
   "execution_count": 52,
   "id": "fc2efd26",
   "metadata": {},
   "outputs": [
    {
     "data": {
      "text/plain": [
       "'python'"
      ]
     },
     "execution_count": 52,
     "metadata": {},
     "output_type": "execute_result"
    }
   ],
   "source": [
    "collection['word']"
   ]
  },
  {
   "cell_type": "markdown",
   "id": "c3ccceda",
   "metadata": {},
   "source": [
    "## Controlling the flow\n",
    "- `if ... else`\n",
    "\n",
    "We often want to make decision in our code based on conditions, so first we need a `bool`-ean condition:"
   ]
  },
  {
   "cell_type": "code",
   "execution_count": 53,
   "id": "10d0ffd9",
   "metadata": {},
   "outputs": [
    {
     "data": {
      "text/plain": [
       "True"
      ]
     },
     "execution_count": 53,
     "metadata": {},
     "output_type": "execute_result"
    }
   ],
   "source": [
    "word == 'python'"
   ]
  },
  {
   "cell_type": "code",
   "execution_count": 54,
   "id": "6e39e42c",
   "metadata": {},
   "outputs": [
    {
     "data": {
      "text/plain": [
       "True"
      ]
     },
     "execution_count": 54,
     "metadata": {},
     "output_type": "execute_result"
    }
   ],
   "source": [
    "42 % 2 == 0"
   ]
  },
  {
   "cell_type": "code",
   "execution_count": 55,
   "id": "44940066",
   "metadata": {},
   "outputs": [
    {
     "data": {
      "text/plain": [
       "True"
      ]
     },
     "execution_count": 55,
     "metadata": {},
     "output_type": "execute_result"
    }
   ],
   "source": [
    "'Global' in collection.values()"
   ]
  },
  {
   "cell_type": "code",
   "execution_count": 56,
   "id": "ff0e591f",
   "metadata": {},
   "outputs": [
    {
     "data": {
      "text/plain": [
       "True"
      ]
     },
     "execution_count": 56,
     "metadata": {},
     "output_type": "execute_result"
    }
   ],
   "source": [
    "collection['words'][1] == 'geology'"
   ]
  },
  {
   "cell_type": "markdown",
   "id": "51bea8ee",
   "metadata": {},
   "source": [
    "Now we can use these in the basic `if` statement:"
   ]
  },
  {
   "cell_type": "code",
   "execution_count": 57,
   "id": "00a105fd",
   "metadata": {},
   "outputs": [
    {
     "name": "stdout",
     "output_type": "stream",
     "text": [
      "Transform 2022\n"
     ]
    }
   ],
   "source": [
    "if word == 'python':\n",
    "    print('Transform 2022')"
   ]
  },
  {
   "cell_type": "code",
   "execution_count": 58,
   "id": "8665dd25",
   "metadata": {},
   "outputs": [
    {
     "name": "stdout",
     "output_type": "stream",
     "text": [
      "All welcome!\n"
     ]
    }
   ],
   "source": [
    "if 'Global' in collection.values():\n",
    "    print('All welcome!')\n",
    "else:\n",
    "    print('https://code.agilescientific.com/community/')"
   ]
  },
  {
   "cell_type": "code",
   "execution_count": 59,
   "id": "820470e2",
   "metadata": {},
   "outputs": [
    {
     "name": "stdout",
     "output_type": "stream",
     "text": [
      "Welcome to Transform 2022!\n"
     ]
    }
   ],
   "source": [
    "message = ''\n",
    "if word == 'python':\n",
    "    message = message + 'Welcome'\n",
    "if 'Global' in collection.values():\n",
    "    message += ' to Transform 2022!'\n",
    "    \n",
    "print(message)"
   ]
  },
  {
   "cell_type": "markdown",
   "id": "df035f59",
   "metadata": {},
   "source": [
    "What does this look like with a geological example?"
   ]
  },
  {
   "cell_type": "code",
   "execution_count": 60,
   "id": "3b1a0501",
   "metadata": {},
   "outputs": [
    {
     "data": {
      "text/plain": [
       "'Medium'"
      ]
     },
     "execution_count": 60,
     "metadata": {},
     "output_type": "execute_result"
    }
   ],
   "source": [
    "porosity = 0.23\n",
    "reservoir = ''\n",
    "\n",
    "if porosity >= 0.3:\n",
    "    reservoir = 'Good'\n",
    "elif 0.15 < porosity < 0.3:\n",
    "    reservoir = 'Medium'\n",
    "else:\n",
    "    reservoir = 'Poor'\n",
    "\n",
    "reservoir"
   ]
  },
  {
   "cell_type": "markdown",
   "id": "4f0a05c7",
   "metadata": {},
   "source": [
    "## Say that again?\n",
    "- loops in python (`for`, list comprehensions)\n",
    "\n",
    "One of the main advantages of computers is the ability to repeat tedious tasks efficiently:"
   ]
  },
  {
   "cell_type": "code",
   "execution_count": 61,
   "id": "c6333ebd",
   "metadata": {},
   "outputs": [],
   "source": [
    "porosities = [\n",
    "    0.1326,\n",
    "    0.4451,\n",
    "    0.1434,\n",
    "    0.1851,\n",
    "    0.3486,\n",
    "    0.0127,\n",
    "    0.3351,\n",
    "    0.3687,\n",
    "    0.3182,\n",
    "    0.2285,\n",
    "    0.3525,\n",
    "    0.2533,\n",
    "    0.2684,\n",
    "    0.2369,\n",
    "    0.0821,\n",
    "    0.0223,\n",
    "    0.1019,\n",
    "    0.4191,\n",
    "    0.0515,\n",
    "    0.244,\n",
    "    0.4474,\n",
    "    0.1274,\n",
    "    0.1006,\n",
    "    0.2851,\n",
    "    0.166,\n",
    "    0.2602,\n",
    "    0.0037,\n",
    "    0.0638,\n",
    "    0.0199,\n",
    "    0.4118,\n",
    "    0.2416,\n",
    "    0.3124,\n",
    "    0.1079,\n",
    "    0.2309,\n",
    "    0.2739,\n",
    "    0.0823,\n",
    "    0.2907,\n",
    "    0.2291,\n",
    "    0.267,\n",
    "    0.0013,\n",
    "    0.3902,\n",
    "    0.1191,\n",
    "    0.1983,\n",
    "    0.2909,\n",
    "    0.0644,\n",
    "    0.3085,\n",
    "    0.4284,\n",
    "    0.323,\n",
    "    0.1866,\n",
    "    0.0952,\n",
    "    0.1679,\n",
    "    0.4004,\n",
    "    0.0145,\n",
    "    0.1707,\n",
    "    0.2215,\n",
    "    0.2999,\n",
    "    0.3786,\n",
    "    0.2304,\n",
    "    0.0127,\n",
    "    0.4118,\n",
    "    0.1062,\n",
    "    0.0213,\n",
    "    0.4381,\n",
    "    0.0562,\n",
    "    0.4122,\n",
    "    0.4308,\n",
    "    0.3308,\n",
    "    0.3222,\n",
    "    0.2133,\n",
    "    0.3233,\n",
    "    0.469,\n",
    "    0.2526,\n",
    "    0.4715,\n",
    "    0.1956,\n",
    "    0.358,\n",
    "    0.1199,\n",
    "    0.016,\n",
    "    0.2055,\n",
    "    0.2539,\n",
    "    0.4072,\n",
    "    0.2477,\n",
    "    0.4002,\n",
    "    0.227,\n",
    "    0.4479,\n",
    "    0.1503,\n",
    "    0.0448,\n",
    "    0.0414,\n",
    "    0.3757,\n",
    "    0.1239,\n",
    "    0.3469,\n",
    "    0.051,\n",
    "    0.3422,\n",
    "    0.0702,\n",
    "    0.2075,\n",
    "    0.3884,\n",
    "    0.072,\n",
    "    0.1831,\n",
    "    0.4455,\n",
    "    0.378,\n",
    "    0.3744,\n",
    "    0.3804,\n",
    "    0.2873,\n",
    "    0.2889,\n",
    "    0.2325,\n",
    "    0.4104,\n",
    "    0.0952,\n",
    "    0.4618,\n",
    "    0.0582,\n",
    "    0.4654,\n",
    "    0.4736,\n",
    "    0.3855,\n",
    "    0.0138,\n",
    "    0.3529,\n",
    "    0.1098,\n",
    "    0.3274,\n",
    "    0.3488,\n",
    "    0.4693,\n",
    "    0.2878,\n",
    "    0.3836,\n",
    "    0.1105,\n",
    "    0.0307,\n",
    "    0.1126,\n",
    "    0.4098,\n",
    "    0.0253,\n",
    "    0.4189,\n",
    "    0.1553,\n",
    "    0.3987,\n",
    "    0.3051,\n",
    "    0.11,\n",
    "    0.3043,\n",
    "    0.1318,\n",
    "    0.364,\n",
    "    0.4682,\n",
    "    0.1133,\n",
    "    0.441,\n",
    "    0.1722,\n",
    "    0.2694,\n",
    "    0.4131,\n",
    "    0.0737,\n",
    "    0.377,\n",
    "    0.4761,\n",
    "    0.128,\n",
    "    0.2972,\n",
    "    0.0654,\n",
    "    0.1526,\n",
    "    0.2229,\n",
    "    0.3965,\n",
    "    0.0629,\n",
    "    0.0371,\n",
    "    0.2769,\n",
    "    0.4436,\n",
    "    0.0818,\n",
    "    0.1627,\n",
    "    0.2612,\n",
    "    0.4558,\n",
    "    0.2192,\n",
    "    0.3418,\n",
    "    0.3202,\n",
    "    0.4109,\n",
    "    0.3228,\n",
    "    0.1174,\n",
    "    0.4476,\n",
    "    0.4277,\n",
    "    0.0731,\n",
    "    0.386,\n",
    "    0.1274,\n",
    "    0.0116,\n",
    "    0.2359,\n",
    "    0.2782,\n",
    "    0.0886,\n",
    "    0.2316,\n",
    "    0.4149,\n",
    "    0.3949,\n",
    "    0.3558,\n",
    "    0.4515,\n",
    "    0.2067,\n",
    "    0.2312,\n",
    "    0.4409,\n",
    "    0.175,\n",
    "    0.1587,\n",
    "    0.1153,\n",
    "    0.1521,\n",
    "    0.2265,\n",
    "    0.0185,\n",
    "    0.2941,\n",
    "    0.0765,\n",
    "    0.4625,\n",
    "    0.3488,\n",
    "    0.4229,\n",
    "    0.1453,\n",
    "    0.4618,\n",
    "    0.3039,\n",
    "    0.2389,\n",
    "    0.3945,\n",
    "    0.2847,\n",
    "    0.0465,\n",
    "    0.3187,\n",
    "    0.2904,\n",
    "    0.4295,\n",
    "    0.0934\n",
    "]"
   ]
  },
  {
   "cell_type": "code",
   "execution_count": 62,
   "id": "3ed71650",
   "metadata": {},
   "outputs": [
    {
     "data": {
      "text/plain": [
       "200"
      ]
     },
     "execution_count": 62,
     "metadata": {},
     "output_type": "execute_result"
    }
   ],
   "source": [
    "len(porosities)"
   ]
  },
  {
   "cell_type": "code",
   "execution_count": 63,
   "id": "bdeb1c58",
   "metadata": {},
   "outputs": [
    {
     "name": "stdout",
     "output_type": "stream",
     "text": [
      "0.1326\n",
      "0.4451\n",
      "0.1434\n",
      "0.1851\n",
      "0.3486\n"
     ]
    }
   ],
   "source": [
    "for porosity in porosities[:5]: # !! we only use the first 5 porosities to test our code (using a slice)\n",
    "    print(porosity)"
   ]
  },
  {
   "cell_type": "code",
   "execution_count": 64,
   "id": "8f24942b",
   "metadata": {},
   "outputs": [
    {
     "data": {
      "text/plain": [
       "'Good'"
      ]
     },
     "execution_count": 64,
     "metadata": {},
     "output_type": "execute_result"
    }
   ],
   "source": [
    "if porosity >= 0.3:\n",
    "    reservoir = 'Good'\n",
    "elif 0.15 < porosity < 0.3:\n",
    "    reservoir = 'Medium'\n",
    "else:\n",
    "    reservoir = 'Poor'\n",
    "\n",
    "reservoir"
   ]
  },
  {
   "cell_type": "code",
   "execution_count": 65,
   "id": "7ba17521",
   "metadata": {},
   "outputs": [
    {
     "name": "stdout",
     "output_type": "stream",
     "text": [
      "Poor\n",
      "Good\n",
      "Poor\n",
      "Medium\n",
      "Good\n"
     ]
    }
   ],
   "source": [
    "for porosity in porosities[:5]:\n",
    "    if porosity >= 0.3:\n",
    "        reservoir = 'Good'\n",
    "    elif 0.15 < porosity < 0.3:\n",
    "        reservoir = 'Medium'\n",
    "    else:\n",
    "        reservoir = 'Poor'\n",
    "    print(reservoir)"
   ]
  },
  {
   "cell_type": "code",
   "execution_count": 66,
   "id": "7e2b74b7",
   "metadata": {},
   "outputs": [
    {
     "data": {
      "text/plain": [
       "5"
      ]
     },
     "execution_count": 66,
     "metadata": {},
     "output_type": "execute_result"
    }
   ],
   "source": [
    "good_reservoir_count = 0\n",
    "\n",
    "for porosity in porosities[:10]:\n",
    "    if porosity >= 0.3:\n",
    "        good_reservoir_count += 1\n",
    "\n",
    "good_reservoir_count"
   ]
  },
  {
   "cell_type": "code",
   "execution_count": 67,
   "id": "24032d90",
   "metadata": {},
   "outputs": [
    {
     "data": {
      "text/plain": [
       "81"
      ]
     },
     "execution_count": 67,
     "metadata": {},
     "output_type": "execute_result"
    }
   ],
   "source": [
    "good_reservoir_count = 0\n",
    "\n",
    "for porosity in porosities:\n",
    "    if porosity >= 0.3:\n",
    "        good_reservoir_count += 1\n",
    "\n",
    "good_reservoir_count"
   ]
  },
  {
   "cell_type": "code",
   "execution_count": 68,
   "id": "4c6b0cf8",
   "metadata": {},
   "outputs": [
    {
     "data": {
      "text/plain": [
       "81"
      ]
     },
     "execution_count": 68,
     "metadata": {},
     "output_type": "execute_result"
    }
   ],
   "source": [
    "# IGNORE this if it's too much of a stretch!\n",
    "good_resevoir_lc = sum([1 for porosity in porosities if porosity > 0.3])\n",
    "good_resevoir_lc"
   ]
  },
  {
   "cell_type": "markdown",
   "id": "b58007da",
   "metadata": {},
   "source": [
    "## An image speaks a thousand words\n",
    "- `import matplotlib.pyplot as plt`"
   ]
  },
  {
   "cell_type": "code",
   "execution_count": null,
   "id": "923786ad",
   "metadata": {},
   "outputs": [],
   "source": []
  },
  {
   "cell_type": "markdown",
   "id": "2be2b07c",
   "metadata": {},
   "source": [
    "## Wrap it up and do it again\n",
    "- functions"
   ]
  },
  {
   "cell_type": "code",
   "execution_count": null,
   "id": "928064e7",
   "metadata": {},
   "outputs": [],
   "source": []
  },
  {
   "cell_type": "markdown",
   "id": "e0e7fa09",
   "metadata": {},
   "source": [
    "## Where to next?\n",
    "- Useful (and approachable) documentation\n",
    "- Books\n",
    "- Cheatsheets\n",
    "- Online resources\n",
    "- T22 tutorial (and previous Transform tutorials)\n",
    "- Your own awesome project!"
   ]
  },
  {
   "cell_type": "code",
   "execution_count": null,
   "id": "4fa9be94",
   "metadata": {},
   "outputs": [],
   "source": []
  }
 ],
 "metadata": {
  "kernelspec": {
   "display_name": "geocomp",
   "language": "python",
   "name": "geocomp"
  },
  "language_info": {
   "codemirror_mode": {
    "name": "ipython",
    "version": 3
   },
   "file_extension": ".py",
   "mimetype": "text/x-python",
   "name": "python",
   "nbconvert_exporter": "python",
   "pygments_lexer": "ipython3",
   "version": "3.9.7"
  }
 },
 "nbformat": 4,
 "nbformat_minor": 5
}
