{
 "cells": [
  {
   "cell_type": "markdown",
   "id": "02cbe208",
   "metadata": {},
   "source": [
    "# First a quick tour of the jupyter notebook\n",
    "\n",
    "- Shortcuts\n",
    "- Getting help\n",
    "- Cell types\n",
    "- Executing cells\n",
    "\n",
    "### Formatted text\n",
    "\n",
    "We can write formated text in Markdown cells (`Esc + m`) and there are plenty of resources available:\n",
    "\n",
    "- The original Markdown page by John Gruber:\n",
    "[daringfireball.net/projects/markdown](https://daringfireball.net/projects/markdown/)\n",
    "- Getting started with markdown:\n",
    "[markdownguide.org/getting-started](https://www.markdownguide.org/getting-started/)\n",
    "- Cheat sheet:\n",
    "[markdownguide.org/cheat-sheet](https://www.markdownguide.org/cheat-sheet)"
   ]
  },
  {
   "cell_type": "markdown",
   "id": "cacba190",
   "metadata": {},
   "source": [
    "#### H4-heading\n",
    "\n",
    "**Unordered list**\n",
    "- item 1\n",
    "- item 2\n",
    "  - sub-item a\n",
    "  - sub-item b\n",
    "- item 3\n",
    "\n",
    "**Ordered list**\n",
    "1. first\n",
    "2. second\n",
    "3. third\n",
    "\n",
    "*italic*, **bold**, <ins>underline (not strictly markdown but works in the notebook)</ins>\n",
    "\n",
    "> quoted text\n",
    "\n",
    "\n",
    "| Syntax | Description |\n",
    "| ----------- | ----------- |\n",
    "| Header | Title |\n",
    "| Paragraph | Text |"
   ]
  },
  {
   "cell_type": "markdown",
   "id": "687e6504",
   "metadata": {},
   "source": [
    "### Equations\n",
    "Mathematical expressions in notebooks use LaTeX:\n",
    "[overleaf.com/learn/latex/Mathematical_expressions](https://www.overleaf.com/learn/latex/Mathematical_expressions)\n",
    "\n",
    "Inline [Gardner's equation](https://subsurfwiki.org/wiki/Gardner%27s_equation) $\\rho = \\alpha {V_P}^{\\beta}$\n",
    "\n",
    "Centered equation [Darcy'y Law](https://en.wikipedia.org/wiki/Darcy%27s_law)\n",
    "$$q = -\\frac{k}{\\mu L} \\Delta p$$"
   ]
  },
  {
   "cell_type": "markdown",
   "id": "e42023c4",
   "metadata": {},
   "source": [
    "### Code\n",
    "\n",
    "in-line `code`\n",
    "\n",
    "and multiline formatted code:\n",
    "\n",
    "```python\n",
    "# Some formatted python code\n",
    "\n",
    "def say_hi():\n",
    "    \"\"\"Just print hello!\"\"\"\n",
    "    print('Hello!')\n",
    "    return None\n",
    "```"
   ]
  },
  {
   "cell_type": "markdown",
   "id": "9d5275f9",
   "metadata": {},
   "source": [
    "### Code output"
   ]
  },
  {
   "cell_type": "code",
   "execution_count": 1,
   "id": "6d96c478",
   "metadata": {},
   "outputs": [
    {
     "name": "stdout",
     "output_type": "stream",
     "text": [
      "Hello Transfrom 2022!\n"
     ]
    }
   ],
   "source": [
    "print('Hello Transfrom 2022!')"
   ]
  },
  {
   "cell_type": "markdown",
   "id": "1a1728b1",
   "metadata": {},
   "source": [
    "### Images\n",
    "\n",
    "![Transform 2022](./images/T21_shirt_viridis.png)"
   ]
  },
  {
   "cell_type": "markdown",
   "id": "3df942b3",
   "metadata": {},
   "source": [
    "# A gentle introduction to python\n",
    "\n",
    "## Things you already know\n",
    "### mathematical operators"
   ]
  },
  {
   "cell_type": "code",
   "execution_count": 2,
   "id": "653c5c22",
   "metadata": {},
   "outputs": [],
   "source": [
    "# Live coding of basic mathematical operators\n",
    "\n"
   ]
  },
  {
   "cell_type": "code",
   "execution_count": 3,
   "id": "0d521ea5",
   "metadata": {
    "tags": [
     "hide"
    ]
   },
   "outputs": [
    {
     "data": {
      "text/plain": [
       "5"
      ]
     },
     "execution_count": 3,
     "metadata": {},
     "output_type": "execute_result"
    }
   ],
   "source": [
    "# Press shift+enter to execute a cell\n",
    "2 + 3"
   ]
  },
  {
   "cell_type": "code",
   "execution_count": 4,
   "id": "e0be5c96",
   "metadata": {
    "tags": [
     "hide"
    ]
   },
   "outputs": [
    {
     "data": {
      "text/plain": [
       "5.5"
      ]
     },
     "execution_count": 4,
     "metadata": {},
     "output_type": "execute_result"
    }
   ],
   "source": [
    "2 + 3.5"
   ]
  },
  {
   "cell_type": "code",
   "execution_count": 5,
   "id": "10e58eb0",
   "metadata": {
    "tags": [
     "hide"
    ]
   },
   "outputs": [
    {
     "data": {
      "text/plain": [
       "-60.5"
      ]
     },
     "execution_count": 5,
     "metadata": {},
     "output_type": "execute_result"
    }
   ],
   "source": [
    "15.5 - 76"
   ]
  },
  {
   "cell_type": "code",
   "execution_count": 6,
   "id": "fcfc6dbf",
   "metadata": {
    "tags": [
     "hide"
    ]
   },
   "outputs": [
    {
     "data": {
      "text/plain": [
       "18.0"
      ]
     },
     "execution_count": 6,
     "metadata": {},
     "output_type": "execute_result"
    }
   ],
   "source": [
    "45 * 0.4"
   ]
  },
  {
   "cell_type": "code",
   "execution_count": 7,
   "id": "89f9c603",
   "metadata": {
    "tags": [
     "hide"
    ]
   },
   "outputs": [
    {
     "data": {
      "text/plain": [
       "11.5"
      ]
     },
     "execution_count": 7,
     "metadata": {},
     "output_type": "execute_result"
    }
   ],
   "source": [
    "23 / 2"
   ]
  },
  {
   "cell_type": "code",
   "execution_count": 8,
   "id": "b2dc2da9",
   "metadata": {
    "tags": [
     "hide"
    ]
   },
   "outputs": [
    {
     "data": {
      "text/plain": [
       "11"
      ]
     },
     "execution_count": 8,
     "metadata": {},
     "output_type": "execute_result"
    }
   ],
   "source": [
    "# Long division\n",
    "23 // 2"
   ]
  },
  {
   "cell_type": "code",
   "execution_count": 9,
   "id": "b3142117",
   "metadata": {
    "tags": [
     "hide"
    ]
   },
   "outputs": [
    {
     "data": {
      "text/plain": [
       "1"
      ]
     },
     "execution_count": 9,
     "metadata": {},
     "output_type": "execute_result"
    }
   ],
   "source": [
    "# Remainder of long division: the \"modulo operator\"\n",
    "23 % 2"
   ]
  },
  {
   "cell_type": "code",
   "execution_count": 10,
   "id": "02cba14c",
   "metadata": {
    "tags": [
     "hide"
    ]
   },
   "outputs": [
    {
     "data": {
      "text/plain": [
       "8"
      ]
     },
     "execution_count": 10,
     "metadata": {},
     "output_type": "execute_result"
    }
   ],
   "source": [
    "2**3"
   ]
  },
  {
   "cell_type": "markdown",
   "id": "60b979ab",
   "metadata": {},
   "source": [
    "### logical operators"
   ]
  },
  {
   "cell_type": "code",
   "execution_count": 11,
   "id": "b2b9ff51",
   "metadata": {},
   "outputs": [],
   "source": [
    "# Live coding of logical operators\n",
    "\n"
   ]
  },
  {
   "cell_type": "code",
   "execution_count": 12,
   "id": "5886bded",
   "metadata": {
    "tags": [
     "hide"
    ]
   },
   "outputs": [
    {
     "data": {
      "text/plain": [
       "True"
      ]
     },
     "execution_count": 12,
     "metadata": {},
     "output_type": "execute_result"
    }
   ],
   "source": [
    "23 > 4"
   ]
  },
  {
   "cell_type": "code",
   "execution_count": 13,
   "id": "cbcbfe14",
   "metadata": {
    "tags": [
     "hide"
    ]
   },
   "outputs": [
    {
     "data": {
      "text/plain": [
       "False"
      ]
     },
     "execution_count": 13,
     "metadata": {},
     "output_type": "execute_result"
    }
   ],
   "source": [
    "534 < 100"
   ]
  },
  {
   "cell_type": "code",
   "execution_count": 14,
   "id": "4626b375",
   "metadata": {
    "tags": [
     "hide"
    ]
   },
   "outputs": [
    {
     "data": {
      "text/plain": [
       "True"
      ]
     },
     "execution_count": 14,
     "metadata": {},
     "output_type": "execute_result"
    }
   ],
   "source": [
    "100 <= 100"
   ]
  },
  {
   "cell_type": "code",
   "execution_count": 15,
   "id": "0a9ef1a9",
   "metadata": {
    "tags": [
     "hide"
    ]
   },
   "outputs": [
    {
     "data": {
      "text/plain": [
       "True"
      ]
     },
     "execution_count": 15,
     "metadata": {},
     "output_type": "execute_result"
    }
   ],
   "source": [
    "200 >= 199"
   ]
  },
  {
   "cell_type": "code",
   "execution_count": 16,
   "id": "9584a75f",
   "metadata": {
    "tags": [
     "hide"
    ]
   },
   "outputs": [
    {
     "data": {
      "text/plain": [
       "False"
      ]
     },
     "execution_count": 16,
     "metadata": {},
     "output_type": "execute_result"
    }
   ],
   "source": [
    "13 == 15"
   ]
  },
  {
   "cell_type": "code",
   "execution_count": 17,
   "id": "f3d5a34f",
   "metadata": {
    "tags": [
     "hide"
    ]
   },
   "outputs": [
    {
     "data": {
      "text/plain": [
       "True"
      ]
     },
     "execution_count": 17,
     "metadata": {},
     "output_type": "execute_result"
    }
   ],
   "source": [
    "43 != 49"
   ]
  },
  {
   "cell_type": "code",
   "execution_count": 18,
   "id": "10f157af",
   "metadata": {
    "tags": [
     "hide"
    ]
   },
   "outputs": [
    {
     "data": {
      "text/plain": [
       "False"
      ]
     },
     "execution_count": 18,
     "metadata": {},
     "output_type": "execute_result"
    }
   ],
   "source": [
    "# Combining them\n",
    "11 % 2 == 0"
   ]
  },
  {
   "cell_type": "code",
   "execution_count": 19,
   "id": "c7d24875",
   "metadata": {
    "tags": [
     "hide"
    ]
   },
   "outputs": [
    {
     "data": {
      "text/plain": [
       "False"
      ]
     },
     "execution_count": 19,
     "metadata": {},
     "output_type": "execute_result"
    }
   ],
   "source": [
    "(4 > 2) and (50 <= 10)"
   ]
  },
  {
   "cell_type": "code",
   "execution_count": 20,
   "id": "9527c945",
   "metadata": {
    "tags": [
     "hide"
    ]
   },
   "outputs": [
    {
     "data": {
      "text/plain": [
       "True"
      ]
     },
     "execution_count": 20,
     "metadata": {},
     "output_type": "execute_result"
    }
   ],
   "source": [
    "(4 > 2) or (50 <= 10)"
   ]
  },
  {
   "cell_type": "markdown",
   "id": "76545ed4",
   "metadata": {},
   "source": [
    "### Assignment"
   ]
  },
  {
   "cell_type": "code",
   "execution_count": 21,
   "id": "84d909ef",
   "metadata": {},
   "outputs": [],
   "source": [
    "x = 10\n",
    "# no output!"
   ]
  },
  {
   "cell_type": "code",
   "execution_count": 22,
   "id": "c78ddd2c",
   "metadata": {},
   "outputs": [
    {
     "data": {
      "text/plain": [
       "10"
      ]
     },
     "execution_count": 22,
     "metadata": {},
     "output_type": "execute_result"
    }
   ],
   "source": [
    "x"
   ]
  },
  {
   "cell_type": "markdown",
   "id": "e0b2e973",
   "metadata": {},
   "source": [
    "## Stepping sideways out of your comfort zone\n",
    "\n",
    "Words and collections in python (i.e. `str`, `list`, `dict`)\n",
    "\n",
    "### `str`"
   ]
  },
  {
   "cell_type": "code",
   "execution_count": 23,
   "id": "12d57bcc",
   "metadata": {},
   "outputs": [
    {
     "data": {
      "text/plain": [
       "str"
      ]
     },
     "execution_count": 23,
     "metadata": {},
     "output_type": "execute_result"
    }
   ],
   "source": [
    "word = 'python'\n",
    "type(word)"
   ]
  },
  {
   "cell_type": "code",
   "execution_count": 24,
   "id": "73f420cc",
   "metadata": {},
   "outputs": [
    {
     "data": {
      "text/plain": [
       "'python'"
      ]
     },
     "execution_count": 24,
     "metadata": {},
     "output_type": "execute_result"
    }
   ],
   "source": [
    "word"
   ]
  },
  {
   "cell_type": "code",
   "execution_count": 25,
   "id": "6b07124e",
   "metadata": {},
   "outputs": [],
   "source": [
    "# single vs double quotes\n",
    "\n"
   ]
  },
  {
   "cell_type": "code",
   "execution_count": 26,
   "id": "665aeea7",
   "metadata": {
    "tags": [
     "hide"
    ]
   },
   "outputs": [
    {
     "data": {
      "text/plain": [
       "'same thing'"
      ]
     },
     "execution_count": 26,
     "metadata": {},
     "output_type": "execute_result"
    }
   ],
   "source": [
    "double_quotes = \"same thing\"\n",
    "double_quotes"
   ]
  },
  {
   "cell_type": "code",
   "execution_count": 27,
   "id": "29e0ca04",
   "metadata": {},
   "outputs": [
    {
     "data": {
      "text/plain": [
       "6"
      ]
     },
     "execution_count": 27,
     "metadata": {},
     "output_type": "execute_result"
    }
   ],
   "source": [
    "len(word)"
   ]
  },
  {
   "cell_type": "code",
   "execution_count": 28,
   "id": "72ebb475",
   "metadata": {},
   "outputs": [],
   "source": [
    "# str methods\n",
    "\n"
   ]
  },
  {
   "cell_type": "code",
   "execution_count": 29,
   "id": "a0c3f303",
   "metadata": {
    "tags": [
     "hide"
    ]
   },
   "outputs": [
    {
     "data": {
      "text/plain": [
       "'PYTHON'"
      ]
     },
     "execution_count": 29,
     "metadata": {},
     "output_type": "execute_result"
    }
   ],
   "source": [
    "word.upper()"
   ]
  },
  {
   "cell_type": "code",
   "execution_count": 30,
   "id": "c3ed4f90",
   "metadata": {
    "tags": [
     "hide"
    ]
   },
   "outputs": [
    {
     "data": {
      "text/plain": [
       "'python'"
      ]
     },
     "execution_count": 30,
     "metadata": {},
     "output_type": "execute_result"
    }
   ],
   "source": [
    "word"
   ]
  },
  {
   "cell_type": "markdown",
   "id": "d8fda5bd",
   "metadata": {},
   "source": [
    "### `list`"
   ]
  },
  {
   "cell_type": "code",
   "execution_count": 31,
   "id": "3ed2eb40",
   "metadata": {},
   "outputs": [],
   "source": [
    "word_list = ['python', 'geology', 'programming', 'code', 'outcrop']\n",
    "# again, no output, assignment is silent"
   ]
  },
  {
   "cell_type": "code",
   "execution_count": 32,
   "id": "dce97238",
   "metadata": {},
   "outputs": [],
   "source": [
    "# exploring lists\n",
    "\n"
   ]
  },
  {
   "cell_type": "code",
   "execution_count": 33,
   "id": "211d382d",
   "metadata": {
    "tags": [
     "hide"
    ]
   },
   "outputs": [
    {
     "data": {
      "text/plain": [
       "list"
      ]
     },
     "execution_count": 33,
     "metadata": {},
     "output_type": "execute_result"
    }
   ],
   "source": [
    "type(word_list)"
   ]
  },
  {
   "cell_type": "code",
   "execution_count": 34,
   "id": "8637e84e",
   "metadata": {
    "tags": [
     "hide"
    ]
   },
   "outputs": [
    {
     "data": {
      "text/plain": [
       "5"
      ]
     },
     "execution_count": 34,
     "metadata": {},
     "output_type": "execute_result"
    }
   ],
   "source": [
    "len(word_list)"
   ]
  },
  {
   "cell_type": "code",
   "execution_count": 35,
   "id": "af3a1a4b",
   "metadata": {
    "tags": [
     "hide"
    ]
   },
   "outputs": [
    {
     "data": {
      "text/plain": [
       "['python', 'geology', 'programming', 'code', 'outcrop']"
      ]
     },
     "execution_count": 35,
     "metadata": {},
     "output_type": "execute_result"
    }
   ],
   "source": [
    "word_list"
   ]
  },
  {
   "cell_type": "code",
   "execution_count": 36,
   "id": "5b2a87db",
   "metadata": {
    "tags": [
     "hide"
    ]
   },
   "outputs": [
    {
     "data": {
      "text/plain": [
       "True"
      ]
     },
     "execution_count": 36,
     "metadata": {},
     "output_type": "execute_result"
    }
   ],
   "source": [
    "'geology' in word_list"
   ]
  },
  {
   "cell_type": "code",
   "execution_count": 37,
   "id": "459168ee",
   "metadata": {
    "tags": [
     "hide"
    ]
   },
   "outputs": [],
   "source": [
    "word_list.append('mineral')\n",
    "# no output"
   ]
  },
  {
   "cell_type": "code",
   "execution_count": 38,
   "id": "8d3df7d4",
   "metadata": {
    "tags": [
     "hide"
    ]
   },
   "outputs": [
    {
     "data": {
      "text/plain": [
       "['python', 'geology', 'programming', 'code', 'outcrop', 'mineral']"
      ]
     },
     "execution_count": 38,
     "metadata": {},
     "output_type": "execute_result"
    }
   ],
   "source": [
    "word_list"
   ]
  },
  {
   "cell_type": "markdown",
   "id": "90bacfd1",
   "metadata": {},
   "source": [
    "## Indexing and slicing\n",
    "\n",
    "We can reach into these collections, there are two main things to remember:\n",
    "\n",
    "0. python starts counting at `0`\n",
    "1. we use square brackets `[]`"
   ]
  },
  {
   "cell_type": "markdown",
   "id": "a10cce85",
   "metadata": {},
   "source": [
    "### Indexing and slicing `str`"
   ]
  },
  {
   "cell_type": "code",
   "execution_count": null,
   "id": "eb8ec81e",
   "metadata": {},
   "outputs": [],
   "source": []
  },
  {
   "cell_type": "code",
   "execution_count": 39,
   "id": "b642acde",
   "metadata": {
    "tags": [
     "hide"
    ]
   },
   "outputs": [
    {
     "data": {
      "text/plain": [
       "6"
      ]
     },
     "execution_count": 39,
     "metadata": {},
     "output_type": "execute_result"
    }
   ],
   "source": [
    "len(word)"
   ]
  },
  {
   "cell_type": "code",
   "execution_count": 40,
   "id": "134b3abf",
   "metadata": {
    "tags": [
     "hide"
    ]
   },
   "outputs": [
    {
     "data": {
      "text/plain": [
       "'python'"
      ]
     },
     "execution_count": 40,
     "metadata": {},
     "output_type": "execute_result"
    }
   ],
   "source": [
    "word"
   ]
  },
  {
   "cell_type": "code",
   "execution_count": 41,
   "id": "59bdb00d",
   "metadata": {
    "tags": [
     "hide"
    ]
   },
   "outputs": [
    {
     "data": {
      "text/plain": [
       "'p'"
      ]
     },
     "execution_count": 41,
     "metadata": {},
     "output_type": "execute_result"
    }
   ],
   "source": [
    "word[0]"
   ]
  },
  {
   "cell_type": "code",
   "execution_count": 42,
   "id": "3e3562bb",
   "metadata": {
    "tags": [
     "hide"
    ]
   },
   "outputs": [
    {
     "data": {
      "text/plain": [
       "'n'"
      ]
     },
     "execution_count": 42,
     "metadata": {},
     "output_type": "execute_result"
    }
   ],
   "source": [
    "word[5]"
   ]
  },
  {
   "cell_type": "code",
   "execution_count": 43,
   "id": "1fa68b6a",
   "metadata": {
    "tags": [
     "hide"
    ]
   },
   "outputs": [
    {
     "data": {
      "text/plain": [
       "'pyt'"
      ]
     },
     "execution_count": 43,
     "metadata": {},
     "output_type": "execute_result"
    }
   ],
   "source": [
    "# half-open interval\n",
    "word[0:3]"
   ]
  },
  {
   "cell_type": "markdown",
   "id": "4b926f78",
   "metadata": {},
   "source": [
    "### Indexing and slicing `list`"
   ]
  },
  {
   "cell_type": "code",
   "execution_count": null,
   "id": "a946c333",
   "metadata": {},
   "outputs": [],
   "source": []
  },
  {
   "cell_type": "code",
   "execution_count": 44,
   "id": "6c9d21f6",
   "metadata": {
    "tags": [
     "hide"
    ]
   },
   "outputs": [
    {
     "data": {
      "text/plain": [
       "['python', 'geology', 'programming', 'code', 'outcrop', 'mineral']"
      ]
     },
     "execution_count": 44,
     "metadata": {},
     "output_type": "execute_result"
    }
   ],
   "source": [
    "# same thing with `list`\n",
    "word_list"
   ]
  },
  {
   "cell_type": "code",
   "execution_count": 45,
   "id": "c4858292",
   "metadata": {
    "tags": [
     "hide"
    ]
   },
   "outputs": [
    {
     "data": {
      "text/plain": [
       "'python'"
      ]
     },
     "execution_count": 45,
     "metadata": {},
     "output_type": "execute_result"
    }
   ],
   "source": [
    "word_list[0]"
   ]
  },
  {
   "cell_type": "code",
   "execution_count": 46,
   "id": "b09cfe4a",
   "metadata": {
    "tags": [
     "hide"
    ]
   },
   "outputs": [
    {
     "data": {
      "text/plain": [
       "'mineral'"
      ]
     },
     "execution_count": 46,
     "metadata": {},
     "output_type": "execute_result"
    }
   ],
   "source": [
    "word_list[-1]"
   ]
  },
  {
   "cell_type": "code",
   "execution_count": 47,
   "id": "bdbda152",
   "metadata": {
    "tags": [
     "hide"
    ]
   },
   "outputs": [
    {
     "data": {
      "text/plain": [
       "['outcrop', 'mineral']"
      ]
     },
     "execution_count": 47,
     "metadata": {},
     "output_type": "execute_result"
    }
   ],
   "source": [
    "word_list[4:]"
   ]
  },
  {
   "cell_type": "markdown",
   "id": "40103039",
   "metadata": {},
   "source": [
    "### `dict`"
   ]
  },
  {
   "cell_type": "code",
   "execution_count": 48,
   "id": "08281d6f",
   "metadata": {},
   "outputs": [
    {
     "data": {
      "text/plain": [
       "{'words': ['python', 'geology', 'programming', 'code', 'outcrop', 'mineral'],\n",
       " 'word': 'python',\n",
       " 'transform': 2022}"
      ]
     },
     "execution_count": 48,
     "metadata": {},
     "output_type": "execute_result"
    }
   ],
   "source": [
    "container = {'words': word_list, 'word': word, 'transform': 2022}\n",
    "container"
   ]
  },
  {
   "cell_type": "code",
   "execution_count": 49,
   "id": "bf470769",
   "metadata": {},
   "outputs": [],
   "source": [
    "# Exploring python dict\n",
    "\n"
   ]
  },
  {
   "cell_type": "code",
   "execution_count": 50,
   "id": "662ffdf5",
   "metadata": {
    "tags": [
     "hide"
    ]
   },
   "outputs": [
    {
     "data": {
      "text/plain": [
       "dict_keys(['words', 'word', 'transform'])"
      ]
     },
     "execution_count": 50,
     "metadata": {},
     "output_type": "execute_result"
    }
   ],
   "source": [
    "container.keys()"
   ]
  },
  {
   "cell_type": "code",
   "execution_count": 51,
   "id": "4e52c79c",
   "metadata": {
    "tags": [
     "hide"
    ]
   },
   "outputs": [
    {
     "data": {
      "text/plain": [
       "dict_values([['python', 'geology', 'programming', 'code', 'outcrop', 'mineral'], 'python', 2022])"
      ]
     },
     "execution_count": 51,
     "metadata": {},
     "output_type": "execute_result"
    }
   ],
   "source": [
    "container.values()"
   ]
  },
  {
   "cell_type": "code",
   "execution_count": 52,
   "id": "84148a81",
   "metadata": {
    "tags": [
     "hide"
    ]
   },
   "outputs": [
    {
     "data": {
      "text/plain": [
       "'python'"
      ]
     },
     "execution_count": 52,
     "metadata": {},
     "output_type": "execute_result"
    }
   ],
   "source": [
    "container.get('word')"
   ]
  },
  {
   "cell_type": "markdown",
   "id": "4544620f",
   "metadata": {},
   "source": [
    "#### Importing more functions\n",
    "\n",
    "Sometimes we need to reach for some part of python that isn't loaded by default, there are three major ways to import packages:\n",
    "\n",
    "* `import package` -> imports everything. Access things using `package.function()`.\n",
    "* `import package as pkg` -> imports everything with an alias. Accessing things using `pkg.function()`.\n",
    "* `from package import function1, function2` -> import only `function1` and `function2`. Accessed as `function1()` and `function2()`.\n",
    "\n",
    "Here we use the third method to import the `datetime` object from the [`datetime`](https://docs.python.org/3/library/datetime.html#module-datetime) library:"
   ]
  },
  {
   "cell_type": "code",
   "execution_count": 53,
   "id": "5a2b972f",
   "metadata": {},
   "outputs": [],
   "source": [
    "from datetime import datetime"
   ]
  },
  {
   "cell_type": "markdown",
   "id": "f98524c4",
   "metadata": {},
   "source": [
    "And we can now `update` the `dict` with a new value, for example today's date using the `datetime` object we just imported:"
   ]
  },
  {
   "cell_type": "code",
   "execution_count": 54,
   "id": "4f07f5c3",
   "metadata": {},
   "outputs": [],
   "source": [
    "# using datetime to add today's date to the dict\n",
    "\n"
   ]
  },
  {
   "cell_type": "code",
   "execution_count": 55,
   "id": "6985aab8",
   "metadata": {
    "tags": [
     "hide"
    ]
   },
   "outputs": [],
   "source": [
    "# Build this up\n",
    "container.update({'Location': 'Global', 'date': datetime.now().date().isoformat()})"
   ]
  },
  {
   "cell_type": "code",
   "execution_count": 56,
   "id": "b0ad223e",
   "metadata": {},
   "outputs": [
    {
     "data": {
      "text/plain": [
       "{'words': ['python', 'geology', 'programming', 'code', 'outcrop', 'mineral'],\n",
       " 'word': 'python',\n",
       " 'transform': 2022,\n",
       " 'Location': 'Global',\n",
       " 'date': '2022-04-04'}"
      ]
     },
     "execution_count": 56,
     "metadata": {},
     "output_type": "execute_result"
    }
   ],
   "source": [
    "container"
   ]
  },
  {
   "cell_type": "code",
   "execution_count": 57,
   "id": "d72f125b",
   "metadata": {},
   "outputs": [
    {
     "data": {
      "text/plain": [
       "'2022-04-04'"
      ]
     },
     "execution_count": 57,
     "metadata": {},
     "output_type": "execute_result"
    }
   ],
   "source": [
    "container['date']"
   ]
  },
  {
   "cell_type": "markdown",
   "id": "2aac3286",
   "metadata": {},
   "source": [
    "### Keying into a `dict`"
   ]
  },
  {
   "cell_type": "code",
   "execution_count": null,
   "id": "c8bf24af",
   "metadata": {},
   "outputs": [],
   "source": []
  },
  {
   "cell_type": "code",
   "execution_count": 58,
   "id": "1289adf7",
   "metadata": {
    "tags": [
     "hide"
    ]
   },
   "outputs": [
    {
     "data": {
      "text/plain": [
       "dict_keys(['words', 'word', 'transform', 'Location', 'date'])"
      ]
     },
     "execution_count": 58,
     "metadata": {},
     "output_type": "execute_result"
    }
   ],
   "source": [
    "container.keys()"
   ]
  },
  {
   "cell_type": "code",
   "execution_count": 59,
   "id": "c96c2891",
   "metadata": {
    "tags": [
     "hide"
    ]
   },
   "outputs": [
    {
     "data": {
      "text/plain": [
       "'python'"
      ]
     },
     "execution_count": 59,
     "metadata": {},
     "output_type": "execute_result"
    }
   ],
   "source": [
    "container.get('word')"
   ]
  },
  {
   "cell_type": "code",
   "execution_count": 60,
   "id": "909afc9d",
   "metadata": {
    "tags": [
     "hide"
    ]
   },
   "outputs": [
    {
     "data": {
      "text/plain": [
       "'python'"
      ]
     },
     "execution_count": 60,
     "metadata": {},
     "output_type": "execute_result"
    }
   ],
   "source": [
    "container['word']"
   ]
  },
  {
   "cell_type": "markdown",
   "id": "c3ccceda",
   "metadata": {},
   "source": [
    "## Controlling the flow\n",
    "- `if ... else`\n",
    "\n",
    "We often want to make decision in our code based on conditions, so first we need a `bool`-ean condition:"
   ]
  },
  {
   "cell_type": "code",
   "execution_count": null,
   "id": "21f7d142",
   "metadata": {},
   "outputs": [],
   "source": []
  },
  {
   "cell_type": "code",
   "execution_count": 61,
   "id": "e13d06b5",
   "metadata": {
    "tags": [
     "hide"
    ]
   },
   "outputs": [
    {
     "data": {
      "text/plain": [
       "False"
      ]
     },
     "execution_count": 61,
     "metadata": {},
     "output_type": "execute_result"
    }
   ],
   "source": [
    "x < 5"
   ]
  },
  {
   "cell_type": "code",
   "execution_count": 62,
   "id": "adaf7510",
   "metadata": {
    "tags": [
     "hide"
    ]
   },
   "outputs": [
    {
     "data": {
      "text/plain": [
       "True"
      ]
     },
     "execution_count": 62,
     "metadata": {},
     "output_type": "execute_result"
    }
   ],
   "source": [
    "word == 'python'"
   ]
  },
  {
   "cell_type": "code",
   "execution_count": 63,
   "id": "f3ae388a",
   "metadata": {
    "tags": [
     "hide"
    ]
   },
   "outputs": [
    {
     "data": {
      "text/plain": [
       "True"
      ]
     },
     "execution_count": 63,
     "metadata": {},
     "output_type": "execute_result"
    }
   ],
   "source": [
    "42 % 2 == 0"
   ]
  },
  {
   "cell_type": "code",
   "execution_count": 64,
   "id": "3cb01977",
   "metadata": {
    "tags": [
     "hide"
    ]
   },
   "outputs": [
    {
     "data": {
      "text/plain": [
       "True"
      ]
     },
     "execution_count": 64,
     "metadata": {},
     "output_type": "execute_result"
    }
   ],
   "source": [
    "'Global' in container.values()"
   ]
  },
  {
   "cell_type": "code",
   "execution_count": 65,
   "id": "a0f3d26b",
   "metadata": {
    "tags": [
     "hide"
    ]
   },
   "outputs": [
    {
     "data": {
      "text/plain": [
       "True"
      ]
     },
     "execution_count": 65,
     "metadata": {},
     "output_type": "execute_result"
    }
   ],
   "source": [
    "container['words'][1] == 'geology'"
   ]
  },
  {
   "cell_type": "markdown",
   "id": "b05a938e",
   "metadata": {},
   "source": [
    "Now we can use these in the basic `if` statement:"
   ]
  },
  {
   "cell_type": "code",
   "execution_count": null,
   "id": "5db2807c",
   "metadata": {},
   "outputs": [],
   "source": []
  },
  {
   "cell_type": "code",
   "execution_count": 66,
   "id": "453a8506",
   "metadata": {
    "tags": [
     "hide"
    ]
   },
   "outputs": [
    {
     "name": "stdout",
     "output_type": "stream",
     "text": [
      "Transform 2022\n"
     ]
    }
   ],
   "source": [
    "if word == 'python':\n",
    "    print('Transform 2022')"
   ]
  },
  {
   "cell_type": "markdown",
   "id": "dc801b19",
   "metadata": {},
   "source": [
    "Let's look at `container.values()` again:"
   ]
  },
  {
   "cell_type": "code",
   "execution_count": 67,
   "id": "ebba98c2",
   "metadata": {},
   "outputs": [
    {
     "data": {
      "text/plain": [
       "dict_values([['python', 'geology', 'programming', 'code', 'outcrop', 'mineral'], 'python', 2022, 'Global', '2022-04-04'])"
      ]
     },
     "execution_count": 67,
     "metadata": {},
     "output_type": "execute_result"
    }
   ],
   "source": [
    "container.values()"
   ]
  },
  {
   "cell_type": "markdown",
   "id": "9294649f",
   "metadata": {},
   "source": [
    "And we can check for membership of this `container.values()`:"
   ]
  },
  {
   "cell_type": "code",
   "execution_count": 68,
   "id": "27b891b5",
   "metadata": {},
   "outputs": [
    {
     "data": {
      "text/plain": [
       "True"
      ]
     },
     "execution_count": 68,
     "metadata": {},
     "output_type": "execute_result"
    }
   ],
   "source": [
    "'Global' in container.values()"
   ]
  },
  {
   "cell_type": "markdown",
   "id": "9a6c280b",
   "metadata": {},
   "source": [
    "So now we can use this in our conditional statement:"
   ]
  },
  {
   "cell_type": "code",
   "execution_count": 69,
   "id": "701adef3",
   "metadata": {},
   "outputs": [
    {
     "name": "stdout",
     "output_type": "stream",
     "text": [
      "All welcome!\n"
     ]
    }
   ],
   "source": [
    "if 'Global' in container.values():\n",
    "    print('All welcome!')\n",
    "else:\n",
    "    print('https://code.agilescientific.com/community/')"
   ]
  },
  {
   "cell_type": "code",
   "execution_count": null,
   "id": "4210e44e",
   "metadata": {},
   "outputs": [],
   "source": []
  },
  {
   "cell_type": "code",
   "execution_count": 70,
   "id": "01d04c0a",
   "metadata": {
    "tags": [
     "hide"
    ]
   },
   "outputs": [
    {
     "name": "stdout",
     "output_type": "stream",
     "text": [
      "Welcome to Transform 2022!\n"
     ]
    }
   ],
   "source": [
    "# Build this up - string concatenation and augmented operator\n",
    "\n",
    "message = ''\n",
    "if word == 'python':\n",
    "    message = message + 'Welcome'\n",
    "if 'Global' in container.values():\n",
    "    message += ' to Transform 2022!'\n",
    "    \n",
    "print(message)"
   ]
  },
  {
   "cell_type": "markdown",
   "id": "1bc7d173",
   "metadata": {},
   "source": [
    "What does this look like with a geological example?"
   ]
  },
  {
   "cell_type": "code",
   "execution_count": null,
   "id": "41198ec9",
   "metadata": {},
   "outputs": [],
   "source": []
  },
  {
   "cell_type": "code",
   "execution_count": 71,
   "id": "1d4ec057",
   "metadata": {
    "tags": [
     "hide"
    ]
   },
   "outputs": [
    {
     "data": {
      "text/plain": [
       "'Medium'"
      ]
     },
     "execution_count": 71,
     "metadata": {},
     "output_type": "execute_result"
    }
   ],
   "source": [
    "porosity = 0.23\n",
    "\n",
    "if porosity >= 0.3:\n",
    "    reservoir = 'Good'\n",
    "elif 0.15 < porosity < 0.3:\n",
    "    reservoir = 'Medium'\n",
    "else:\n",
    "    reservoir = 'Poor'\n",
    "\n",
    "reservoir"
   ]
  },
  {
   "cell_type": "markdown",
   "id": "4f0a05c7",
   "metadata": {},
   "source": [
    "## Say that again?\n",
    "- loops in python (`for`, list comprehensions)\n",
    "\n",
    "One of the main advantages of computers is the ability to repeat tedious tasks efficiently. Let us first load some data, we will use [`numpy`](https://numpy.org/) for this:"
   ]
  },
  {
   "cell_type": "code",
   "execution_count": 72,
   "id": "1fa3869f",
   "metadata": {},
   "outputs": [],
   "source": [
    "import numpy as np"
   ]
  },
  {
   "cell_type": "code",
   "execution_count": 73,
   "id": "cd53dbcc",
   "metadata": {},
   "outputs": [
    {
     "name": "stdout",
     "output_type": "stream",
     "text": [
      "(71, 4)\n",
      "(71,)\n"
     ]
    }
   ],
   "source": [
    "data = np.load('./data/GR-NPHI-RHOB-DT.npy')\n",
    "print(data.shape)\n",
    "nphi = data[:,1]\n",
    "print(nphi.shape)"
   ]
  },
  {
   "cell_type": "code",
   "execution_count": 74,
   "id": "03b0cbe1",
   "metadata": {},
   "outputs": [
    {
     "data": {
      "text/plain": [
       "array([0.2455, 0.2432, 0.2406, 0.2393, 0.2416, 0.2294, 0.2516, 0.2543,\n",
       "       0.2299, 0.2547, 0.2708, 0.2583, 0.237 , 0.2541, 0.2331, 0.2469,\n",
       "       0.2529, 0.2341, 0.2251, 0.2293, 0.2193, 0.2134, 0.2422, 0.2436,\n",
       "       0.2024, 0.2314, 0.2373, 0.2112, 0.2358, 0.2278, 0.205 , 0.2283,\n",
       "       0.2436, 0.1864, 0.2222, 0.2115, 0.2033, 0.2279, 0.1988, 0.2214,\n",
       "       0.2361, 0.2339, 0.2301, 0.226 , 0.2365, 0.2512, 0.2186, 0.2294,\n",
       "       0.2348, 0.2416, 0.2434, 0.2178, 0.2229, 0.2185, 0.2268, 0.2256,\n",
       "       0.2155, 0.2351, 0.2216, 0.2042, 0.2133, 0.2411, 0.221 , 0.2219,\n",
       "       0.22  , 0.2361, 0.2378, 0.2233, 0.2122, 0.2439, 0.2273])"
      ]
     },
     "execution_count": 74,
     "metadata": {},
     "output_type": "execute_result"
    }
   ],
   "source": [
    "nphi"
   ]
  },
  {
   "cell_type": "code",
   "execution_count": null,
   "id": "bbd9f78e",
   "metadata": {},
   "outputs": [],
   "source": []
  },
  {
   "cell_type": "code",
   "execution_count": 75,
   "id": "7e5f543a",
   "metadata": {
    "tags": [
     "hide"
    ]
   },
   "outputs": [
    {
     "name": "stdout",
     "output_type": "stream",
     "text": [
      "0.24550000004046355\n",
      "0.2432000000221169\n",
      "0.2405999999336257\n",
      "0.2392999999883031\n",
      "0.24160000002507376\n"
     ]
    }
   ],
   "source": [
    "for porosity in nphi[:5]: # !! we only use the first 5 porosities to test our code (using a slice)\n",
    "    print(porosity)"
   ]
  },
  {
   "cell_type": "code",
   "execution_count": 76,
   "id": "a158fdfd",
   "metadata": {},
   "outputs": [
    {
     "data": {
      "text/plain": [
       "<matplotlib.collections.LineCollection at 0x7f774278faf0>"
      ]
     },
     "execution_count": 76,
     "metadata": {},
     "output_type": "execute_result"
    },
    {
     "data": {
      "image/png": "[encoded data removed]",
      "text/plain": [
       "<Figure size 432x288 with 1 Axes>"
      ]
     },
     "metadata": {
      "needs_background": "light"
     },
     "output_type": "display_data"
    }
   ],
   "source": [
    "import matplotlib.pyplot as plt\n",
    "plt.plot(nphi)\n",
    "plt.hlines(0.24, 0, 70, color='r')\n",
    "plt.hlines(0.22, 0, 70, color='r')"
   ]
  },
  {
   "cell_type": "code",
   "execution_count": 77,
   "id": "dabc5b9d",
   "metadata": {
    "tags": [
     "hide"
    ]
   },
   "outputs": [
    {
     "data": {
      "text/plain": [
       "'Medium'"
      ]
     },
     "execution_count": 77,
     "metadata": {},
     "output_type": "execute_result"
    }
   ],
   "source": [
    "porosity = 0.23\n",
    "\n",
    "if porosity >= 0.24:\n",
    "    reservoir = 'Good'\n",
    "elif 0.22 < porosity < 0.24:\n",
    "    reservoir = 'Medium'\n",
    "else:\n",
    "    reservoir = 'Poor'\n",
    "\n",
    "reservoir"
   ]
  },
  {
   "cell_type": "code",
   "execution_count": 78,
   "id": "8206861d",
   "metadata": {
    "tags": [
     "hide"
    ]
   },
   "outputs": [
    {
     "name": "stdout",
     "output_type": "stream",
     "text": [
      "Good\n",
      "Good\n",
      "Good\n",
      "Medium\n",
      "Good\n"
     ]
    }
   ],
   "source": [
    "for porosity in nphi[:5]:\n",
    "    if porosity >= 0.24:\n",
    "        reservoir = 'Good'\n",
    "    elif 0.22 < porosity < 0.24:\n",
    "        reservoir = 'Medium'\n",
    "    else:\n",
    "        reservoir = 'Poor'\n",
    "    print(reservoir)"
   ]
  },
  {
   "cell_type": "code",
   "execution_count": 79,
   "id": "bb81a9f3",
   "metadata": {
    "tags": [
     "hide"
    ]
   },
   "outputs": [
    {
     "data": {
      "text/plain": [
       "7"
      ]
     },
     "execution_count": 79,
     "metadata": {},
     "output_type": "execute_result"
    }
   ],
   "source": [
    "good_reservoir_count = 0\n",
    "\n",
    "for porosity in nphi[:10]:\n",
    "    if porosity >= 0.24:\n",
    "        good_reservoir_count += 1\n",
    "\n",
    "good_reservoir_count"
   ]
  },
  {
   "cell_type": "code",
   "execution_count": 80,
   "id": "58d4eaa3",
   "metadata": {
    "tags": [
     "hide"
    ]
   },
   "outputs": [
    {
     "data": {
      "text/plain": [
       "20"
      ]
     },
     "execution_count": 80,
     "metadata": {},
     "output_type": "execute_result"
    }
   ],
   "source": [
    "good_reservoir_count = 0\n",
    "\n",
    "for porosity in nphi:\n",
    "    if porosity >= 0.24:\n",
    "        good_reservoir_count += 1\n",
    "\n",
    "good_reservoir_count"
   ]
  },
  {
   "cell_type": "code",
   "execution_count": 81,
   "id": "9b070145",
   "metadata": {
    "tags": [
     "hide"
    ]
   },
   "outputs": [
    {
     "data": {
      "text/plain": [
       "20"
      ]
     },
     "execution_count": 81,
     "metadata": {},
     "output_type": "execute_result"
    }
   ],
   "source": [
    "# IGNORE this if it's too much of a stretch!\n",
    "good_resevoir_lc = sum([1 for poro in nphi if poro > 0.24])\n",
    "good_resevoir_lc"
   ]
  },
  {
   "cell_type": "markdown",
   "id": "b58007da",
   "metadata": {},
   "source": [
    "## An image speaks a thousand words\n",
    "\n",
    "The [python-visualization-landscape](https://github.com/rougier/python-visualization-landscape) is vast and can be intimidating, no doubt you'll see many great examples during Transform 2022, but the place to start is usually [matplotlib](https://matplotlib.org/stable/users/index.html), you can reach the docs directly from with the jupyter notebook:\n",
    "\n",
    "![matplotlib help](./images/notebook_help_dropdown.png)"
   ]
  },
  {
   "cell_type": "code",
   "execution_count": 82,
   "id": "0160ddec",
   "metadata": {},
   "outputs": [],
   "source": [
    "import matplotlib.pyplot as plt"
   ]
  },
  {
   "cell_type": "code",
   "execution_count": null,
   "id": "2adda117",
   "metadata": {},
   "outputs": [],
   "source": []
  },
  {
   "cell_type": "code",
   "execution_count": 83,
   "id": "153af23f",
   "metadata": {
    "tags": [
     "hide"
    ]
   },
   "outputs": [
    {
     "data": {
      "text/plain": [
       "[<matplotlib.lines.Line2D at 0x7f77426805b0>]"
      ]
     },
     "execution_count": 83,
     "metadata": {},
     "output_type": "execute_result"
    },
    {
     "data": {
      "image/png": "[encoded data removed]",
      "text/plain": [
       "<Figure size 432x288 with 1 Axes>"
      ]
     },
     "metadata": {
      "needs_background": "light"
     },
     "output_type": "display_data"
    }
   ],
   "source": [
    "plt.plot(nphi)"
   ]
  },
  {
   "cell_type": "code",
   "execution_count": 84,
   "id": "4233a5a3",
   "metadata": {
    "tags": [
     "hide"
    ]
   },
   "outputs": [
    {
     "data": {
      "text/plain": [
       "[<matplotlib.lines.Line2D at 0x7f77425ef610>]"
      ]
     },
     "execution_count": 84,
     "metadata": {},
     "output_type": "execute_result"
    },
    {
     "data": {
      "image/png": "[encoded data removed]",
      "text/plain": [
       "<Figure size 432x288 with 1 Axes>"
      ]
     },
     "metadata": {
      "needs_background": "light"
     },
     "output_type": "display_data"
    }
   ],
   "source": [
    "plt.plot(nphi, 'o-', c='g')"
   ]
  },
  {
   "cell_type": "code",
   "execution_count": 85,
   "id": "db009d87",
   "metadata": {
    "tags": [
     "hide"
    ]
   },
   "outputs": [
    {
     "data": {
      "image/png": "[encoded data removed]",
      "text/plain": [
       "<Figure size 432x288 with 1 Axes>"
      ]
     },
     "metadata": {
      "needs_background": "light"
     },
     "output_type": "display_data"
    }
   ],
   "source": [
    "fig, ax = plt.subplots()\n",
    "\n",
    "ax.plot(nphi, 'o-', c='g', lw=0.4, markersize=2)\n",
    "ax.set_ylabel('NPHI')\n",
    "ax.set_xlabel('Sample number')\n",
    "ax.set_title('Simple Porosity plot')\n",
    "ax.grid(alpha=0.4)"
   ]
  },
  {
   "cell_type": "markdown",
   "id": "2be2b07c",
   "metadata": {},
   "source": [
    "## Wrap it up and do it again\n",
    "\n",
    "Part of the beauty of code is its reusabilty, we've used functions already:"
   ]
  },
  {
   "cell_type": "code",
   "execution_count": 86,
   "id": "7e3ba462",
   "metadata": {},
   "outputs": [
    {
     "data": {
      "text/plain": [
       "builtin_function_or_method"
      ]
     },
     "execution_count": 86,
     "metadata": {},
     "output_type": "execute_result"
    }
   ],
   "source": [
    "type(print)"
   ]
  },
  {
   "cell_type": "code",
   "execution_count": 87,
   "id": "b362e30e",
   "metadata": {},
   "outputs": [
    {
     "data": {
      "text/plain": [
       "6"
      ]
     },
     "execution_count": 87,
     "metadata": {},
     "output_type": "execute_result"
    }
   ],
   "source": [
    "sum([1, 2, 3])"
   ]
  },
  {
   "cell_type": "code",
   "execution_count": 88,
   "id": "e01b36a0",
   "metadata": {},
   "outputs": [],
   "source": [
    "# using plt.scatter\n",
    "\n"
   ]
  },
  {
   "cell_type": "code",
   "execution_count": 89,
   "id": "08ea6b88",
   "metadata": {
    "tags": [
     "hide"
    ]
   },
   "outputs": [
    {
     "data": {
      "text/plain": [
       "<matplotlib.collections.PathCollection at 0x7f7742537700>"
      ]
     },
     "execution_count": 89,
     "metadata": {},
     "output_type": "execute_result"
    },
    {
     "data": {
      "image/png": "[encoded data removed]",
      "text/plain": [
       "<Figure size 432x288 with 1 Axes>"
      ]
     },
     "metadata": {
      "needs_background": "light"
     },
     "output_type": "display_data"
    }
   ],
   "source": [
    "xs = [1, 2, 3, 4, 5, 6, 7, 8, 9, 10]\n",
    "x2 = [x**2 for x in xs]\n",
    "plt.scatter(xs, x2, c='r')"
   ]
  },
  {
   "cell_type": "code",
   "execution_count": 90,
   "id": "62089d99",
   "metadata": {},
   "outputs": [],
   "source": [
    "# writing our own simple function\n",
    "\n"
   ]
  },
  {
   "cell_type": "code",
   "execution_count": 91,
   "id": "328292b6",
   "metadata": {
    "tags": [
     "hide"
    ]
   },
   "outputs": [],
   "source": [
    "def my_adder(a, b):\n",
    "    \"\"\"Add two numbers.\"\"\"\n",
    "    return a + b"
   ]
  },
  {
   "cell_type": "code",
   "execution_count": 92,
   "id": "c626aa0e",
   "metadata": {},
   "outputs": [],
   "source": [
    "my_adder?"
   ]
  },
  {
   "cell_type": "code",
   "execution_count": 93,
   "id": "d41fffca",
   "metadata": {},
   "outputs": [
    {
     "data": {
      "text/plain": [
       "143"
      ]
     },
     "execution_count": 93,
     "metadata": {},
     "output_type": "execute_result"
    }
   ],
   "source": [
    "my_adder(45, 98)"
   ]
  },
  {
   "cell_type": "markdown",
   "id": "5c455843",
   "metadata": {},
   "source": [
    "### Writing actual equations in python\n",
    "\n",
    "Remember this equation?\n",
    "$$\\rho = \\alpha {V_P}^{\\beta}$$\n",
    "\n",
    "Let's turn it into a python function:"
   ]
  },
  {
   "cell_type": "code",
   "execution_count": null,
   "id": "22596ab9",
   "metadata": {},
   "outputs": [],
   "source": []
  },
  {
   "cell_type": "code",
   "execution_count": 94,
   "id": "b8177562",
   "metadata": {
    "tags": [
     "hide"
    ]
   },
   "outputs": [],
   "source": [
    "def gardner(vp, alpha=310, beta=0.25):\n",
    "    \"\"\"Evaluate gardner's relation.\n",
    "    Args:\n",
    "        vp (float): P-wave velocity\n",
    "        alpha (float-like): alpha scalar\n",
    "        beta (float-like): beta exponent\n",
    "    Returns:\n",
    "        rho (float): density\n",
    "    Source: https://subsurfwiki.org/wiki/Gardner%27s_equation\n",
    "    \"\"\"\n",
    "    return alpha * vp**beta"
   ]
  },
  {
   "cell_type": "code",
   "execution_count": 95,
   "id": "8d4bd537",
   "metadata": {},
   "outputs": [
    {
     "data": {
      "text/plain": [
       "2248.147169062099"
      ]
     },
     "execution_count": 95,
     "metadata": {},
     "output_type": "execute_result"
    }
   ],
   "source": [
    "gardner(2766)"
   ]
  },
  {
   "cell_type": "markdown",
   "id": "e0e7fa09",
   "metadata": {},
   "source": [
    "## Where to next?\n",
    "\n",
    "- Useful (and approachable) documentation\n",
    " - [python.org/tutorial](https://docs.python.org/3/tutorial/index.html)\n",
    " - [matplotlib gallery](https://matplotlib.org/stable/gallery/index.html)\n",
    " - [w3schools/python](https://www.w3schools.com/python/)\n",
    "- Books\n",
    " - [Python Crash Course, 2nd Edition](https://www.amazon.com/Python-Crash-Course-2nd-Edition/dp/1593279280)\n",
    " - [Automate the Boring Stuff with Python, 2nd Edition](https://automatetheboringstuff.com/2e/chapter0/)\n",
    " - [Learning Python: Powerful Object-Oriented Programming](https://www.amazon.com/Learning-Python-Powerful-Object-Oriented-Programming-ebook/dp/B00DDZPC9S)\n",
    "- Cheatsheets\n",
    " - [pythoncheatsheet](https://www.pythoncheatsheet.org/)\n",
    " - [Basic cheatseet](https://agilescientific.com/blog/2011/1/14/basic-cheatsheet.html)\n",
    " - [Geophysics cheatsheet](https://agilescientific.com/blog/2011/1/31/geophysics-cheatsheet.html)\n",
    " - [Rock physics cheatsheet](https://agilescientific.com/blog/2011/3/7/rock-physics-cheatsheet.html)\n",
    " - [Petrophysics cheatsheet](https://agilescientific.com/blog/2011/7/25/petrophysics-cheatsheet.html)\n",
    " - [Petroleum cheatsheet](https://agilescientific.com/blog/2011/12/12/petroleum-cheatsheet.html)\n",
    "- Transform youtube tutorials\n",
    " - [Preparing for Transform 2020](https://youtube.com/playlist?list=PLgLft9vxdduAW-jmhYqXvtfGYJS6v2FjM), setup guides for Windows and Linux\n",
    " - [Learning Python for Geoscience](https://youtube.com/playlist?list=PLgLft9vxdduDm3W6i3qjT7s-ne4oTAvks), a playlist of setup instructions and tutorials covering introductions to python, python subsurface tools, geospatial analysis, statistics and data analysis and well data exploration.\n",
    " - [Transform 2021](https://youtube.com/playlist?list=PLgLft9vxdduCESA3xAo5Ts_ziO8vZAFG1) all the content from the 2021 edition!\n",
    " - [Transform 2020](https://youtube.com/playlist?list=PLgLft9vxdduD8Zydz4dRJqIzCWDlPKITC) all the content from the 2020 edition!\n",
    "- **Your own awesome project!** The best way to learn anything is through practice, so now you should think of a task you perform at work on in your hobbies that you can break down into programmable steps, then code it up in python little by little, and before you know it, you'll be a pythonista!\n",
    "\n",
    "<div>\n",
    "<img src=\"https://avatars1.githubusercontent.com/u/1692321?s=50\"><p style=\"text-align:center\">© Agile Geoscience 2021</p>\n",
    "</div>"
   ]
  },
  {
   "cell_type": "code",
   "execution_count": null,
   "id": "afa0653e",
   "metadata": {},
   "outputs": [],
   "source": []
  }
 ],
 "metadata": {
  "celltoolbar": "Tags",
  "kernelspec": {
   "display_name": "geocomp",
   "language": "python",
   "name": "geocomp"
  },
  "language_info": {
   "codemirror_mode": {
    "name": "ipython",
    "version": 3
   },
   "file_extension": ".py",
   "mimetype": "text/x-python",
   "name": "python",
   "nbconvert_exporter": "python",
   "pygments_lexer": "ipython3",
   "version": "3.9.7"
  }
 },
 "nbformat": 4,
 "nbformat_minor": 5
}
