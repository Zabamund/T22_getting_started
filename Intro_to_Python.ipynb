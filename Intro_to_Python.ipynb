{
 "cells": [
  {
   "cell_type": "markdown",
   "id": "02cbe208",
   "metadata": {},
   "source": [
    "# First a quick tour of the jupyter notebook\n",
    "\n",
    "- Shortcuts\n",
    "- Getting help\n",
    "- Cell types\n",
    "- Executing cells\n",
    "\n",
    "### Formatted text\n",
    "\n",
    "We can write formated text in Markdown cells (`Esc + m`) and there are plenty of resources available:\n",
    "\n",
    "- The original Markdown page by John Gruber:\n",
    "[daringfireball.net/projects/markdown](https://daringfireball.net/projects/markdown/)\n",
    "- Getting started with markdown:\n",
    "[markdownguide.org/getting-started](https://www.markdownguide.org/getting-started/)\n",
    "- Cheat sheet:\n",
    "[markdownguide.org/cheat-sheet](https://www.markdownguide.org/cheat-sheet)"
   ]
  },
  {
   "cell_type": "markdown",
   "id": "cacba190",
   "metadata": {},
   "source": [
    "#### H4-heading\n",
    "\n",
    "**Unordered list**\n",
    "- item 1\n",
    "- item 2\n",
    "  - sub-item a\n",
    "  - sub-item b\n",
    "- item 3\n",
    "\n",
    "**Ordered list**\n",
    "1. first\n",
    "2. second\n",
    "3. third\n",
    "\n",
    "*italic*, **bold**, <ins>underline (not strictly markdown but works in the notebook)</ins>\n",
    "\n",
    "> quoted text\n",
    "\n",
    "\n",
    "| Syntax | Description |\n",
    "| ----------- | ----------- |\n",
    "| Header | Title |\n",
    "| Paragraph | Text |"
   ]
  },
  {
   "cell_type": "markdown",
   "id": "687e6504",
   "metadata": {},
   "source": [
    "### Equations\n",
    "Mathematical expressions in notebooks use LaTeX:\n",
    "[overleaf.com/learn/latex/Mathematical_expressions](https://www.overleaf.com/learn/latex/Mathematical_expressions)\n",
    "\n",
    "Inline [Gardner's equation](https://subsurfwiki.org/wiki/Gardner%27s_equation) $\\rho = \\alpha {V_P}^{\\beta}$\n",
    "\n",
    "Centered equation [Darcy'y Law](https://en.wikipedia.org/wiki/Darcy%27s_law)\n",
    "$$q = -\\frac{k}{\\mu L} \\Delta p$$"
   ]
  },
  {
   "cell_type": "markdown",
   "id": "e42023c4",
   "metadata": {},
   "source": [
    "### Code\n",
    "\n",
    "in-line `code`\n",
    "\n",
    "and multiline formatted code:\n",
    "\n",
    "```python\n",
    "# Some formatted python code\n",
    "\n",
    "def say_hi():\n",
    "    \"\"\"Just print hello!\"\"\"\n",
    "    print('Hello!')\n",
    "    return None\n",
    "```"
   ]
  },
  {
   "cell_type": "markdown",
   "id": "9d5275f9",
   "metadata": {},
   "source": [
    "### Code output"
   ]
  },
  {
   "cell_type": "code",
   "execution_count": 1,
   "id": "6d96c478",
   "metadata": {},
   "outputs": [
    {
     "name": "stdout",
     "output_type": "stream",
     "text": [
      "Hello Transfrom 2022!\n"
     ]
    }
   ],
   "source": [
    "print('Hello Transfrom 2022!')"
   ]
  },
  {
   "cell_type": "markdown",
   "id": "1a1728b1",
   "metadata": {},
   "source": [
    "### Images\n",
    "\n",
    "![Transform 2022](./images/T21_shirt_viridis.png)"
   ]
  },
  {
   "cell_type": "markdown",
   "id": "3df942b3",
   "metadata": {},
   "source": [
    "# A gentle introduction to python\n",
    "\n",
    "## Things you already know\n",
    "### mathematical operators"
   ]
  },
  {
   "cell_type": "code",
   "execution_count": 2,
   "id": "0d521ea5",
   "metadata": {},
   "outputs": [
    {
     "data": {
      "text/plain": [
       "5"
      ]
     },
     "execution_count": 2,
     "metadata": {},
     "output_type": "execute_result"
    }
   ],
   "source": [
    "# Press shift+enter to execute a cell\n",
    "2 + 3"
   ]
  },
  {
   "cell_type": "code",
   "execution_count": 3,
   "id": "e0be5c96",
   "metadata": {},
   "outputs": [
    {
     "data": {
      "text/plain": [
       "5.5"
      ]
     },
     "execution_count": 3,
     "metadata": {},
     "output_type": "execute_result"
    }
   ],
   "source": [
    "2 + 3.5"
   ]
  },
  {
   "cell_type": "code",
   "execution_count": 4,
   "id": "10e58eb0",
   "metadata": {},
   "outputs": [
    {
     "data": {
      "text/plain": [
       "-61"
      ]
     },
     "execution_count": 4,
     "metadata": {},
     "output_type": "execute_result"
    }
   ],
   "source": [
    "15 - 76"
   ]
  },
  {
   "cell_type": "code",
   "execution_count": 5,
   "id": "fcfc6dbf",
   "metadata": {},
   "outputs": [
    {
     "data": {
      "text/plain": [
       "18.0"
      ]
     },
     "execution_count": 5,
     "metadata": {},
     "output_type": "execute_result"
    }
   ],
   "source": [
    "45 * 0.4"
   ]
  },
  {
   "cell_type": "code",
   "execution_count": 6,
   "id": "89f9c603",
   "metadata": {},
   "outputs": [
    {
     "data": {
      "text/plain": [
       "11.5"
      ]
     },
     "execution_count": 6,
     "metadata": {},
     "output_type": "execute_result"
    }
   ],
   "source": [
    "23 / 2"
   ]
  },
  {
   "cell_type": "code",
   "execution_count": 7,
   "id": "b2dc2da9",
   "metadata": {},
   "outputs": [
    {
     "data": {
      "text/plain": [
       "11"
      ]
     },
     "execution_count": 7,
     "metadata": {},
     "output_type": "execute_result"
    }
   ],
   "source": [
    "# Long division\n",
    "23 // 2"
   ]
  },
  {
   "cell_type": "code",
   "execution_count": 8,
   "id": "b3142117",
   "metadata": {},
   "outputs": [
    {
     "data": {
      "text/plain": [
       "1"
      ]
     },
     "execution_count": 8,
     "metadata": {},
     "output_type": "execute_result"
    }
   ],
   "source": [
    "# Remainder of long division: the \"modulo operator\"\n",
    "23 % 2"
   ]
  },
  {
   "cell_type": "code",
   "execution_count": 9,
   "id": "02cba14c",
   "metadata": {},
   "outputs": [
    {
     "data": {
      "text/plain": [
       "8"
      ]
     },
     "execution_count": 9,
     "metadata": {},
     "output_type": "execute_result"
    }
   ],
   "source": [
    "2**3"
   ]
  },
  {
   "cell_type": "markdown",
   "id": "60b979ab",
   "metadata": {},
   "source": [
    "### logical operators"
   ]
  },
  {
   "cell_type": "code",
   "execution_count": 10,
   "id": "5886bded",
   "metadata": {},
   "outputs": [
    {
     "data": {
      "text/plain": [
       "True"
      ]
     },
     "execution_count": 10,
     "metadata": {},
     "output_type": "execute_result"
    }
   ],
   "source": [
    "23 > 4"
   ]
  },
  {
   "cell_type": "code",
   "execution_count": 11,
   "id": "cbcbfe14",
   "metadata": {},
   "outputs": [
    {
     "data": {
      "text/plain": [
       "True"
      ]
     },
     "execution_count": 11,
     "metadata": {},
     "output_type": "execute_result"
    }
   ],
   "source": [
    "53.4 < 100"
   ]
  },
  {
   "cell_type": "code",
   "execution_count": 12,
   "id": "4626b375",
   "metadata": {},
   "outputs": [
    {
     "data": {
      "text/plain": [
       "True"
      ]
     },
     "execution_count": 12,
     "metadata": {},
     "output_type": "execute_result"
    }
   ],
   "source": [
    "100 <= 100"
   ]
  },
  {
   "cell_type": "code",
   "execution_count": 13,
   "id": "0a9ef1a9",
   "metadata": {},
   "outputs": [
    {
     "data": {
      "text/plain": [
       "True"
      ]
     },
     "execution_count": 13,
     "metadata": {},
     "output_type": "execute_result"
    }
   ],
   "source": [
    "200 >= 199"
   ]
  },
  {
   "cell_type": "code",
   "execution_count": 14,
   "id": "9584a75f",
   "metadata": {},
   "outputs": [
    {
     "data": {
      "text/plain": [
       "True"
      ]
     },
     "execution_count": 14,
     "metadata": {},
     "output_type": "execute_result"
    }
   ],
   "source": [
    "13 == 13"
   ]
  },
  {
   "cell_type": "code",
   "execution_count": 15,
   "id": "f3d5a34f",
   "metadata": {},
   "outputs": [
    {
     "data": {
      "text/plain": [
       "True"
      ]
     },
     "execution_count": 15,
     "metadata": {},
     "output_type": "execute_result"
    }
   ],
   "source": [
    "43 != 49"
   ]
  },
  {
   "cell_type": "code",
   "execution_count": 16,
   "id": "10f157af",
   "metadata": {},
   "outputs": [
    {
     "data": {
      "text/plain": [
       "False"
      ]
     },
     "execution_count": 16,
     "metadata": {},
     "output_type": "execute_result"
    }
   ],
   "source": [
    "# Combining them\n",
    "11 % 2 == 0"
   ]
  },
  {
   "cell_type": "code",
   "execution_count": 17,
   "id": "c7d24875",
   "metadata": {},
   "outputs": [
    {
     "data": {
      "text/plain": [
       "False"
      ]
     },
     "execution_count": 17,
     "metadata": {},
     "output_type": "execute_result"
    }
   ],
   "source": [
    "(4 > 2) and (50 <= 10)"
   ]
  },
  {
   "cell_type": "code",
   "execution_count": 18,
   "id": "9527c945",
   "metadata": {},
   "outputs": [
    {
     "data": {
      "text/plain": [
       "True"
      ]
     },
     "execution_count": 18,
     "metadata": {},
     "output_type": "execute_result"
    }
   ],
   "source": [
    "(4 > 2) or (50 <= 10)"
   ]
  },
  {
   "cell_type": "markdown",
   "id": "76545ed4",
   "metadata": {},
   "source": [
    "### Assignment"
   ]
  },
  {
   "cell_type": "code",
   "execution_count": 19,
   "id": "84d909ef",
   "metadata": {},
   "outputs": [],
   "source": [
    "x = 10\n",
    "# no output!"
   ]
  },
  {
   "cell_type": "code",
   "execution_count": 20,
   "id": "c78ddd2c",
   "metadata": {},
   "outputs": [
    {
     "data": {
      "text/plain": [
       "10"
      ]
     },
     "execution_count": 20,
     "metadata": {},
     "output_type": "execute_result"
    }
   ],
   "source": [
    "x"
   ]
  },
  {
   "cell_type": "markdown",
   "id": "e0b2e973",
   "metadata": {},
   "source": [
    "## Stepping sideways out of your comfort zone\n",
    "\n",
    "Words and collections in python (i.e. `str`, `list`, `dict`)\n",
    "\n",
    "### `str`"
   ]
  },
  {
   "cell_type": "code",
   "execution_count": 21,
   "id": "12d57bcc",
   "metadata": {},
   "outputs": [
    {
     "data": {
      "text/plain": [
       "str"
      ]
     },
     "execution_count": 21,
     "metadata": {},
     "output_type": "execute_result"
    }
   ],
   "source": [
    "word = 'python'\n",
    "type(word)"
   ]
  },
  {
   "cell_type": "code",
   "execution_count": 22,
   "id": "73f420cc",
   "metadata": {},
   "outputs": [
    {
     "data": {
      "text/plain": [
       "'python'"
      ]
     },
     "execution_count": 22,
     "metadata": {},
     "output_type": "execute_result"
    }
   ],
   "source": [
    "word"
   ]
  },
  {
   "cell_type": "code",
   "execution_count": 23,
   "id": "665aeea7",
   "metadata": {},
   "outputs": [
    {
     "data": {
      "text/plain": [
       "'same thing'"
      ]
     },
     "execution_count": 23,
     "metadata": {},
     "output_type": "execute_result"
    }
   ],
   "source": [
    "double_quotes = \"same thing\"\n",
    "double_quotes"
   ]
  },
  {
   "cell_type": "code",
   "execution_count": 24,
   "id": "29e0ca04",
   "metadata": {},
   "outputs": [
    {
     "data": {
      "text/plain": [
       "6"
      ]
     },
     "execution_count": 24,
     "metadata": {},
     "output_type": "execute_result"
    }
   ],
   "source": [
    "len(word)"
   ]
  },
  {
   "cell_type": "code",
   "execution_count": 25,
   "id": "a0c3f303",
   "metadata": {},
   "outputs": [
    {
     "data": {
      "text/plain": [
       "'PYTHON'"
      ]
     },
     "execution_count": 25,
     "metadata": {},
     "output_type": "execute_result"
    }
   ],
   "source": [
    "word.upper()"
   ]
  },
  {
   "cell_type": "code",
   "execution_count": 26,
   "id": "c3ed4f90",
   "metadata": {},
   "outputs": [
    {
     "data": {
      "text/plain": [
       "'python'"
      ]
     },
     "execution_count": 26,
     "metadata": {},
     "output_type": "execute_result"
    }
   ],
   "source": [
    "word"
   ]
  },
  {
   "cell_type": "markdown",
   "id": "d8fda5bd",
   "metadata": {},
   "source": [
    "### `list`"
   ]
  },
  {
   "cell_type": "code",
   "execution_count": 27,
   "id": "3ed2eb40",
   "metadata": {},
   "outputs": [],
   "source": [
    "word_list = ['python', 'geology', 'programming', 'code', 'outcrop']\n",
    "# again, no output, assignment is silent"
   ]
  },
  {
   "cell_type": "code",
   "execution_count": 28,
   "id": "211d382d",
   "metadata": {},
   "outputs": [
    {
     "data": {
      "text/plain": [
       "list"
      ]
     },
     "execution_count": 28,
     "metadata": {},
     "output_type": "execute_result"
    }
   ],
   "source": [
    "type(word_list)"
   ]
  },
  {
   "cell_type": "code",
   "execution_count": 29,
   "id": "8637e84e",
   "metadata": {},
   "outputs": [
    {
     "data": {
      "text/plain": [
       "5"
      ]
     },
     "execution_count": 29,
     "metadata": {},
     "output_type": "execute_result"
    }
   ],
   "source": [
    "len(word_list)"
   ]
  },
  {
   "cell_type": "code",
   "execution_count": 30,
   "id": "af3a1a4b",
   "metadata": {},
   "outputs": [
    {
     "data": {
      "text/plain": [
       "['python', 'geology', 'programming', 'code', 'outcrop']"
      ]
     },
     "execution_count": 30,
     "metadata": {},
     "output_type": "execute_result"
    }
   ],
   "source": [
    "word_list"
   ]
  },
  {
   "cell_type": "code",
   "execution_count": 31,
   "id": "5b2a87db",
   "metadata": {},
   "outputs": [
    {
     "data": {
      "text/plain": [
       "True"
      ]
     },
     "execution_count": 31,
     "metadata": {},
     "output_type": "execute_result"
    }
   ],
   "source": [
    "'geology' in word_list"
   ]
  },
  {
   "cell_type": "code",
   "execution_count": 32,
   "id": "459168ee",
   "metadata": {},
   "outputs": [],
   "source": [
    "word_list.append('mineral')\n",
    "# no output"
   ]
  },
  {
   "cell_type": "code",
   "execution_count": 33,
   "id": "8d3df7d4",
   "metadata": {},
   "outputs": [
    {
     "data": {
      "text/plain": [
       "['python', 'geology', 'programming', 'code', 'outcrop', 'mineral']"
      ]
     },
     "execution_count": 33,
     "metadata": {},
     "output_type": "execute_result"
    }
   ],
   "source": [
    "word_list"
   ]
  },
  {
   "cell_type": "markdown",
   "id": "90bacfd1",
   "metadata": {},
   "source": [
    "## Indexing and slicing\n",
    "\n",
    "We can reach into these collections, there are two main things to remember:\n",
    "\n",
    "0. python starts counting at `0`\n",
    "1. we use square brackets `[]`"
   ]
  },
  {
   "cell_type": "markdown",
   "id": "a10cce85",
   "metadata": {},
   "source": [
    "### Indexing and slicing `str`"
   ]
  },
  {
   "cell_type": "code",
   "execution_count": 34,
   "id": "b642acde",
   "metadata": {},
   "outputs": [
    {
     "data": {
      "text/plain": [
       "6"
      ]
     },
     "execution_count": 34,
     "metadata": {},
     "output_type": "execute_result"
    }
   ],
   "source": [
    "len(word)"
   ]
  },
  {
   "cell_type": "code",
   "execution_count": 35,
   "id": "134b3abf",
   "metadata": {},
   "outputs": [
    {
     "data": {
      "text/plain": [
       "'python'"
      ]
     },
     "execution_count": 35,
     "metadata": {},
     "output_type": "execute_result"
    }
   ],
   "source": [
    "word"
   ]
  },
  {
   "cell_type": "code",
   "execution_count": 36,
   "id": "59bdb00d",
   "metadata": {},
   "outputs": [
    {
     "data": {
      "text/plain": [
       "'p'"
      ]
     },
     "execution_count": 36,
     "metadata": {},
     "output_type": "execute_result"
    }
   ],
   "source": [
    "word[0]"
   ]
  },
  {
   "cell_type": "code",
   "execution_count": 37,
   "id": "3e3562bb",
   "metadata": {},
   "outputs": [
    {
     "data": {
      "text/plain": [
       "'n'"
      ]
     },
     "execution_count": 37,
     "metadata": {},
     "output_type": "execute_result"
    }
   ],
   "source": [
    "word[5]"
   ]
  },
  {
   "cell_type": "code",
   "execution_count": 38,
   "id": "1fa68b6a",
   "metadata": {},
   "outputs": [
    {
     "data": {
      "text/plain": [
       "'pyt'"
      ]
     },
     "execution_count": 38,
     "metadata": {},
     "output_type": "execute_result"
    }
   ],
   "source": [
    "# half-open interval\n",
    "word[0:3]"
   ]
  },
  {
   "cell_type": "markdown",
   "id": "4b926f78",
   "metadata": {},
   "source": [
    "### Indexing and slicing `list`"
   ]
  },
  {
   "cell_type": "code",
   "execution_count": 39,
   "id": "6c9d21f6",
   "metadata": {},
   "outputs": [
    {
     "data": {
      "text/plain": [
       "['python', 'geology', 'programming', 'code', 'outcrop', 'mineral']"
      ]
     },
     "execution_count": 39,
     "metadata": {},
     "output_type": "execute_result"
    }
   ],
   "source": [
    "# same thing with `list`\n",
    "word_list"
   ]
  },
  {
   "cell_type": "code",
   "execution_count": 40,
   "id": "c4858292",
   "metadata": {},
   "outputs": [
    {
     "data": {
      "text/plain": [
       "'python'"
      ]
     },
     "execution_count": 40,
     "metadata": {},
     "output_type": "execute_result"
    }
   ],
   "source": [
    "word_list[0]"
   ]
  },
  {
   "cell_type": "code",
   "execution_count": 41,
   "id": "b09cfe4a",
   "metadata": {},
   "outputs": [
    {
     "data": {
      "text/plain": [
       "'mineral'"
      ]
     },
     "execution_count": 41,
     "metadata": {},
     "output_type": "execute_result"
    }
   ],
   "source": [
    "word_list[-1]"
   ]
  },
  {
   "cell_type": "code",
   "execution_count": 42,
   "id": "bdbda152",
   "metadata": {},
   "outputs": [
    {
     "data": {
      "text/plain": [
       "['outcrop', 'mineral']"
      ]
     },
     "execution_count": 42,
     "metadata": {},
     "output_type": "execute_result"
    }
   ],
   "source": [
    "word_list[4:]"
   ]
  },
  {
   "cell_type": "markdown",
   "id": "40103039",
   "metadata": {},
   "source": [
    "### `dict`"
   ]
  },
  {
   "cell_type": "code",
   "execution_count": 43,
   "id": "08281d6f",
   "metadata": {},
   "outputs": [
    {
     "data": {
      "text/plain": [
       "{'words': ['python', 'geology', 'programming', 'code', 'outcrop', 'mineral'],\n",
       " 'word': 'python',\n",
       " 'transform': 2022}"
      ]
     },
     "execution_count": 43,
     "metadata": {},
     "output_type": "execute_result"
    }
   ],
   "source": [
    "collection = {'words': word_list, 'word': word, 'transform': 2022}\n",
    "collection"
   ]
  },
  {
   "cell_type": "code",
   "execution_count": 44,
   "id": "662ffdf5",
   "metadata": {},
   "outputs": [
    {
     "data": {
      "text/plain": [
       "dict_keys(['words', 'word', 'transform'])"
      ]
     },
     "execution_count": 44,
     "metadata": {},
     "output_type": "execute_result"
    }
   ],
   "source": [
    "collection.keys()"
   ]
  },
  {
   "cell_type": "code",
   "execution_count": 45,
   "id": "4e52c79c",
   "metadata": {},
   "outputs": [
    {
     "data": {
      "text/plain": [
       "dict_values([['python', 'geology', 'programming', 'code', 'outcrop', 'mineral'], 'python', 2022])"
      ]
     },
     "execution_count": 45,
     "metadata": {},
     "output_type": "execute_result"
    }
   ],
   "source": [
    "collection.values()"
   ]
  },
  {
   "cell_type": "code",
   "execution_count": 46,
   "id": "84148a81",
   "metadata": {},
   "outputs": [
    {
     "data": {
      "text/plain": [
       "'python'"
      ]
     },
     "execution_count": 46,
     "metadata": {},
     "output_type": "execute_result"
    }
   ],
   "source": [
    "collection.get('word')"
   ]
  },
  {
   "cell_type": "markdown",
   "id": "4544620f",
   "metadata": {},
   "source": [
    "#### Importing more functions\n",
    "\n",
    "Sometimes we need to reach for some part of python that isn't loaded by default, there are three major ways to import packages:\n",
    "\n",
    "* `import package` -> imports everything. Access things using `package.function()`.\n",
    "* `import package as pkg` -> imports everything with an alias. Accessing things using `pkg.function()`.\n",
    "* `from package import function1, function2` -> import only `function1` and `function2`. Accessed as `function1()` and `function2()`.\n",
    "\n",
    "Here we use the third method to import the `datetime` object:"
   ]
  },
  {
   "cell_type": "code",
   "execution_count": 47,
   "id": "5a2b972f",
   "metadata": {},
   "outputs": [],
   "source": [
    "from datetime import datetime"
   ]
  },
  {
   "cell_type": "code",
   "execution_count": 48,
   "id": "6985aab8",
   "metadata": {},
   "outputs": [],
   "source": [
    "collection.update({'Location': 'Global', 'date': datetime.now().date().isoformat()})"
   ]
  },
  {
   "cell_type": "code",
   "execution_count": 49,
   "id": "b0ad223e",
   "metadata": {},
   "outputs": [
    {
     "data": {
      "text/plain": [
       "{'words': ['python', 'geology', 'programming', 'code', 'outcrop', 'mineral'],\n",
       " 'word': 'python',\n",
       " 'transform': 2022,\n",
       " 'Location': 'Global',\n",
       " 'date': '2022-03-28'}"
      ]
     },
     "execution_count": 49,
     "metadata": {},
     "output_type": "execute_result"
    }
   ],
   "source": [
    "collection"
   ]
  },
  {
   "cell_type": "code",
   "execution_count": 50,
   "id": "d72f125b",
   "metadata": {},
   "outputs": [
    {
     "data": {
      "text/plain": [
       "'2022-03-28'"
      ]
     },
     "execution_count": 50,
     "metadata": {},
     "output_type": "execute_result"
    }
   ],
   "source": [
    "collection['date']"
   ]
  },
  {
   "cell_type": "markdown",
   "id": "2aac3286",
   "metadata": {},
   "source": [
    "### Keying into a `dict`"
   ]
  },
  {
   "cell_type": "code",
   "execution_count": 51,
   "id": "1289adf7",
   "metadata": {},
   "outputs": [
    {
     "data": {
      "text/plain": [
       "dict_keys(['words', 'word', 'transform', 'Location', 'date'])"
      ]
     },
     "execution_count": 51,
     "metadata": {},
     "output_type": "execute_result"
    }
   ],
   "source": [
    "collection.keys()"
   ]
  },
  {
   "cell_type": "code",
   "execution_count": 52,
   "id": "c96c2891",
   "metadata": {},
   "outputs": [
    {
     "data": {
      "text/plain": [
       "'python'"
      ]
     },
     "execution_count": 52,
     "metadata": {},
     "output_type": "execute_result"
    }
   ],
   "source": [
    "collection.get('word')"
   ]
  },
  {
   "cell_type": "code",
   "execution_count": 53,
   "id": "909afc9d",
   "metadata": {},
   "outputs": [
    {
     "data": {
      "text/plain": [
       "'python'"
      ]
     },
     "execution_count": 53,
     "metadata": {},
     "output_type": "execute_result"
    }
   ],
   "source": [
    "collection['word']"
   ]
  },
  {
   "cell_type": "markdown",
   "id": "c3ccceda",
   "metadata": {},
   "source": [
    "## Controlling the flow\n",
    "- `if ... else`\n",
    "\n",
    "We often want to make decision in our code based on conditions, so first we need a `bool`-ean condition:"
   ]
  },
  {
   "cell_type": "code",
   "execution_count": 54,
   "id": "adaf7510",
   "metadata": {},
   "outputs": [
    {
     "data": {
      "text/plain": [
       "True"
      ]
     },
     "execution_count": 54,
     "metadata": {},
     "output_type": "execute_result"
    }
   ],
   "source": [
    "word == 'python'"
   ]
  },
  {
   "cell_type": "code",
   "execution_count": 55,
   "id": "f3ae388a",
   "metadata": {},
   "outputs": [
    {
     "data": {
      "text/plain": [
       "True"
      ]
     },
     "execution_count": 55,
     "metadata": {},
     "output_type": "execute_result"
    }
   ],
   "source": [
    "42 % 2 == 0"
   ]
  },
  {
   "cell_type": "code",
   "execution_count": 56,
   "id": "3cb01977",
   "metadata": {},
   "outputs": [
    {
     "data": {
      "text/plain": [
       "True"
      ]
     },
     "execution_count": 56,
     "metadata": {},
     "output_type": "execute_result"
    }
   ],
   "source": [
    "'Global' in collection.values()"
   ]
  },
  {
   "cell_type": "code",
   "execution_count": 57,
   "id": "a0f3d26b",
   "metadata": {},
   "outputs": [
    {
     "data": {
      "text/plain": [
       "True"
      ]
     },
     "execution_count": 57,
     "metadata": {},
     "output_type": "execute_result"
    }
   ],
   "source": [
    "collection['words'][1] == 'geology'"
   ]
  },
  {
   "cell_type": "markdown",
   "id": "b05a938e",
   "metadata": {},
   "source": [
    "Now we can use these in the basic `if` statement:"
   ]
  },
  {
   "cell_type": "code",
   "execution_count": 58,
   "id": "453a8506",
   "metadata": {},
   "outputs": [
    {
     "name": "stdout",
     "output_type": "stream",
     "text": [
      "Transform 2022\n"
     ]
    }
   ],
   "source": [
    "if word == 'python':\n",
    "    print('Transform 2022')"
   ]
  },
  {
   "cell_type": "code",
   "execution_count": 59,
   "id": "701adef3",
   "metadata": {},
   "outputs": [
    {
     "name": "stdout",
     "output_type": "stream",
     "text": [
      "All welcome!\n"
     ]
    }
   ],
   "source": [
    "if 'Global' in collection.values():\n",
    "    print('All welcome!')\n",
    "else:\n",
    "    print('https://code.agilescientific.com/community/')"
   ]
  },
  {
   "cell_type": "code",
   "execution_count": 60,
   "id": "01d04c0a",
   "metadata": {},
   "outputs": [
    {
     "name": "stdout",
     "output_type": "stream",
     "text": [
      "Welcome to Transform 2022!\n"
     ]
    }
   ],
   "source": [
    "message = ''\n",
    "if word == 'python':\n",
    "    message = message + 'Welcome'\n",
    "if 'Global' in collection.values():\n",
    "    message += ' to Transform 2022!'\n",
    "    \n",
    "print(message)"
   ]
  },
  {
   "cell_type": "markdown",
   "id": "1bc7d173",
   "metadata": {},
   "source": [
    "What does this look like with a geological example?"
   ]
  },
  {
   "cell_type": "code",
   "execution_count": 61,
   "id": "1d4ec057",
   "metadata": {},
   "outputs": [
    {
     "data": {
      "text/plain": [
       "'Medium'"
      ]
     },
     "execution_count": 61,
     "metadata": {},
     "output_type": "execute_result"
    }
   ],
   "source": [
    "porosity = 0.23\n",
    "reservoir = ''\n",
    "\n",
    "if porosity >= 0.3:\n",
    "    reservoir = 'Good'\n",
    "elif 0.15 < porosity < 0.3:\n",
    "    reservoir = 'Medium'\n",
    "else:\n",
    "    reservoir = 'Poor'\n",
    "\n",
    "reservoir"
   ]
  },
  {
   "cell_type": "markdown",
   "id": "4f0a05c7",
   "metadata": {},
   "source": [
    "## Say that again?\n",
    "- loops in python (`for`, list comprehensions)\n",
    "\n",
    "One of the main advantages of computers is the ability to repeat tedious tasks efficiently:"
   ]
  },
  {
   "cell_type": "code",
   "execution_count": 62,
   "id": "916f775a",
   "metadata": {},
   "outputs": [],
   "source": [
    "porosities = [\n",
    "    0.1326,\n",
    "    0.4451,\n",
    "    0.1434,\n",
    "    0.1851,\n",
    "    0.3486,\n",
    "    0.0127,\n",
    "    0.3351,\n",
    "    0.3687,\n",
    "    0.3182,\n",
    "    0.2285,\n",
    "    0.3525,\n",
    "    0.2533,\n",
    "    0.2684,\n",
    "    0.2369,\n",
    "    0.0821,\n",
    "    0.0223,\n",
    "    0.1019,\n",
    "    0.4191,\n",
    "    0.0515,\n",
    "    0.244,\n",
    "    0.4474,\n",
    "    0.1274,\n",
    "    0.1006,\n",
    "    0.2851,\n",
    "    0.166,\n",
    "    0.2602,\n",
    "    0.0037,\n",
    "    0.0638,\n",
    "    0.0199,\n",
    "    0.4118,\n",
    "    0.2416,\n",
    "    0.3124,\n",
    "    0.1079,\n",
    "    0.2309,\n",
    "    0.2739,\n",
    "    0.0823,\n",
    "    0.2907,\n",
    "    0.2291,\n",
    "    0.267,\n",
    "    0.0013,\n",
    "    0.3902,\n",
    "    0.1191,\n",
    "    0.1983,\n",
    "    0.2909,\n",
    "    0.0644,\n",
    "    0.3085,\n",
    "    0.4284,\n",
    "    0.323,\n",
    "    0.1866,\n",
    "    0.0952,\n",
    "    0.1679,\n",
    "    0.4004,\n",
    "    0.0145,\n",
    "    0.1707,\n",
    "    0.2215,\n",
    "    0.2999,\n",
    "    0.3786,\n",
    "    0.2304,\n",
    "    0.0127,\n",
    "    0.4118,\n",
    "    0.1062,\n",
    "    0.0213,\n",
    "    0.4381,\n",
    "    0.0562,\n",
    "    0.4122,\n",
    "    0.4308,\n",
    "    0.3308,\n",
    "    0.3222,\n",
    "    0.2133,\n",
    "    0.3233,\n",
    "    0.469,\n",
    "    0.2526,\n",
    "    0.4715,\n",
    "    0.1956,\n",
    "    0.358,\n",
    "    0.1199,\n",
    "    0.016,\n",
    "    0.2055,\n",
    "    0.2539,\n",
    "    0.4072,\n",
    "    0.2477,\n",
    "    0.4002,\n",
    "    0.227,\n",
    "    0.4479,\n",
    "    0.1503,\n",
    "    0.0448,\n",
    "    0.0414,\n",
    "    0.3757,\n",
    "    0.1239,\n",
    "    0.3469,\n",
    "    0.051,\n",
    "    0.3422,\n",
    "    0.0702,\n",
    "    0.2075,\n",
    "    0.3884,\n",
    "    0.072,\n",
    "    0.1831,\n",
    "    0.4455,\n",
    "    0.378,\n",
    "    0.3744,\n",
    "    0.3804,\n",
    "    0.2873,\n",
    "    0.2889,\n",
    "    0.2325,\n",
    "    0.4104,\n",
    "    0.0952,\n",
    "    0.4618,\n",
    "    0.0582,\n",
    "    0.4654,\n",
    "    0.4736,\n",
    "    0.3855,\n",
    "    0.0138,\n",
    "    0.3529,\n",
    "    0.1098,\n",
    "    0.3274,\n",
    "    0.3488,\n",
    "    0.4693,\n",
    "    0.2878,\n",
    "    0.3836,\n",
    "    0.1105,\n",
    "    0.0307,\n",
    "    0.1126,\n",
    "    0.4098,\n",
    "    0.0253,\n",
    "    0.4189,\n",
    "    0.1553,\n",
    "    0.3987,\n",
    "    0.3051,\n",
    "    0.11,\n",
    "    0.3043,\n",
    "    0.1318,\n",
    "    0.364,\n",
    "    0.4682,\n",
    "    0.1133,\n",
    "    0.441,\n",
    "    0.1722,\n",
    "    0.2694,\n",
    "    0.4131,\n",
    "    0.0737,\n",
    "    0.377,\n",
    "    0.4761,\n",
    "    0.128,\n",
    "    0.2972,\n",
    "    0.0654,\n",
    "    0.1526,\n",
    "    0.2229,\n",
    "    0.3965,\n",
    "    0.0629,\n",
    "    0.0371,\n",
    "    0.2769,\n",
    "    0.4436,\n",
    "    0.0818,\n",
    "    0.1627,\n",
    "    0.2612,\n",
    "    0.4558,\n",
    "    0.2192,\n",
    "    0.3418,\n",
    "    0.3202,\n",
    "    0.4109,\n",
    "    0.3228,\n",
    "    0.1174,\n",
    "    0.4476,\n",
    "    0.4277,\n",
    "    0.0731,\n",
    "    0.386,\n",
    "    0.1274,\n",
    "    0.0116,\n",
    "    0.2359,\n",
    "    0.2782,\n",
    "    0.0886,\n",
    "    0.2316,\n",
    "    0.4149,\n",
    "    0.3949,\n",
    "    0.3558,\n",
    "    0.4515,\n",
    "    0.2067,\n",
    "    0.2312,\n",
    "    0.4409,\n",
    "    0.175,\n",
    "    0.1587,\n",
    "    0.1153,\n",
    "    0.1521,\n",
    "    0.2265,\n",
    "    0.0185,\n",
    "    0.2941,\n",
    "    0.0765,\n",
    "    0.4625,\n",
    "    0.3488,\n",
    "    0.4229,\n",
    "    0.1453,\n",
    "    0.4618,\n",
    "    0.3039,\n",
    "    0.2389,\n",
    "    0.3945,\n",
    "    0.2847,\n",
    "    0.0465,\n",
    "    0.3187,\n",
    "    0.2904,\n",
    "    0.4295,\n",
    "    0.0934\n",
    "]"
   ]
  },
  {
   "cell_type": "code",
   "execution_count": 63,
   "id": "ad067193",
   "metadata": {},
   "outputs": [
    {
     "data": {
      "text/plain": [
       "200"
      ]
     },
     "execution_count": 63,
     "metadata": {},
     "output_type": "execute_result"
    }
   ],
   "source": [
    "len(porosities)"
   ]
  },
  {
   "cell_type": "code",
   "execution_count": 64,
   "id": "7e5f543a",
   "metadata": {},
   "outputs": [
    {
     "name": "stdout",
     "output_type": "stream",
     "text": [
      "0.1326\n",
      "0.4451\n",
      "0.1434\n",
      "0.1851\n",
      "0.3486\n"
     ]
    }
   ],
   "source": [
    "for porosity in porosities[:5]: # !! we only use the first 5 porosities to test our code (using a slice)\n",
    "    print(porosity)"
   ]
  },
  {
   "cell_type": "code",
   "execution_count": 65,
   "id": "dabc5b9d",
   "metadata": {},
   "outputs": [
    {
     "data": {
      "text/plain": [
       "'Good'"
      ]
     },
     "execution_count": 65,
     "metadata": {},
     "output_type": "execute_result"
    }
   ],
   "source": [
    "if porosity >= 0.3:\n",
    "    reservoir = 'Good'\n",
    "elif 0.15 < porosity < 0.3:\n",
    "    reservoir = 'Medium'\n",
    "else:\n",
    "    reservoir = 'Poor'\n",
    "\n",
    "reservoir"
   ]
  },
  {
   "cell_type": "code",
   "execution_count": 66,
   "id": "8206861d",
   "metadata": {},
   "outputs": [
    {
     "name": "stdout",
     "output_type": "stream",
     "text": [
      "Poor\n",
      "Good\n",
      "Poor\n",
      "Medium\n",
      "Good\n"
     ]
    }
   ],
   "source": [
    "for porosity in porosities[:5]:\n",
    "    if porosity >= 0.3:\n",
    "        reservoir = 'Good'\n",
    "    elif 0.15 < porosity < 0.3:\n",
    "        reservoir = 'Medium'\n",
    "    else:\n",
    "        reservoir = 'Poor'\n",
    "    print(reservoir)"
   ]
  },
  {
   "cell_type": "code",
   "execution_count": 67,
   "id": "bb81a9f3",
   "metadata": {},
   "outputs": [
    {
     "data": {
      "text/plain": [
       "5"
      ]
     },
     "execution_count": 67,
     "metadata": {},
     "output_type": "execute_result"
    }
   ],
   "source": [
    "good_reservoir_count = 0\n",
    "\n",
    "for porosity in porosities[:10]:\n",
    "    if porosity >= 0.3:\n",
    "        good_reservoir_count += 1\n",
    "\n",
    "good_reservoir_count"
   ]
  },
  {
   "cell_type": "code",
   "execution_count": 68,
   "id": "58d4eaa3",
   "metadata": {},
   "outputs": [
    {
     "data": {
      "text/plain": [
       "81"
      ]
     },
     "execution_count": 68,
     "metadata": {},
     "output_type": "execute_result"
    }
   ],
   "source": [
    "good_reservoir_count = 0\n",
    "\n",
    "for porosity in porosities:\n",
    "    if porosity >= 0.3:\n",
    "        good_reservoir_count += 1\n",
    "\n",
    "good_reservoir_count"
   ]
  },
  {
   "cell_type": "code",
   "execution_count": 69,
   "id": "9b070145",
   "metadata": {},
   "outputs": [
    {
     "data": {
      "text/plain": [
       "81"
      ]
     },
     "execution_count": 69,
     "metadata": {},
     "output_type": "execute_result"
    }
   ],
   "source": [
    "# IGNORE this if it's too much of a stretch!\n",
    "good_resevoir_lc = sum([1 for porosity in porosities if porosity > 0.3])\n",
    "good_resevoir_lc"
   ]
  },
  {
   "cell_type": "markdown",
   "id": "b58007da",
   "metadata": {},
   "source": [
    "## An image speaks a thousand words\n",
    "\n",
    "The [python-visualization-landscape](https://github.com/rougier/python-visualization-landscape) is vast and can be intimidating, no doubt you'll see many great examples during Transform 2022, but the place to start is usually [matplotlib](https://matplotlib.org/stable/users/index.html), you can reach the docs directly from with the jupyter notebook:\n",
    "\n",
    "![matplotlib help](./images/notebook_help_dropdown.png)"
   ]
  },
  {
   "cell_type": "code",
   "execution_count": 70,
   "id": "0160ddec",
   "metadata": {},
   "outputs": [],
   "source": [
    "import matplotlib.pyplot as plt"
   ]
  },
  {
   "cell_type": "code",
   "execution_count": 71,
   "id": "153af23f",
   "metadata": {},
   "outputs": [
    {
     "data": {
      "text/plain": [
       "[<matplotlib.lines.Line2D at 0x7fdb12e1b820>]"
      ]
     },
     "execution_count": 71,
     "metadata": {},
     "output_type": "execute_result"
    },
    {
     "data": {
      "image/png": "[encoded data removed]",
      "text/plain": [
       "<Figure size 432x288 with 1 Axes>"
      ]
     },
     "metadata": {
      "needs_background": "light"
     },
     "output_type": "display_data"
    }
   ],
   "source": [
    "plt.plot(porosities)"
   ]
  },
  {
   "cell_type": "code",
   "execution_count": 72,
   "id": "4233a5a3",
   "metadata": {},
   "outputs": [
    {
     "data": {
      "text/plain": [
       "[<matplotlib.lines.Line2D at 0x7fdb0ad1aa90>]"
      ]
     },
     "execution_count": 72,
     "metadata": {},
     "output_type": "execute_result"
    },
    {
     "data": {
      "image/png": "[encoded data removed]",
      "text/plain": [
       "<Figure size 432x288 with 1 Axes>"
      ]
     },
     "metadata": {
      "needs_background": "light"
     },
     "output_type": "display_data"
    }
   ],
   "source": [
    "plt.plot(porosities, 'o-', c='g')"
   ]
  },
  {
   "cell_type": "code",
   "execution_count": 73,
   "id": "db009d87",
   "metadata": {},
   "outputs": [
    {
     "data": {
      "image/png": "[encoded data removed]",
      "text/plain": [
       "<Figure size 432x288 with 1 Axes>"
      ]
     },
     "metadata": {
      "needs_background": "light"
     },
     "output_type": "display_data"
    }
   ],
   "source": [
    "fig, ax = plt.subplots()\n",
    "\n",
    "ax.plot(porosities, 'o-', c='g', lw=0.4, markersize=2)\n",
    "ax.grid(alpha=0.4)\n",
    "ax.set_ylabel('Porosity')\n",
    "ax.set_xlabel('Sample number')\n",
    "ax.set_title('Simple Porosity plot')\n",
    "plt.show()"
   ]
  },
  {
   "cell_type": "markdown",
   "id": "2be2b07c",
   "metadata": {},
   "source": [
    "## Wrap it up and do it again\n",
    "\n",
    "Part of the beauty of code is its reusabilty, we've used functions already:"
   ]
  },
  {
   "cell_type": "code",
   "execution_count": 74,
   "id": "7e3ba462",
   "metadata": {},
   "outputs": [
    {
     "data": {
      "text/plain": [
       "builtin_function_or_method"
      ]
     },
     "execution_count": 74,
     "metadata": {},
     "output_type": "execute_result"
    }
   ],
   "source": [
    "type(print)"
   ]
  },
  {
   "cell_type": "code",
   "execution_count": 75,
   "id": "b362e30e",
   "metadata": {},
   "outputs": [
    {
     "data": {
      "text/plain": [
       "6"
      ]
     },
     "execution_count": 75,
     "metadata": {},
     "output_type": "execute_result"
    }
   ],
   "source": [
    "sum([1, 2, 3])"
   ]
  },
  {
   "cell_type": "code",
   "execution_count": 76,
   "id": "08ea6b88",
   "metadata": {},
   "outputs": [
    {
     "data": {
      "text/plain": [
       "<matplotlib.collections.PathCollection at 0x7fdb0ac00eb0>"
      ]
     },
     "execution_count": 76,
     "metadata": {},
     "output_type": "execute_result"
    },
    {
     "data": {
      "image/png": "[encoded data removed]",
      "text/plain": [
       "<Figure size 432x288 with 1 Axes>"
      ]
     },
     "metadata": {
      "needs_background": "light"
     },
     "output_type": "display_data"
    }
   ],
   "source": [
    "xs = [1, 2, 3, 4, 5, 6, 7, 8, 9, 10]\n",
    "x2 = [x**2 for x in xs]\n",
    "plt.scatter(xs, x2, c='r')"
   ]
  },
  {
   "cell_type": "code",
   "execution_count": 77,
   "id": "328292b6",
   "metadata": {},
   "outputs": [],
   "source": [
    "def my_adder(a, b):\n",
    "    \"\"\"Add two numbers.\"\"\"\n",
    "    return a + b"
   ]
  },
  {
   "cell_type": "code",
   "execution_count": 78,
   "id": "c626aa0e",
   "metadata": {},
   "outputs": [],
   "source": [
    "my_adder?"
   ]
  },
  {
   "cell_type": "code",
   "execution_count": 79,
   "id": "d41fffca",
   "metadata": {},
   "outputs": [
    {
     "data": {
      "text/plain": [
       "143"
      ]
     },
     "execution_count": 79,
     "metadata": {},
     "output_type": "execute_result"
    }
   ],
   "source": [
    "my_adder(45, 98)"
   ]
  },
  {
   "cell_type": "markdown",
   "id": "5c455843",
   "metadata": {},
   "source": [
    "### Writing actual equations in python\n",
    "\n",
    "Remember this equation?\n",
    "$$\\rho = \\alpha {V_P}^{\\beta}$$\n",
    "\n",
    "Let's turn it into a python function:"
   ]
  },
  {
   "cell_type": "code",
   "execution_count": 80,
   "id": "b8177562",
   "metadata": {},
   "outputs": [],
   "source": [
    "def gardner(vp, alpha=310, beta=0.25):\n",
    "    \"\"\"Evaluate gardner's relation.\n",
    "    Args:\n",
    "        vp (float): P-wave velocity\n",
    "        alpha (float-like): alpha scalar\n",
    "        beta (float-like): beta exponent\n",
    "    Returns:\n",
    "        rho (float): density\n",
    "    Source: https://subsurfwiki.org/wiki/Gardner%27s_equation\n",
    "    \"\"\"\n",
    "    return alpha * vp**beta"
   ]
  },
  {
   "cell_type": "code",
   "execution_count": 81,
   "id": "8d4bd537",
   "metadata": {},
   "outputs": [
    {
     "data": {
      "text/plain": [
       "2248.147169062099"
      ]
     },
     "execution_count": 81,
     "metadata": {},
     "output_type": "execute_result"
    }
   ],
   "source": [
    "gardner(2766)"
   ]
  },
  {
   "cell_type": "markdown",
   "id": "e0e7fa09",
   "metadata": {},
   "source": [
    "## Where to next?\n",
    "\n",
    "- Useful (and approachable) documentation\n",
    " - [python.org/tutorial](https://docs.python.org/3/tutorial/index.html)\n",
    " - [matplotlib gallery](https://matplotlib.org/stable/gallery/index.html)\n",
    " - [w3schools/python](https://www.w3schools.com/python/)\n",
    "- Books\n",
    " - [Python Crash Course, 2nd Edition](https://www.amazon.com/Python-Crash-Course-2nd-Edition/dp/1593279280)\n",
    " - [Automate the Boring Stuff with Python, 2nd Edition](https://automatetheboringstuff.com/2e/chapter0/)\n",
    " - [Learning Python: Powerful Object-Oriented Programming](https://www.amazon.com/Learning-Python-Powerful-Object-Oriented-Programming-ebook/dp/B00DDZPC9S)\n",
    "- Cheatsheets\n",
    " - [pythoncheatsheet](https://www.pythoncheatsheet.org/)\n",
    " - [Basic cheatseet](https://agilescientific.com/blog/2011/1/14/basic-cheatsheet.html)\n",
    " - [Geophysics cheatsheet](https://agilescientific.com/blog/2011/1/31/geophysics-cheatsheet.html)\n",
    " - [Rock physics cheatsheet](https://agilescientific.com/blog/2011/3/7/rock-physics-cheatsheet.html)\n",
    " - [Petrophysics cheatsheet](https://agilescientific.com/blog/2011/7/25/petrophysics-cheatsheet.html)\n",
    " - [Petroleum cheatsheet](https://agilescientific.com/blog/2011/12/12/petroleum-cheatsheet.html)\n",
    "- Transform youtube tutorials\n",
    " - [Preparing for Transform 2020](https://youtube.com/playlist?list=PLgLft9vxdduAW-jmhYqXvtfGYJS6v2FjM), setup guides for Windows and Linux\n",
    " - [Learning Python for Geoscience](https://youtube.com/playlist?list=PLgLft9vxdduDm3W6i3qjT7s-ne4oTAvks), a playlist of setup instructions and tutorials covering introductions to python, python subsurface tools, geospatial analysis, statistics and data analysis and well data exploration.\n",
    " - [Transform 2021](https://youtube.com/playlist?list=PLgLft9vxdduCESA3xAo5Ts_ziO8vZAFG1) all the content from the 2021 edition!\n",
    " - [Transform 2020](https://youtube.com/playlist?list=PLgLft9vxdduD8Zydz4dRJqIzCWDlPKITC) all the content from the 2020 edition!\n",
    "- **Your own awesome project!** The best way to learn anything is through practice, so now you should think of a task you perform at work on in your hobbies that you can break down into programmable steps, then code it up in python little by little, and before you know it, you'll be a pythonista!"
   ]
  },
  {
   "cell_type": "code",
   "execution_count": null,
   "id": "4fa9be94",
   "metadata": {},
   "outputs": [],
   "source": []
  }
 ],
 "metadata": {
  "kernelspec": {
   "display_name": "geocomp",
   "language": "python",
   "name": "geocomp"
  },
  "language_info": {
   "codemirror_mode": {
    "name": "ipython",
    "version": 3
   },
   "file_extension": ".py",
   "mimetype": "text/x-python",
   "name": "python",
   "nbconvert_exporter": "python",
   "pygments_lexer": "ipython3",
   "version": "3.9.7"
  }
 },
 "nbformat": 4,
 "nbformat_minor": 5
}
