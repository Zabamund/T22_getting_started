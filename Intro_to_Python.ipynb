{
 "cells": [
  {
   "cell_type": "markdown",
   "id": "aca42437",
   "metadata": {},
   "source": [
    "# First a quick tour of the jupyter notebook\n",
    "\n",
    "- Shortcuts\n",
    "- Getting help\n",
    "- Cell types\n",
    "- Executing cells\n",
    "\n",
    "### Formatted text\n",
    "\n",
    "We can write formated text in Markdown cells (`Esc + m`) and there are plenty of resources available:\n",
    "\n",
    "- The original Markdown page by John Gruber:\n",
    "[daringfireball.net/projects/markdown](https://daringfireball.net/projects/markdown/)\n",
    "- Getting started with markdown:\n",
    "[markdownguide.org/getting-started](https://www.markdownguide.org/getting-started/)\n",
    "- Cheat sheet:\n",
    "[markdownguide.org/cheat-sheet](https://www.markdownguide.org/cheat-sheet)"
   ]
  },
  {
   "cell_type": "markdown",
   "id": "3a351f31",
   "metadata": {},
   "source": [
    "#### H4-heading\n",
    "\n",
    "**Unordered list**\n",
    "- item 1\n",
    "- item 2\n",
    "  - sub-item a\n",
    "  - sub-item b\n",
    "- item 3\n",
    "\n",
    "**Ordered list**\n",
    "1. first\n",
    "2. second\n",
    "3. third\n",
    "\n",
    "*italic*, **bold**, <ins>underline (not strictly markdown but works in the notebook)</ins>\n",
    "\n",
    "> quoted text\n",
    "\n",
    "\n",
    "| Syntax | Description |\n",
    "| ----------- | ----------- |\n",
    "| Header | Title |\n",
    "| Paragraph | Text |"
   ]
  },
  {
   "cell_type": "markdown",
   "id": "5b60a99d",
   "metadata": {},
   "source": [
    "### Equations\n",
    "Mathematical expressions in notebooks use LaTeX:\n",
    "[overleaf.com/learn/latex/Mathematical_expressions](https://www.overleaf.com/learn/latex/Mathematical_expressions)\n",
    "\n",
    "Inline [Gardner's equation](https://subsurfwiki.org/wiki/Gardner%27s_equation) $\\rho = \\alpha V_P^{\\beta}$\n",
    "\n",
    "Centered equation [Darcy'y Law](https://en.wikipedia.org/wiki/Darcy%27s_law)\n",
    "$$q = -\\frac{k}{\\mu L} \\Delta p$$"
   ]
  },
  {
   "cell_type": "markdown",
   "id": "ffca399c",
   "metadata": {},
   "source": [
    "### Code\n",
    "\n",
    "in-line `code`\n",
    "\n",
    "and multiline formatted code:\n",
    "\n",
    "```python\n",
    "# Some formatted python code\n",
    "\n",
    "def say_hi():\n",
    "    \"\"\"Just print hello!\"\"\"\n",
    "    print('Hello!')\n",
    "    return None\n",
    "```"
   ]
  },
  {
   "cell_type": "markdown",
   "id": "0db504d7",
   "metadata": {},
   "source": [
    "### Code output"
   ]
  },
  {
   "cell_type": "code",
   "execution_count": 1,
   "id": "1c900b40",
   "metadata": {},
   "outputs": [
    {
     "name": "stdout",
     "output_type": "stream",
     "text": [
      "Hello Transfrom 2022!\n"
     ]
    }
   ],
   "source": [
    "print('Hello Transfrom 2022!')"
   ]
  },
  {
   "cell_type": "markdown",
   "id": "1a1728b1",
   "metadata": {},
   "source": [
    "### Images\n",
    "\n",
    "![Transform 2022](./images/T21_shirt_viridis.png)"
   ]
  },
  {
   "cell_type": "markdown",
   "id": "3df942b3",
   "metadata": {},
   "source": [
    "# A gentle introduction to python\n",
    "\n",
    "## Things you already know\n",
    "### mathematical operators"
   ]
  },
  {
   "cell_type": "code",
   "execution_count": 2,
   "id": "d6bf9524",
   "metadata": {},
   "outputs": [
    {
     "data": {
      "text/plain": [
       "5"
      ]
     },
     "execution_count": 2,
     "metadata": {},
     "output_type": "execute_result"
    }
   ],
   "source": [
    "# Press shift+enter to execute a cell\n",
    "2 + 3"
   ]
  },
  {
   "cell_type": "code",
   "execution_count": 3,
   "id": "2c26844b",
   "metadata": {},
   "outputs": [
    {
     "data": {
      "text/plain": [
       "5.5"
      ]
     },
     "execution_count": 3,
     "metadata": {},
     "output_type": "execute_result"
    }
   ],
   "source": [
    "2 + 3.5"
   ]
  },
  {
   "cell_type": "code",
   "execution_count": 4,
   "id": "454d909c",
   "metadata": {},
   "outputs": [
    {
     "data": {
      "text/plain": [
       "-61"
      ]
     },
     "execution_count": 4,
     "metadata": {},
     "output_type": "execute_result"
    }
   ],
   "source": [
    "15 - 76"
   ]
  },
  {
   "cell_type": "code",
   "execution_count": 5,
   "id": "23bbd0e0",
   "metadata": {},
   "outputs": [
    {
     "data": {
      "text/plain": [
       "18.0"
      ]
     },
     "execution_count": 5,
     "metadata": {},
     "output_type": "execute_result"
    }
   ],
   "source": [
    "45 * 0.4"
   ]
  },
  {
   "cell_type": "code",
   "execution_count": 6,
   "id": "9e89b600",
   "metadata": {},
   "outputs": [
    {
     "data": {
      "text/plain": [
       "11.5"
      ]
     },
     "execution_count": 6,
     "metadata": {},
     "output_type": "execute_result"
    }
   ],
   "source": [
    "23 / 2"
   ]
  },
  {
   "cell_type": "code",
   "execution_count": 7,
   "id": "4b777dc1",
   "metadata": {},
   "outputs": [
    {
     "data": {
      "text/plain": [
       "11"
      ]
     },
     "execution_count": 7,
     "metadata": {},
     "output_type": "execute_result"
    }
   ],
   "source": [
    "# Long division\n",
    "23 // 2"
   ]
  },
  {
   "cell_type": "code",
   "execution_count": 8,
   "id": "b40a177d",
   "metadata": {},
   "outputs": [
    {
     "data": {
      "text/plain": [
       "1"
      ]
     },
     "execution_count": 8,
     "metadata": {},
     "output_type": "execute_result"
    }
   ],
   "source": [
    "# Remainder of long division: the \"modulo operator\"\n",
    "23 % 2"
   ]
  },
  {
   "cell_type": "markdown",
   "id": "4530a3bc",
   "metadata": {},
   "source": [
    "### logical operators"
   ]
  },
  {
   "cell_type": "code",
   "execution_count": 9,
   "id": "c56c37d7",
   "metadata": {},
   "outputs": [
    {
     "data": {
      "text/plain": [
       "True"
      ]
     },
     "execution_count": 9,
     "metadata": {},
     "output_type": "execute_result"
    }
   ],
   "source": [
    "23 > 4"
   ]
  },
  {
   "cell_type": "code",
   "execution_count": 10,
   "id": "3fc87496",
   "metadata": {},
   "outputs": [
    {
     "data": {
      "text/plain": [
       "True"
      ]
     },
     "execution_count": 10,
     "metadata": {},
     "output_type": "execute_result"
    }
   ],
   "source": [
    "53.4 < 100"
   ]
  },
  {
   "cell_type": "code",
   "execution_count": 11,
   "id": "1dfb8030",
   "metadata": {},
   "outputs": [
    {
     "data": {
      "text/plain": [
       "True"
      ]
     },
     "execution_count": 11,
     "metadata": {},
     "output_type": "execute_result"
    }
   ],
   "source": [
    "100 <= 100"
   ]
  },
  {
   "cell_type": "code",
   "execution_count": 12,
   "id": "200eacd1",
   "metadata": {},
   "outputs": [
    {
     "data": {
      "text/plain": [
       "True"
      ]
     },
     "execution_count": 12,
     "metadata": {},
     "output_type": "execute_result"
    }
   ],
   "source": [
    "200 >= 199"
   ]
  },
  {
   "cell_type": "code",
   "execution_count": 13,
   "id": "e52f1d3b",
   "metadata": {},
   "outputs": [
    {
     "data": {
      "text/plain": [
       "True"
      ]
     },
     "execution_count": 13,
     "metadata": {},
     "output_type": "execute_result"
    }
   ],
   "source": [
    "13 == 13"
   ]
  },
  {
   "cell_type": "code",
   "execution_count": 14,
   "id": "ba03b42f",
   "metadata": {},
   "outputs": [
    {
     "data": {
      "text/plain": [
       "True"
      ]
     },
     "execution_count": 14,
     "metadata": {},
     "output_type": "execute_result"
    }
   ],
   "source": [
    "43 != 49"
   ]
  },
  {
   "cell_type": "code",
   "execution_count": 15,
   "id": "7e9680b5",
   "metadata": {},
   "outputs": [
    {
     "data": {
      "text/plain": [
       "False"
      ]
     },
     "execution_count": 15,
     "metadata": {},
     "output_type": "execute_result"
    }
   ],
   "source": [
    "# Combining them\n",
    "11 % 2 == 0"
   ]
  },
  {
   "cell_type": "code",
   "execution_count": 16,
   "id": "19395994",
   "metadata": {},
   "outputs": [
    {
     "data": {
      "text/plain": [
       "False"
      ]
     },
     "execution_count": 16,
     "metadata": {},
     "output_type": "execute_result"
    }
   ],
   "source": [
    "(4 > 2) and (50 <= 10)"
   ]
  },
  {
   "cell_type": "code",
   "execution_count": 17,
   "id": "61c69334",
   "metadata": {},
   "outputs": [
    {
     "data": {
      "text/plain": [
       "True"
      ]
     },
     "execution_count": 17,
     "metadata": {},
     "output_type": "execute_result"
    }
   ],
   "source": [
    "(4 > 2) or (50 <= 10)"
   ]
  },
  {
   "cell_type": "markdown",
   "id": "01542042",
   "metadata": {},
   "source": [
    "### Assignment"
   ]
  },
  {
   "cell_type": "code",
   "execution_count": 18,
   "id": "9717ba96",
   "metadata": {},
   "outputs": [],
   "source": [
    "x = 10\n",
    "# no output!"
   ]
  },
  {
   "cell_type": "code",
   "execution_count": 19,
   "id": "61087303",
   "metadata": {},
   "outputs": [
    {
     "data": {
      "text/plain": [
       "10"
      ]
     },
     "execution_count": 19,
     "metadata": {},
     "output_type": "execute_result"
    }
   ],
   "source": [
    "x"
   ]
  },
  {
   "cell_type": "markdown",
   "id": "e0b2e973",
   "metadata": {},
   "source": [
    "## Stepping sideways out of your comfort zone\n",
    "- words and collections in python (i.e. `str`, `list`, `dict`)"
   ]
  },
  {
   "cell_type": "code",
   "execution_count": null,
   "id": "f8b220d5",
   "metadata": {},
   "outputs": [],
   "source": []
  },
  {
   "cell_type": "markdown",
   "id": "c3ccceda",
   "metadata": {},
   "source": [
    "## Controlling the flow\n",
    "- `if ... else`"
   ]
  },
  {
   "cell_type": "code",
   "execution_count": null,
   "id": "d8d8bebc",
   "metadata": {},
   "outputs": [],
   "source": []
  },
  {
   "cell_type": "markdown",
   "id": "4f0a05c7",
   "metadata": {},
   "source": [
    "## Say that again?\n",
    "- loops in python (`for`, list comprehensions, `while`)"
   ]
  },
  {
   "cell_type": "code",
   "execution_count": null,
   "id": "f154a38a",
   "metadata": {},
   "outputs": [],
   "source": []
  },
  {
   "cell_type": "markdown",
   "id": "b58007da",
   "metadata": {},
   "source": [
    "## An image speaks a thousand words\n",
    "- `import matplotlib.pyplot as plt`"
   ]
  },
  {
   "cell_type": "code",
   "execution_count": null,
   "id": "27dc737e",
   "metadata": {},
   "outputs": [],
   "source": []
  },
  {
   "cell_type": "markdown",
   "id": "2be2b07c",
   "metadata": {},
   "source": [
    "## Wrap it up and do it again\n",
    "- functions"
   ]
  },
  {
   "cell_type": "code",
   "execution_count": null,
   "id": "0ac7d30e",
   "metadata": {},
   "outputs": [],
   "source": []
  },
  {
   "cell_type": "markdown",
   "id": "e0e7fa09",
   "metadata": {},
   "source": [
    "## Where to next?\n",
    "- Useful (and approachable) documentation\n",
    "- Books\n",
    "- Cheatsheets\n",
    "- Online resources\n",
    "- T22 tutorial (and previous Transform tutorials)\n",
    "- Your own awesome project!"
   ]
  },
  {
   "cell_type": "code",
   "execution_count": null,
   "id": "4fa9be94",
   "metadata": {},
   "outputs": [],
   "source": []
  }
 ],
 "metadata": {
  "kernelspec": {
   "display_name": "geocomp",
   "language": "python",
   "name": "geocomp"
  },
  "language_info": {
   "codemirror_mode": {
    "name": "ipython",
    "version": 3
   },
   "file_extension": ".py",
   "mimetype": "text/x-python",
   "name": "python",
   "nbconvert_exporter": "python",
   "pygments_lexer": "ipython3",
   "version": "3.9.7"
  }
 },
 "nbformat": 4,
 "nbformat_minor": 5
}
