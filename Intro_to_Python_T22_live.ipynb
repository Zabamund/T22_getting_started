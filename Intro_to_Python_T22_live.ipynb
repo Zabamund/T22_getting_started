{
 "cells": [
  {
   "cell_type": "markdown",
   "id": "02cbe208",
   "metadata": {},
   "source": [
    "# First a quick tour of the jupyter notebook\n",
    "\n",
    "- Shortcuts\n",
    "- Getting help\n",
    "- Cell types\n",
    "- Executing cells\n",
    "\n",
    "### Formatted text\n",
    "\n",
    "We can write formated text in Markdown cells (`Esc + m`) and there are plenty of resources available:\n",
    "\n",
    "- The original Markdown page by John Gruber:\n",
    "[daringfireball.net/projects/markdown](https://daringfireball.net/projects/markdown/)\n",
    "- Getting started with markdown:\n",
    "[markdownguide.org/getting-started](https://www.markdownguide.org/getting-started/)\n",
    "- Cheat sheet:\n",
    "[markdownguide.org/cheat-sheet](https://www.markdownguide.org/cheat-sheet)"
   ]
  },
  {
   "cell_type": "markdown",
   "id": "cacba190",
   "metadata": {},
   "source": [
    "#### H4-heading\n",
    "\n",
    "**Unordered list**\n",
    "- item 1\n",
    "- item 2\n",
    "  - sub-item a\n",
    "  - sub-item b\n",
    "- item 3\n",
    "\n",
    "**Ordered list**\n",
    "1. first\n",
    "2. second\n",
    "3. third\n",
    "\n",
    "*italic*, **bold**, <ins>underline (not strictly markdown but works in the notebook)</ins>\n",
    "\n",
    "> quoted text\n",
    "\n",
    "\n",
    "| Syntax | Description |\n",
    "| ----------- | ----------- |\n",
    "| Header | Title |\n",
    "| Paragraph | Text |"
   ]
  },
  {
   "cell_type": "markdown",
   "id": "687e6504",
   "metadata": {},
   "source": [
    "### Equations\n",
    "Mathematical expressions in notebooks use LaTeX:\n",
    "[overleaf.com/learn/latex/Mathematical_expressions](https://www.overleaf.com/learn/latex/Mathematical_expressions)\n",
    "\n",
    "Inline [Gardner's equation](https://subsurfwiki.org/wiki/Gardner%27s_equation) $\\rho = \\alpha {V_P}^{\\beta}$\n",
    "\n",
    "Centered equation [Darcy's Law](https://en.wikipedia.org/wiki/Darcy%27s_law)\n",
    "$$q = -\\frac{k}{\\mu L} \\Delta p$$"
   ]
  },
  {
   "cell_type": "markdown",
   "id": "e42023c4",
   "metadata": {},
   "source": [
    "### Code\n",
    "\n",
    "in-line `code`\n",
    "\n",
    "and multiline formatted code:\n",
    "\n",
    "```python\n",
    "# Some formatted python code\n",
    "\n",
    "def say_hi():\n",
    "    \"\"\"Just print hello!\"\"\"\n",
    "    print('Hello!')\n",
    "    return None\n",
    "```"
   ]
  },
  {
   "cell_type": "markdown",
   "id": "9d5275f9",
   "metadata": {},
   "source": [
    "### Code output"
   ]
  },
  {
   "cell_type": "code",
   "execution_count": 1,
   "id": "6d96c478",
   "metadata": {},
   "outputs": [
    {
     "name": "stdout",
     "output_type": "stream",
     "text": [
      "Hello Transfrom 2022!\n"
     ]
    }
   ],
   "source": [
    "print('Hello Transfrom 2022!')"
   ]
  },
  {
   "cell_type": "markdown",
   "id": "1a1728b1",
   "metadata": {},
   "source": [
    "### Images\n",
    "\n",
    "![Transform 2022](./images/T21_shirt_viridis.png)"
   ]
  },
  {
   "cell_type": "markdown",
   "id": "3df942b3",
   "metadata": {},
   "source": [
    "# A gentle introduction to python\n",
    "\n",
    "## Things you already know\n",
    "### mathematical operators"
   ]
  },
  {
   "cell_type": "code",
   "execution_count": 2,
   "id": "36890967",
   "metadata": {},
   "outputs": [
    {
     "data": {
      "text/plain": [
       "7"
      ]
     },
     "execution_count": 2,
     "metadata": {},
     "output_type": "execute_result"
    }
   ],
   "source": [
    "# Live coding of basic mathematical operators\n",
    "3 + 4"
   ]
  },
  {
   "cell_type": "code",
   "execution_count": 3,
   "id": "29070e0b",
   "metadata": {},
   "outputs": [
    {
     "data": {
      "text/plain": [
       "2"
      ]
     },
     "execution_count": 3,
     "metadata": {},
     "output_type": "execute_result"
    }
   ],
   "source": [
    "5 - 3"
   ]
  },
  {
   "cell_type": "code",
   "execution_count": 4,
   "id": "35628a8d",
   "metadata": {},
   "outputs": [
    {
     "data": {
      "text/plain": [
       "48"
      ]
     },
     "execution_count": 4,
     "metadata": {},
     "output_type": "execute_result"
    }
   ],
   "source": [
    "4 * 12"
   ]
  },
  {
   "cell_type": "code",
   "execution_count": 5,
   "id": "3c7e045c",
   "metadata": {},
   "outputs": [
    {
     "data": {
      "text/plain": [
       "5.5"
      ]
     },
     "execution_count": 5,
     "metadata": {},
     "output_type": "execute_result"
    }
   ],
   "source": [
    "11 / 2"
   ]
  },
  {
   "cell_type": "code",
   "execution_count": 6,
   "id": "2f95528d",
   "metadata": {},
   "outputs": [
    {
     "data": {
      "text/plain": [
       "18.0"
      ]
     },
     "execution_count": 6,
     "metadata": {},
     "output_type": "execute_result"
    }
   ],
   "source": [
    "45 * 0.4"
   ]
  },
  {
   "cell_type": "code",
   "execution_count": 7,
   "id": "7e560800",
   "metadata": {},
   "outputs": [
    {
     "data": {
      "text/plain": [
       "5"
      ]
     },
     "execution_count": 7,
     "metadata": {},
     "output_type": "execute_result"
    }
   ],
   "source": [
    "11 // 2"
   ]
  },
  {
   "cell_type": "code",
   "execution_count": 8,
   "id": "ebc15cf3",
   "metadata": {},
   "outputs": [
    {
     "data": {
      "text/plain": [
       "1"
      ]
     },
     "execution_count": 8,
     "metadata": {},
     "output_type": "execute_result"
    }
   ],
   "source": [
    "11 % 2"
   ]
  },
  {
   "cell_type": "code",
   "execution_count": 9,
   "id": "0fb0aa3f",
   "metadata": {},
   "outputs": [
    {
     "data": {
      "text/plain": [
       "8"
      ]
     },
     "execution_count": 9,
     "metadata": {},
     "output_type": "execute_result"
    }
   ],
   "source": [
    "2**3"
   ]
  },
  {
   "cell_type": "markdown",
   "id": "60b979ab",
   "metadata": {},
   "source": [
    "### logical operators"
   ]
  },
  {
   "cell_type": "code",
   "execution_count": 10,
   "id": "42c6103c",
   "metadata": {},
   "outputs": [
    {
     "data": {
      "text/plain": [
       "True"
      ]
     },
     "execution_count": 10,
     "metadata": {},
     "output_type": "execute_result"
    }
   ],
   "source": [
    "# Live coding of logical operators\n",
    "23 > 4"
   ]
  },
  {
   "cell_type": "code",
   "execution_count": 11,
   "id": "433ded87",
   "metadata": {},
   "outputs": [
    {
     "data": {
      "text/plain": [
       "False"
      ]
     },
     "execution_count": 11,
     "metadata": {},
     "output_type": "execute_result"
    }
   ],
   "source": [
    "543 < 10"
   ]
  },
  {
   "cell_type": "code",
   "execution_count": 12,
   "id": "0ed8b119",
   "metadata": {},
   "outputs": [
    {
     "data": {
      "text/plain": [
       "True"
      ]
     },
     "execution_count": 12,
     "metadata": {},
     "output_type": "execute_result"
    }
   ],
   "source": [
    "200 >= 199"
   ]
  },
  {
   "cell_type": "code",
   "execution_count": 13,
   "id": "c93fca71",
   "metadata": {},
   "outputs": [
    {
     "data": {
      "text/plain": [
       "False"
      ]
     },
     "execution_count": 13,
     "metadata": {},
     "output_type": "execute_result"
    }
   ],
   "source": [
    "200 <= 199"
   ]
  },
  {
   "cell_type": "code",
   "execution_count": 14,
   "id": "09266857",
   "metadata": {},
   "outputs": [
    {
     "data": {
      "text/plain": [
       "True"
      ]
     },
     "execution_count": 14,
     "metadata": {},
     "output_type": "execute_result"
    }
   ],
   "source": [
    "32 == 32"
   ]
  },
  {
   "cell_type": "code",
   "execution_count": 15,
   "id": "b439e110",
   "metadata": {},
   "outputs": [
    {
     "data": {
      "text/plain": [
       "True"
      ]
     },
     "execution_count": 15,
     "metadata": {},
     "output_type": "execute_result"
    }
   ],
   "source": [
    "32 != 42"
   ]
  },
  {
   "cell_type": "code",
   "execution_count": 17,
   "id": "78845bcd",
   "metadata": {},
   "outputs": [
    {
     "data": {
      "text/plain": [
       "False"
      ]
     },
     "execution_count": 17,
     "metadata": {},
     "output_type": "execute_result"
    }
   ],
   "source": [
    "11 % 2 == 0"
   ]
  },
  {
   "cell_type": "code",
   "execution_count": 18,
   "id": "1941936e",
   "metadata": {},
   "outputs": [
    {
     "data": {
      "text/plain": [
       "False"
      ]
     },
     "execution_count": 18,
     "metadata": {},
     "output_type": "execute_result"
    }
   ],
   "source": [
    "(4 > 2) and (50 <= 10)"
   ]
  },
  {
   "cell_type": "code",
   "execution_count": 19,
   "id": "2e4072c7",
   "metadata": {},
   "outputs": [
    {
     "data": {
      "text/plain": [
       "True"
      ]
     },
     "execution_count": 19,
     "metadata": {},
     "output_type": "execute_result"
    }
   ],
   "source": [
    "(4 > 2) or (50 <= 10)"
   ]
  },
  {
   "cell_type": "markdown",
   "id": "76545ed4",
   "metadata": {},
   "source": [
    "### Assignment"
   ]
  },
  {
   "cell_type": "code",
   "execution_count": 20,
   "id": "84d909ef",
   "metadata": {},
   "outputs": [],
   "source": [
    "x = 10\n",
    "# no output!"
   ]
  },
  {
   "cell_type": "code",
   "execution_count": 21,
   "id": "c78ddd2c",
   "metadata": {},
   "outputs": [
    {
     "data": {
      "text/plain": [
       "10"
      ]
     },
     "execution_count": 21,
     "metadata": {},
     "output_type": "execute_result"
    }
   ],
   "source": [
    "x"
   ]
  },
  {
   "cell_type": "markdown",
   "id": "e0b2e973",
   "metadata": {},
   "source": [
    "## Stepping sideways out of your comfort zone\n",
    "\n",
    "Words and collections in python (i.e. `str`, `list`, `dict`)\n",
    "\n",
    "### `str`"
   ]
  },
  {
   "cell_type": "code",
   "execution_count": 22,
   "id": "12d57bcc",
   "metadata": {},
   "outputs": [
    {
     "data": {
      "text/plain": [
       "str"
      ]
     },
     "execution_count": 22,
     "metadata": {},
     "output_type": "execute_result"
    }
   ],
   "source": [
    "word = 'python'\n",
    "type(word)"
   ]
  },
  {
   "cell_type": "code",
   "execution_count": 23,
   "id": "73f420cc",
   "metadata": {},
   "outputs": [
    {
     "data": {
      "text/plain": [
       "'python'"
      ]
     },
     "execution_count": 23,
     "metadata": {},
     "output_type": "execute_result"
    }
   ],
   "source": [
    "word"
   ]
  },
  {
   "cell_type": "code",
   "execution_count": 24,
   "id": "32256141",
   "metadata": {},
   "outputs": [
    {
     "data": {
      "text/plain": [
       "'same thing'"
      ]
     },
     "execution_count": 24,
     "metadata": {},
     "output_type": "execute_result"
    }
   ],
   "source": [
    "# single vs double quotes\n",
    "double_quotes = \"same thing\"\n",
    "double_quotes"
   ]
  },
  {
   "cell_type": "code",
   "execution_count": 25,
   "id": "791712ea",
   "metadata": {},
   "outputs": [
    {
     "data": {
      "text/plain": [
       "\"hello y'all\""
      ]
     },
     "execution_count": 25,
     "metadata": {},
     "output_type": "execute_result"
    }
   ],
   "source": [
    "\"hello y'all\""
   ]
  },
  {
   "cell_type": "code",
   "execution_count": 26,
   "id": "88054235",
   "metadata": {},
   "outputs": [
    {
     "ename": "SyntaxError",
     "evalue": "invalid syntax (4144274453.py, line 1)",
     "output_type": "error",
     "traceback": [
      "\u001b[0;36m  Input \u001b[0;32mIn [26]\u001b[0;36m\u001b[0m\n\u001b[0;31m    'hello y'all'\u001b[0m\n\u001b[0m             ^\u001b[0m\n\u001b[0;31mSyntaxError\u001b[0m\u001b[0;31m:\u001b[0m invalid syntax\n"
     ]
    }
   ],
   "source": [
    "'hello y'all'"
   ]
  },
  {
   "cell_type": "code",
   "execution_count": 27,
   "id": "29e0ca04",
   "metadata": {},
   "outputs": [
    {
     "data": {
      "text/plain": [
       "6"
      ]
     },
     "execution_count": 27,
     "metadata": {},
     "output_type": "execute_result"
    }
   ],
   "source": [
    "len(word)"
   ]
  },
  {
   "cell_type": "code",
   "execution_count": 28,
   "id": "e3b41e8b",
   "metadata": {},
   "outputs": [
    {
     "data": {
      "text/plain": [
       "'PYTHON'"
      ]
     },
     "execution_count": 28,
     "metadata": {},
     "output_type": "execute_result"
    }
   ],
   "source": [
    "# str methods\n",
    "word.upper()"
   ]
  },
  {
   "cell_type": "code",
   "execution_count": 29,
   "id": "e6094add",
   "metadata": {},
   "outputs": [
    {
     "data": {
      "text/plain": [
       "'python'"
      ]
     },
     "execution_count": 29,
     "metadata": {},
     "output_type": "execute_result"
    }
   ],
   "source": [
    "word"
   ]
  },
  {
   "cell_type": "code",
   "execution_count": 30,
   "id": "62d81ec9",
   "metadata": {},
   "outputs": [
    {
     "data": {
      "text/plain": [
       "False"
      ]
     },
     "execution_count": 30,
     "metadata": {},
     "output_type": "execute_result"
    }
   ],
   "source": [
    "word.isdigit()"
   ]
  },
  {
   "cell_type": "markdown",
   "id": "d8fda5bd",
   "metadata": {},
   "source": [
    "### `list`"
   ]
  },
  {
   "cell_type": "code",
   "execution_count": 31,
   "id": "3ed2eb40",
   "metadata": {},
   "outputs": [],
   "source": [
    "word_list = ['python', 'geology', 'programming', 'code', 'outcrop']\n",
    "# again, no output, assignment is silent"
   ]
  },
  {
   "cell_type": "code",
   "execution_count": 32,
   "id": "136a27c7",
   "metadata": {},
   "outputs": [
    {
     "data": {
      "text/plain": [
       "list"
      ]
     },
     "execution_count": 32,
     "metadata": {},
     "output_type": "execute_result"
    }
   ],
   "source": [
    "type(word_list)"
   ]
  },
  {
   "cell_type": "code",
   "execution_count": 33,
   "id": "48bdb86a",
   "metadata": {},
   "outputs": [
    {
     "data": {
      "text/plain": [
       "5"
      ]
     },
     "execution_count": 33,
     "metadata": {},
     "output_type": "execute_result"
    }
   ],
   "source": [
    "# exploring lists\n",
    "len(word_list)"
   ]
  },
  {
   "cell_type": "code",
   "execution_count": 34,
   "id": "b0a44a0f",
   "metadata": {},
   "outputs": [
    {
     "data": {
      "text/plain": [
       "['python', 'geology', 'programming', 'code', 'outcrop']"
      ]
     },
     "execution_count": 34,
     "metadata": {},
     "output_type": "execute_result"
    }
   ],
   "source": [
    "word_list"
   ]
  },
  {
   "cell_type": "code",
   "execution_count": 35,
   "id": "d85dcbcb",
   "metadata": {},
   "outputs": [
    {
     "data": {
      "text/plain": [
       "True"
      ]
     },
     "execution_count": 35,
     "metadata": {},
     "output_type": "execute_result"
    }
   ],
   "source": [
    "'geology' in word_list"
   ]
  },
  {
   "cell_type": "code",
   "execution_count": 36,
   "id": "b38d5ce9",
   "metadata": {},
   "outputs": [
    {
     "data": {
      "text/plain": [
       "False"
      ]
     },
     "execution_count": 36,
     "metadata": {},
     "output_type": "execute_result"
    }
   ],
   "source": [
    "'Geology' in word_list"
   ]
  },
  {
   "cell_type": "code",
   "execution_count": 37,
   "id": "29a9724f",
   "metadata": {},
   "outputs": [],
   "source": [
    "word_list.append('mineral')"
   ]
  },
  {
   "cell_type": "code",
   "execution_count": 38,
   "id": "fe672640",
   "metadata": {},
   "outputs": [
    {
     "data": {
      "text/plain": [
       "['python', 'geology', 'programming', 'code', 'outcrop', 'mineral']"
      ]
     },
     "execution_count": 38,
     "metadata": {},
     "output_type": "execute_result"
    }
   ],
   "source": [
    "word_list"
   ]
  },
  {
   "cell_type": "markdown",
   "id": "90bacfd1",
   "metadata": {},
   "source": [
    "## Indexing and slicing\n",
    "\n",
    "We can reach into these collections, there are two main things to remember:\n",
    "\n",
    "0. python starts counting at `0`\n",
    "1. we use square brackets `[]`"
   ]
  },
  {
   "cell_type": "markdown",
   "id": "a10cce85",
   "metadata": {},
   "source": [
    "### Indexing and slicing `str`"
   ]
  },
  {
   "cell_type": "code",
   "execution_count": 39,
   "id": "71d84168",
   "metadata": {},
   "outputs": [
    {
     "data": {
      "text/plain": [
       "'python'"
      ]
     },
     "execution_count": 39,
     "metadata": {},
     "output_type": "execute_result"
    }
   ],
   "source": [
    "word"
   ]
  },
  {
   "cell_type": "code",
   "execution_count": 40,
   "id": "aa78fffb",
   "metadata": {},
   "outputs": [
    {
     "data": {
      "text/plain": [
       "6"
      ]
     },
     "execution_count": 40,
     "metadata": {},
     "output_type": "execute_result"
    }
   ],
   "source": [
    "len(word)"
   ]
  },
  {
   "cell_type": "code",
   "execution_count": 41,
   "id": "51404fd5",
   "metadata": {},
   "outputs": [
    {
     "data": {
      "text/plain": [
       "'p'"
      ]
     },
     "execution_count": 41,
     "metadata": {},
     "output_type": "execute_result"
    }
   ],
   "source": [
    "word[0]"
   ]
  },
  {
   "cell_type": "code",
   "execution_count": 42,
   "id": "4df72948",
   "metadata": {},
   "outputs": [
    {
     "data": {
      "text/plain": [
       "'n'"
      ]
     },
     "execution_count": 42,
     "metadata": {},
     "output_type": "execute_result"
    }
   ],
   "source": [
    "word[5]"
   ]
  },
  {
   "cell_type": "code",
   "execution_count": 43,
   "id": "a83bdb73",
   "metadata": {},
   "outputs": [
    {
     "ename": "IndexError",
     "evalue": "string index out of range",
     "output_type": "error",
     "traceback": [
      "\u001b[0;31m---------------------------------------------------------------------------\u001b[0m",
      "\u001b[0;31mIndexError\u001b[0m                                Traceback (most recent call last)",
      "Input \u001b[0;32mIn [43]\u001b[0m, in \u001b[0;36m<cell line: 1>\u001b[0;34m()\u001b[0m\n\u001b[0;32m----> 1\u001b[0m \u001b[43mword\u001b[49m\u001b[43m[\u001b[49m\u001b[38;5;241;43m6\u001b[39;49m\u001b[43m]\u001b[49m\n",
      "\u001b[0;31mIndexError\u001b[0m: string index out of range"
     ]
    }
   ],
   "source": [
    "word[6]"
   ]
  },
  {
   "cell_type": "code",
   "execution_count": 44,
   "id": "9219e035",
   "metadata": {},
   "outputs": [
    {
     "data": {
      "text/plain": [
       "'pyt'"
      ]
     },
     "execution_count": 44,
     "metadata": {},
     "output_type": "execute_result"
    }
   ],
   "source": [
    "word[0:3]"
   ]
  },
  {
   "cell_type": "code",
   "execution_count": 45,
   "id": "4d8a3b10",
   "metadata": {},
   "outputs": [
    {
     "data": {
      "text/plain": [
       "'python'"
      ]
     },
     "execution_count": 45,
     "metadata": {},
     "output_type": "execute_result"
    }
   ],
   "source": [
    "word"
   ]
  },
  {
   "cell_type": "markdown",
   "id": "4b926f78",
   "metadata": {},
   "source": [
    "### Indexing and slicing `list`"
   ]
  },
  {
   "cell_type": "code",
   "execution_count": 46,
   "id": "cef1f9b1",
   "metadata": {},
   "outputs": [
    {
     "data": {
      "text/plain": [
       "['python', 'geology', 'programming', 'code', 'outcrop', 'mineral']"
      ]
     },
     "execution_count": 46,
     "metadata": {},
     "output_type": "execute_result"
    }
   ],
   "source": [
    "word_list"
   ]
  },
  {
   "cell_type": "code",
   "execution_count": 47,
   "id": "81b1b1fa",
   "metadata": {},
   "outputs": [
    {
     "data": {
      "text/plain": [
       "'python'"
      ]
     },
     "execution_count": 47,
     "metadata": {},
     "output_type": "execute_result"
    }
   ],
   "source": [
    "word_list[0]"
   ]
  },
  {
   "cell_type": "code",
   "execution_count": 48,
   "id": "6e7b7608",
   "metadata": {},
   "outputs": [
    {
     "data": {
      "text/plain": [
       "'mineral'"
      ]
     },
     "execution_count": 48,
     "metadata": {},
     "output_type": "execute_result"
    }
   ],
   "source": [
    "word_list[len(word_list) - 1]"
   ]
  },
  {
   "cell_type": "code",
   "execution_count": 49,
   "id": "0e481128",
   "metadata": {},
   "outputs": [
    {
     "data": {
      "text/plain": [
       "'mineral'"
      ]
     },
     "execution_count": 49,
     "metadata": {},
     "output_type": "execute_result"
    }
   ],
   "source": [
    "word_list[-1]"
   ]
  },
  {
   "cell_type": "code",
   "execution_count": 50,
   "id": "301426f3",
   "metadata": {},
   "outputs": [
    {
     "data": {
      "text/plain": [
       "['outcrop', 'mineral']"
      ]
     },
     "execution_count": 50,
     "metadata": {},
     "output_type": "execute_result"
    }
   ],
   "source": [
    "word_list[4:]"
   ]
  },
  {
   "cell_type": "code",
   "execution_count": 51,
   "id": "62e79bd2",
   "metadata": {},
   "outputs": [
    {
     "data": {
      "text/plain": [
       "'outcrop'"
      ]
     },
     "execution_count": 51,
     "metadata": {},
     "output_type": "execute_result"
    }
   ],
   "source": [
    "word_list[4]"
   ]
  },
  {
   "cell_type": "markdown",
   "id": "40103039",
   "metadata": {},
   "source": [
    "### `dict`"
   ]
  },
  {
   "cell_type": "code",
   "execution_count": 52,
   "id": "08281d6f",
   "metadata": {},
   "outputs": [
    {
     "data": {
      "text/plain": [
       "{'words': ['python', 'geology', 'programming', 'code', 'outcrop', 'mineral'],\n",
       " 'word': 'python',\n",
       " 'transform': 2022}"
      ]
     },
     "execution_count": 52,
     "metadata": {},
     "output_type": "execute_result"
    }
   ],
   "source": [
    "container = {'words': word_list,\n",
    "             'word': word,\n",
    "             'transform': 2022}\n",
    "container"
   ]
  },
  {
   "cell_type": "code",
   "execution_count": 53,
   "id": "a68125a9",
   "metadata": {},
   "outputs": [
    {
     "data": {
      "text/plain": [
       "dict"
      ]
     },
     "execution_count": 53,
     "metadata": {},
     "output_type": "execute_result"
    }
   ],
   "source": [
    "type(container)"
   ]
  },
  {
   "cell_type": "code",
   "execution_count": 54,
   "id": "bf2fd74b",
   "metadata": {},
   "outputs": [
    {
     "data": {
      "text/plain": [
       "dict_keys(['words', 'word', 'transform'])"
      ]
     },
     "execution_count": 54,
     "metadata": {},
     "output_type": "execute_result"
    }
   ],
   "source": [
    "# Exploring python dict\n",
    "container.keys()"
   ]
  },
  {
   "cell_type": "code",
   "execution_count": 55,
   "id": "7cf0d409",
   "metadata": {},
   "outputs": [
    {
     "data": {
      "text/plain": [
       "dict_values([['python', 'geology', 'programming', 'code', 'outcrop', 'mineral'], 'python', 2022])"
      ]
     },
     "execution_count": 55,
     "metadata": {},
     "output_type": "execute_result"
    }
   ],
   "source": [
    "container.values()"
   ]
  },
  {
   "cell_type": "code",
   "execution_count": 56,
   "id": "4460422a",
   "metadata": {},
   "outputs": [
    {
     "data": {
      "text/plain": [
       "'python'"
      ]
     },
     "execution_count": 56,
     "metadata": {},
     "output_type": "execute_result"
    }
   ],
   "source": [
    "container.get('word')"
   ]
  },
  {
   "cell_type": "code",
   "execution_count": 57,
   "id": "d35d1478",
   "metadata": {},
   "outputs": [
    {
     "data": {
      "text/plain": [
       "'python'"
      ]
     },
     "execution_count": 57,
     "metadata": {},
     "output_type": "execute_result"
    }
   ],
   "source": [
    "word"
   ]
  },
  {
   "cell_type": "markdown",
   "id": "4544620f",
   "metadata": {},
   "source": [
    "#### Importing more functions\n",
    "\n",
    "Sometimes we need to reach for some part of python that isn't loaded by default, there are three major ways to import packages:\n",
    "\n",
    "* `import package` -> imports everything. Access things using `package.function()`.\n",
    "* `import package as pkg` -> imports everything with an alias. Accessing things using `pkg.function()`.\n",
    "* `from package import function1, function2` -> import only `function1` and `function2`. Accessed as `function1()` and `function2()`.\n",
    "\n",
    "Here we use the third method to import the `datetime` object from the [`datetime`](https://docs.python.org/3/library/datetime.html#module-datetime) library:"
   ]
  },
  {
   "cell_type": "code",
   "execution_count": 58,
   "id": "5a2b972f",
   "metadata": {},
   "outputs": [],
   "source": [
    "from datetime import datetime"
   ]
  },
  {
   "cell_type": "markdown",
   "id": "f98524c4",
   "metadata": {},
   "source": [
    "And we can now `update` the `dict` with a new value, for example today's date using the `datetime` object we just imported:"
   ]
  },
  {
   "cell_type": "code",
   "execution_count": 61,
   "id": "b9116b5a",
   "metadata": {},
   "outputs": [
    {
     "data": {
      "text/plain": [
       "'2022-04-25'"
      ]
     },
     "execution_count": 61,
     "metadata": {},
     "output_type": "execute_result"
    }
   ],
   "source": [
    "# using datetime to add today's date to the dict\n",
    "datetime.now().date().isoformat()"
   ]
  },
  {
   "cell_type": "code",
   "execution_count": 62,
   "id": "3e92c494",
   "metadata": {},
   "outputs": [
    {
     "data": {
      "text/plain": [
       "{'words': ['python', 'geology', 'programming', 'code', 'outcrop', 'mineral'],\n",
       " 'word': 'python',\n",
       " 'transform': 2022}"
      ]
     },
     "execution_count": 62,
     "metadata": {},
     "output_type": "execute_result"
    }
   ],
   "source": [
    "container"
   ]
  },
  {
   "cell_type": "code",
   "execution_count": 63,
   "id": "8243251f",
   "metadata": {},
   "outputs": [],
   "source": [
    "container.update({'Location': 'Global', 'date': datetime.now().date().isoformat()})"
   ]
  },
  {
   "cell_type": "code",
   "execution_count": 64,
   "id": "b0ad223e",
   "metadata": {},
   "outputs": [
    {
     "data": {
      "text/plain": [
       "{'words': ['python', 'geology', 'programming', 'code', 'outcrop', 'mineral'],\n",
       " 'word': 'python',\n",
       " 'transform': 2022,\n",
       " 'Location': 'Global',\n",
       " 'date': '2022-04-25'}"
      ]
     },
     "execution_count": 64,
     "metadata": {},
     "output_type": "execute_result"
    }
   ],
   "source": [
    "container"
   ]
  },
  {
   "cell_type": "code",
   "execution_count": 65,
   "id": "d72f125b",
   "metadata": {},
   "outputs": [
    {
     "data": {
      "text/plain": [
       "'2022-04-25'"
      ]
     },
     "execution_count": 65,
     "metadata": {},
     "output_type": "execute_result"
    }
   ],
   "source": [
    "container['date']"
   ]
  },
  {
   "cell_type": "code",
   "execution_count": 66,
   "id": "2604383b",
   "metadata": {},
   "outputs": [
    {
     "ename": "KeyError",
     "evalue": "'asd'",
     "output_type": "error",
     "traceback": [
      "\u001b[0;31m---------------------------------------------------------------------------\u001b[0m",
      "\u001b[0;31mKeyError\u001b[0m                                  Traceback (most recent call last)",
      "Input \u001b[0;32mIn [66]\u001b[0m, in \u001b[0;36m<cell line: 1>\u001b[0;34m()\u001b[0m\n\u001b[0;32m----> 1\u001b[0m \u001b[43mcontainer\u001b[49m\u001b[43m[\u001b[49m\u001b[38;5;124;43m'\u001b[39;49m\u001b[38;5;124;43masd\u001b[39;49m\u001b[38;5;124;43m'\u001b[39;49m\u001b[43m]\u001b[49m\n",
      "\u001b[0;31mKeyError\u001b[0m: 'asd'"
     ]
    }
   ],
   "source": [
    "container['asd']"
   ]
  },
  {
   "cell_type": "markdown",
   "id": "2aac3286",
   "metadata": {},
   "source": [
    "### Keying into a `dict`"
   ]
  },
  {
   "cell_type": "code",
   "execution_count": 67,
   "id": "628a6f43",
   "metadata": {},
   "outputs": [
    {
     "data": {
      "text/plain": [
       "dict_keys(['words', 'word', 'transform', 'Location', 'date'])"
      ]
     },
     "execution_count": 67,
     "metadata": {},
     "output_type": "execute_result"
    }
   ],
   "source": [
    "container.keys()"
   ]
  },
  {
   "cell_type": "code",
   "execution_count": 68,
   "id": "6504bf74",
   "metadata": {},
   "outputs": [
    {
     "data": {
      "text/plain": [
       "'Global'"
      ]
     },
     "execution_count": 68,
     "metadata": {},
     "output_type": "execute_result"
    }
   ],
   "source": [
    "container.get('Location')"
   ]
  },
  {
   "cell_type": "code",
   "execution_count": 69,
   "id": "94442842",
   "metadata": {},
   "outputs": [
    {
     "data": {
      "text/plain": [
       "'2022-04-25'"
      ]
     },
     "execution_count": 69,
     "metadata": {},
     "output_type": "execute_result"
    }
   ],
   "source": [
    "container['date']"
   ]
  },
  {
   "cell_type": "code",
   "execution_count": 71,
   "id": "c971c7f0",
   "metadata": {},
   "outputs": [
    {
     "data": {
      "text/plain": [
       "'This key does not exist'"
      ]
     },
     "execution_count": 71,
     "metadata": {},
     "output_type": "execute_result"
    }
   ],
   "source": [
    "container.get('asd', 'This key does not exist')"
   ]
  },
  {
   "cell_type": "markdown",
   "id": "c3ccceda",
   "metadata": {},
   "source": [
    "## Controlling the flow\n",
    "- `if ... else`\n",
    "\n",
    "We often want to make decision in our code based on conditions, so first we need a `bool`-ean condition:"
   ]
  },
  {
   "cell_type": "code",
   "execution_count": 72,
   "id": "a59db19d",
   "metadata": {},
   "outputs": [
    {
     "data": {
      "text/plain": [
       "True"
      ]
     },
     "execution_count": 72,
     "metadata": {},
     "output_type": "execute_result"
    }
   ],
   "source": [
    "x > 5"
   ]
  },
  {
   "cell_type": "code",
   "execution_count": 73,
   "id": "0166e1c8",
   "metadata": {},
   "outputs": [
    {
     "data": {
      "text/plain": [
       "True"
      ]
     },
     "execution_count": 73,
     "metadata": {},
     "output_type": "execute_result"
    }
   ],
   "source": [
    "word == 'python'"
   ]
  },
  {
   "cell_type": "code",
   "execution_count": 74,
   "id": "bd00ebca",
   "metadata": {},
   "outputs": [
    {
     "data": {
      "text/plain": [
       "True"
      ]
     },
     "execution_count": 74,
     "metadata": {},
     "output_type": "execute_result"
    }
   ],
   "source": [
    "'Global' in container.values()"
   ]
  },
  {
   "cell_type": "markdown",
   "id": "b05a938e",
   "metadata": {},
   "source": [
    "Now we can use these in the basic `if` statement:"
   ]
  },
  {
   "cell_type": "code",
   "execution_count": 75,
   "id": "708bc474",
   "metadata": {},
   "outputs": [
    {
     "name": "stdout",
     "output_type": "stream",
     "text": [
      "Code!\n"
     ]
    }
   ],
   "source": [
    "if word == 'python':\n",
    "    print('Code!')"
   ]
  },
  {
   "cell_type": "markdown",
   "id": "dc801b19",
   "metadata": {},
   "source": [
    "Let's look at `container.values()` again:"
   ]
  },
  {
   "cell_type": "code",
   "execution_count": 76,
   "id": "ebba98c2",
   "metadata": {},
   "outputs": [
    {
     "data": {
      "text/plain": [
       "dict_values([['python', 'geology', 'programming', 'code', 'outcrop', 'mineral'], 'python', 2022, 'Global', '2022-04-25'])"
      ]
     },
     "execution_count": 76,
     "metadata": {},
     "output_type": "execute_result"
    }
   ],
   "source": [
    "container.values()"
   ]
  },
  {
   "cell_type": "markdown",
   "id": "9294649f",
   "metadata": {},
   "source": [
    "And we can check for membership of this `container.values()`:"
   ]
  },
  {
   "cell_type": "code",
   "execution_count": 77,
   "id": "27b891b5",
   "metadata": {},
   "outputs": [
    {
     "data": {
      "text/plain": [
       "True"
      ]
     },
     "execution_count": 77,
     "metadata": {},
     "output_type": "execute_result"
    }
   ],
   "source": [
    "'Global' in container.values()"
   ]
  },
  {
   "cell_type": "markdown",
   "id": "9a6c280b",
   "metadata": {},
   "source": [
    "So now we can use this in our conditional statement:"
   ]
  },
  {
   "cell_type": "code",
   "execution_count": 78,
   "id": "701adef3",
   "metadata": {},
   "outputs": [
    {
     "name": "stdout",
     "output_type": "stream",
     "text": [
      "Code!\n"
     ]
    }
   ],
   "source": [
    "if 'python' in container.values():\n",
    "    print('Code!')\n",
    "else:\n",
    "    print('No code.')"
   ]
  },
  {
   "cell_type": "markdown",
   "id": "1bc7d173",
   "metadata": {},
   "source": [
    "What does this look like with a geological example?"
   ]
  },
  {
   "cell_type": "code",
   "execution_count": 79,
   "id": "d8e0f3ed",
   "metadata": {},
   "outputs": [
    {
     "data": {
      "text/plain": [
       "'Medium'"
      ]
     },
     "execution_count": 79,
     "metadata": {},
     "output_type": "execute_result"
    }
   ],
   "source": [
    "porosity = 0.23\n",
    "\n",
    "if porosity >= 0.3:\n",
    "    reservoir = 'Good'\n",
    "elif 0.15 < porosity < 0.3:\n",
    "    reservoir = 'Medium'\n",
    "else:\n",
    "    reservoir = 'Poor'\n",
    "    \n",
    "reservoir"
   ]
  },
  {
   "cell_type": "markdown",
   "id": "4f0a05c7",
   "metadata": {},
   "source": [
    "## Say that again?\n",
    "- loops in python (`for`, list comprehensions)\n",
    "\n",
    "One of the main advantages of computers is the ability to repeat tedious tasks efficiently. Let us first load some data, we will use [`numpy`](https://numpy.org/) for this:"
   ]
  },
  {
   "cell_type": "code",
   "execution_count": 80,
   "id": "986c2fb0",
   "metadata": {},
   "outputs": [],
   "source": [
    "import numpy as np"
   ]
  },
  {
   "cell_type": "code",
   "execution_count": 81,
   "id": "a6b1d2a0",
   "metadata": {},
   "outputs": [
    {
     "name": "stdout",
     "output_type": "stream",
     "text": [
      "(71, 4)\n",
      "(71,)\n"
     ]
    }
   ],
   "source": [
    "data = np.load('./data/GR-NPHI-RHOB-DT.npy')\n",
    "print(data.shape)\n",
    "nphi = data[:,1]\n",
    "print(nphi.shape)"
   ]
  },
  {
   "cell_type": "code",
   "execution_count": 82,
   "id": "7b4c2fac",
   "metadata": {},
   "outputs": [
    {
     "data": {
      "text/plain": [
       "array([0.2455, 0.2432, 0.2406, 0.2393, 0.2416, 0.2294, 0.2516, 0.2543,\n",
       "       0.2299, 0.2547, 0.2708, 0.2583, 0.237 , 0.2541, 0.2331, 0.2469,\n",
       "       0.2529, 0.2341, 0.2251, 0.2293, 0.2193, 0.2134, 0.2422, 0.2436,\n",
       "       0.2024, 0.2314, 0.2373, 0.2112, 0.2358, 0.2278, 0.205 , 0.2283,\n",
       "       0.2436, 0.1864, 0.2222, 0.2115, 0.2033, 0.2279, 0.1988, 0.2214,\n",
       "       0.2361, 0.2339, 0.2301, 0.226 , 0.2365, 0.2512, 0.2186, 0.2294,\n",
       "       0.2348, 0.2416, 0.2434, 0.2178, 0.2229, 0.2185, 0.2268, 0.2256,\n",
       "       0.2155, 0.2351, 0.2216, 0.2042, 0.2133, 0.2411, 0.221 , 0.2219,\n",
       "       0.22  , 0.2361, 0.2378, 0.2233, 0.2122, 0.2439, 0.2273])"
      ]
     },
     "execution_count": 82,
     "metadata": {},
     "output_type": "execute_result"
    }
   ],
   "source": [
    "nphi"
   ]
  },
  {
   "cell_type": "code",
   "execution_count": 83,
   "id": "0f3958b5",
   "metadata": {},
   "outputs": [
    {
     "ename": "NameError",
     "evalue": "name 'poro' is not defined",
     "output_type": "error",
     "traceback": [
      "\u001b[0;31m---------------------------------------------------------------------------\u001b[0m",
      "\u001b[0;31mNameError\u001b[0m                                 Traceback (most recent call last)",
      "Input \u001b[0;32mIn [83]\u001b[0m, in \u001b[0;36m<cell line: 1>\u001b[0;34m()\u001b[0m\n\u001b[0;32m----> 1\u001b[0m \u001b[43mporo\u001b[49m\n",
      "\u001b[0;31mNameError\u001b[0m: name 'poro' is not defined"
     ]
    }
   ],
   "source": [
    "poro"
   ]
  },
  {
   "cell_type": "code",
   "execution_count": 84,
   "id": "77361578",
   "metadata": {},
   "outputs": [
    {
     "name": "stdout",
     "output_type": "stream",
     "text": [
      "0.24550000004046355\n",
      "0.2432000000221169\n",
      "0.2405999999336257\n",
      "0.2392999999883031\n",
      "0.24160000002507376\n"
     ]
    }
   ],
   "source": [
    "for poro in nphi[:5]:\n",
    "    print(poro)"
   ]
  },
  {
   "cell_type": "code",
   "execution_count": 85,
   "id": "87c5584e",
   "metadata": {},
   "outputs": [
    {
     "data": {
      "image/png": "[encoded data removed]",
      "text/plain": [
       "<Figure size 432x288 with 1 Axes>"
      ]
     },
     "metadata": {
      "needs_background": "light"
     },
     "output_type": "display_data"
    }
   ],
   "source": [
    "import matplotlib.pyplot as plt\n",
    "plt.plot(nphi)\n",
    "plt.hlines(0.24, 0, 70, color='r')\n",
    "plt.hlines(0.22, 0, 70, color='r')\n",
    "plt.ylabel('NPHI')\n",
    "plt.xlabel('Sample number')\n",
    "plt.grid(alpha=0.4)"
   ]
  },
  {
   "cell_type": "code",
   "execution_count": 86,
   "id": "461bd27a",
   "metadata": {},
   "outputs": [
    {
     "data": {
      "text/plain": [
       "'Medium'"
      ]
     },
     "execution_count": 86,
     "metadata": {},
     "output_type": "execute_result"
    }
   ],
   "source": [
    "porosity = 0.23\n",
    "\n",
    "if porosity >= 0.24:\n",
    "    reservoir = 'Good'\n",
    "elif 0.22 < porosity < 0.24:\n",
    "    reservoir = 'Medium'\n",
    "else:\n",
    "    reservoir = 'Poor'\n",
    "\n",
    "reservoir"
   ]
  },
  {
   "cell_type": "code",
   "execution_count": 87,
   "id": "6731e86d",
   "metadata": {},
   "outputs": [
    {
     "name": "stdout",
     "output_type": "stream",
     "text": [
      "Medium\n",
      "Medium\n",
      "Medium\n",
      "Medium\n",
      "Medium\n"
     ]
    }
   ],
   "source": [
    "for poro in nphi[:5]:\n",
    "    if porosity >= 0.24:\n",
    "        reservoir = 'Good'\n",
    "    elif 0.22 < porosity < 0.24:\n",
    "        reservoir = 'Medium'\n",
    "    else:\n",
    "        reservoir = 'Poor'\n",
    "    print(reservoir)"
   ]
  },
  {
   "cell_type": "code",
   "execution_count": 88,
   "id": "15266380",
   "metadata": {},
   "outputs": [
    {
     "data": {
      "text/plain": [
       "7"
      ]
     },
     "execution_count": 88,
     "metadata": {},
     "output_type": "execute_result"
    }
   ],
   "source": [
    "good_reservoir_count = 0\n",
    "\n",
    "for poro in nphi[:10]:\n",
    "    if poro >= 0.24:\n",
    "        good_reservoir_count += 1\n",
    "        #good_reservoir_count = good_reservoir_count + 1\n",
    "good_reservoir_count"
   ]
  },
  {
   "cell_type": "code",
   "execution_count": 89,
   "id": "7c157280",
   "metadata": {},
   "outputs": [
    {
     "data": {
      "text/plain": [
       "20"
      ]
     },
     "execution_count": 89,
     "metadata": {},
     "output_type": "execute_result"
    }
   ],
   "source": [
    "good_reservoir_count = 0\n",
    "\n",
    "for poro in nphi:\n",
    "    if poro >= 0.24:\n",
    "        good_reservoir_count += 1\n",
    "        #good_reservoir_count = good_reservoir_count + 1\n",
    "good_reservoir_count"
   ]
  },
  {
   "cell_type": "code",
   "execution_count": 90,
   "id": "41686793",
   "metadata": {},
   "outputs": [
    {
     "data": {
      "text/plain": [
       "20"
      ]
     },
     "execution_count": 90,
     "metadata": {},
     "output_type": "execute_result"
    }
   ],
   "source": [
    "good_reservoir_lc = sum([1 for poro in nphi if poro > 0.24])\n",
    "good_reservoir_lc"
   ]
  },
  {
   "cell_type": "markdown",
   "id": "b58007da",
   "metadata": {},
   "source": [
    "## An image speaks a thousand words\n",
    "\n",
    "The [python-visualization-landscape](https://github.com/rougier/python-visualization-landscape) is vast and can be intimidating, no doubt you'll see many great examples during Transform 2022, but the place to start is usually [matplotlib](https://matplotlib.org/stable/users/index.html), you can reach the docs directly from with the jupyter notebook:\n",
    "\n",
    "![matplotlib help](./images/notebook_help_dropdown.png)"
   ]
  },
  {
   "cell_type": "code",
   "execution_count": 92,
   "id": "ba6696f8",
   "metadata": {},
   "outputs": [
    {
     "data": {
      "image/png": "[encoded data removed]",
      "text/plain": [
       "<Figure size 576x576 with 3 Axes>"
      ]
     },
     "metadata": {
      "needs_background": "light"
     },
     "output_type": "display_data"
    }
   ],
   "source": [
    "import numpy as np\n",
    "import matplotlib.pyplot as plt\n",
    "\n",
    "# Fixing random state for reproducibility\n",
    "np.random.seed(19680801)\n",
    "\n",
    "# some random data\n",
    "x = np.random.randn(1000)\n",
    "y = np.random.randn(1000)\n",
    "\n",
    "\n",
    "def scatter_hist(x, y, ax, ax_histx, ax_histy):\n",
    "    # no labels\n",
    "    ax_histx.tick_params(axis=\"x\", labelbottom=False)\n",
    "    ax_histy.tick_params(axis=\"y\", labelleft=False)\n",
    "\n",
    "    # the scatter plot:\n",
    "    ax.scatter(x, y)\n",
    "\n",
    "    # now determine nice limits by hand:\n",
    "    binwidth = 0.25\n",
    "    xymax = max(np.max(np.abs(x)), np.max(np.abs(y)))\n",
    "    lim = (int(xymax/binwidth) + 1) * binwidth\n",
    "\n",
    "    bins = np.arange(-lim, lim + binwidth, binwidth)\n",
    "    ax_histx.hist(x, bins=bins)\n",
    "    ax_histy.hist(y, bins=bins, orientation='horizontal')\n",
    "    \n",
    "# definitions for the axes\n",
    "left, width = 0.1, 0.65\n",
    "bottom, height = 0.1, 0.65\n",
    "spacing = 0.005\n",
    "\n",
    "\n",
    "rect_scatter = [left, bottom, width, height]\n",
    "rect_histx = [left, bottom + height + spacing, width, 0.2]\n",
    "rect_histy = [left + width + spacing, bottom, 0.2, height]\n",
    "\n",
    "# start with a square Figure\n",
    "fig = plt.figure(figsize=(8, 8))\n",
    "\n",
    "ax = fig.add_axes(rect_scatter)\n",
    "ax_histx = fig.add_axes(rect_histx, sharex=ax)\n",
    "ax_histy = fig.add_axes(rect_histy, sharey=ax)\n",
    "\n",
    "# use the previously defined function\n",
    "scatter_hist(x, y, ax, ax_histx, ax_histy)\n",
    "\n",
    "plt.show()"
   ]
  },
  {
   "cell_type": "code",
   "execution_count": 93,
   "id": "0160ddec",
   "metadata": {},
   "outputs": [],
   "source": [
    "import matplotlib.pyplot as plt"
   ]
  },
  {
   "cell_type": "code",
   "execution_count": 95,
   "id": "b8f3cddb",
   "metadata": {},
   "outputs": [
    {
     "data": {
      "text/plain": [
       "[<matplotlib.lines.Line2D at 0x7f25e108a8b0>]"
      ]
     },
     "execution_count": 95,
     "metadata": {},
     "output_type": "execute_result"
    },
    {
     "data": {
      "image/png": "[encoded data removed]",
      "text/plain": [
       "<Figure size 432x288 with 1 Axes>"
      ]
     },
     "metadata": {
      "needs_background": "light"
     },
     "output_type": "display_data"
    }
   ],
   "source": [
    "plt.plot(nphi)"
   ]
  },
  {
   "cell_type": "code",
   "execution_count": 97,
   "id": "af356635",
   "metadata": {},
   "outputs": [
    {
     "data": {
      "image/png": "[encoded data removed]",
      "text/plain": [
       "<Figure size 432x288 with 1 Axes>"
      ]
     },
     "metadata": {
      "needs_background": "light"
     },
     "output_type": "display_data"
    }
   ],
   "source": [
    "plt.plot(nphi, 'o-', c='g')\n",
    "plt.grid(alpha=.4)"
   ]
  },
  {
   "cell_type": "code",
   "execution_count": 100,
   "id": "9d28c67d",
   "metadata": {},
   "outputs": [
    {
     "data": {
      "image/png": "[encoded data removed]",
      "text/plain": [
       "<Figure size 432x288 with 1 Axes>"
      ]
     },
     "metadata": {
      "needs_background": "light"
     },
     "output_type": "display_data"
    }
   ],
   "source": [
    "fig, ax = plt.subplots()\n",
    "\n",
    "ax.plot(nphi, 'o-', c='g', lw=0.4, markersize=2)\n",
    "ax.set_ylabel('NPHI')\n",
    "ax.set_xlabel('Sample number')\n",
    "ax.set_title('Simple porosity plot')\n",
    "ax.grid(alpha=0.4)"
   ]
  },
  {
   "cell_type": "markdown",
   "id": "9f3722b2",
   "metadata": {},
   "source": [
    "Now we have created a plot, let's pull all of this together a single cell and save the figure:"
   ]
  },
  {
   "cell_type": "code",
   "execution_count": 101,
   "id": "3b8e7bab",
   "metadata": {},
   "outputs": [
    {
     "data": {
      "image/png": "[encoded data removed]",
      "text/plain": [
       "<Figure size 432x288 with 1 Axes>"
      ]
     },
     "metadata": {
      "needs_background": "light"
     },
     "output_type": "display_data"
    }
   ],
   "source": [
    "import numpy as np\n",
    "import matplotlib.pyplot as plt\n",
    "\n",
    "\n",
    "data = np.load('./data/GR-NPHI-RHOB-DT.npy')\n",
    "nphi = data[:,1]\n",
    "\n",
    "fig, ax = plt.subplots()\n",
    "\n",
    "ax.plot(nphi, 'o-', c='g', lw=0.4, markersize=2)\n",
    "ax.set_ylabel('NPHI')\n",
    "ax.set_xlabel('Sample number')\n",
    "ax.set_title('Simple Porosity plot')\n",
    "ax.grid(alpha=0.4)\n",
    "\n",
    "plt.savefig('./images/NPHI_plot.png')\n",
    "\n",
    "plt.show()"
   ]
  },
  {
   "cell_type": "markdown",
   "id": "73cb2690",
   "metadata": {},
   "source": [
    "### Interactive plots\n",
    "\n",
    "It is possible to add interactivity to plots in the Jupyter notebook using [`ipywidgets`](https://ipywidgets.readthedocs.io), without going through a full tutorial, here is a simple demo extending the plot we've been working with:"
   ]
  },
  {
   "cell_type": "code",
   "execution_count": 102,
   "id": "e847a4ed",
   "metadata": {},
   "outputs": [
    {
     "data": {
      "application/vnd.jupyter.widget-view+json": {
       "model_id": "95da7f576e6745d994b93e347cec1d26",
       "version_major": 2,
       "version_minor": 0
      },
      "text/plain": [
       "interactive(children=(FloatSlider(value=0.24, continuous_update=False, description='high', max=0.28, min=0.22,…"
      ]
     },
     "metadata": {},
     "output_type": "display_data"
    }
   ],
   "source": [
    "from ipywidgets import interact\n",
    "import ipywidgets as widgets\n",
    "\n",
    "\n",
    "@interact(high=widgets.FloatSlider(value=0.24, min=0.22, max=0.28, step=0.001, continuous_update=False),\n",
    "          low=widgets.FloatSlider(value=0.22, min=0.18, max=0.22, step=0.001, continuous_update=False)\n",
    "         )\n",
    "def poro_high_low(high, low):\n",
    "    \"\"\"Create an interactive plot with ipywidgets.\"\"\"\n",
    "    fig, ax = plt.subplots(figsize=(14, 6))\n",
    "    ax.plot(nphi, c='k', lw=1, markersize=6)\n",
    "    ax.plot(np.where(nphi > high, nphi, None), '^', c='r', lw=0.4, markersize=10)\n",
    "    ax.plot(np.where((nphi < high) & (nphi > low), nphi, None), 'o', c='g', lw=0.4, markersize=8)\n",
    "    ax.plot(np.where(nphi < low, nphi, None), 'v', c='b', lw=0.4, markersize=8)\n",
    "    ax.fill_between(np.arange(nphi.size), low, high, color='g', alpha=0.1)\n",
    "    ax.set_ylabel('NPHI')\n",
    "    ax.set_xlabel('Sample number')\n",
    "    ax.set_title('Simple Porosity plot')\n",
    "    ax.axhline(high, ls='--' ,c='r', label='high')\n",
    "    ax.axhline(low, ls='-.', c='b', label='low')\n",
    "    ax.legend()\n",
    "    ax.grid(alpha=0.4)\n",
    "    \n",
    "    return None"
   ]
  },
  {
   "cell_type": "markdown",
   "id": "2be2b07c",
   "metadata": {},
   "source": [
    "## Wrap it up and do it again\n",
    "\n",
    "Part of the beauty of code is its reusabilty, we've used functions already:"
   ]
  },
  {
   "cell_type": "code",
   "execution_count": 103,
   "id": "7e3ba462",
   "metadata": {},
   "outputs": [
    {
     "data": {
      "text/plain": [
       "builtin_function_or_method"
      ]
     },
     "execution_count": 103,
     "metadata": {},
     "output_type": "execute_result"
    }
   ],
   "source": [
    "type(print)"
   ]
  },
  {
   "cell_type": "code",
   "execution_count": 104,
   "id": "b362e30e",
   "metadata": {},
   "outputs": [
    {
     "data": {
      "text/plain": [
       "6"
      ]
     },
     "execution_count": 104,
     "metadata": {},
     "output_type": "execute_result"
    }
   ],
   "source": [
    "sum([1, 2, 3])"
   ]
  },
  {
   "cell_type": "code",
   "execution_count": 105,
   "id": "c9d769c1",
   "metadata": {},
   "outputs": [
    {
     "data": {
      "text/plain": [
       "[1, 4, 9, 16, 25, 36, 49, 64, 81, 100]"
      ]
     },
     "execution_count": 105,
     "metadata": {},
     "output_type": "execute_result"
    }
   ],
   "source": [
    "# using plt.scatter\n",
    "xs = [1, 2, 3, 4, 5, 6, 7, 8, 9, 10]\n",
    "x2 = [x**2 for x in xs]\n",
    "x2"
   ]
  },
  {
   "cell_type": "code",
   "execution_count": 106,
   "id": "7d6302da",
   "metadata": {},
   "outputs": [
    {
     "data": {
      "text/plain": [
       "<matplotlib.collections.PathCollection at 0x7f25e15f0370>"
      ]
     },
     "execution_count": 106,
     "metadata": {},
     "output_type": "execute_result"
    },
    {
     "data": {
      "image/png": "[encoded data removed]",
      "text/plain": [
       "<Figure size 432x288 with 1 Axes>"
      ]
     },
     "metadata": {
      "needs_background": "light"
     },
     "output_type": "display_data"
    }
   ],
   "source": [
    "plt.scatter(xs, x2, c='r')"
   ]
  },
  {
   "cell_type": "code",
   "execution_count": 107,
   "id": "fe02dbc7",
   "metadata": {},
   "outputs": [],
   "source": [
    "# writing our own simple function\n",
    "def my_adder(a, b):\n",
    "    \"\"\"\n",
    "    Add two numbers:\n",
    "    Args\n",
    "        a, b (float-like): values to be summed\n",
    "    Returns\n",
    "        the sum of a and b\n",
    "    \"\"\"\n",
    "    return a + b"
   ]
  },
  {
   "cell_type": "code",
   "execution_count": 108,
   "id": "c626aa0e",
   "metadata": {},
   "outputs": [],
   "source": [
    "my_adder?"
   ]
  },
  {
   "cell_type": "code",
   "execution_count": 109,
   "id": "d41fffca",
   "metadata": {},
   "outputs": [
    {
     "data": {
      "text/plain": [
       "143"
      ]
     },
     "execution_count": 109,
     "metadata": {},
     "output_type": "execute_result"
    }
   ],
   "source": [
    "my_adder(45, 98)"
   ]
  },
  {
   "cell_type": "markdown",
   "id": "5c455843",
   "metadata": {},
   "source": [
    "### Writing actual equations in python\n",
    "\n",
    "Remember this equation?\n",
    "$$\\rho = \\alpha {V_P}^{\\beta}$$\n",
    "\n",
    "Let's turn it into a python function:"
   ]
  },
  {
   "cell_type": "code",
   "execution_count": 110,
   "id": "1bbcd605",
   "metadata": {},
   "outputs": [],
   "source": [
    "def gardner(vp, alpha=310, beta=0.25):\n",
    "    \"\"\"Evaluate gardner's relation.\n",
    "    Args:\n",
    "        vp (float): P-wave velocity\n",
    "        alpha (float-like): alpha scalar\n",
    "        beta (float-like): beta exponent\n",
    "    Returns:\n",
    "        rho (float): density\n",
    "    Source: https://subsurfwiki.org/wiki/Gardner%27s_equation\n",
    "    \"\"\"\n",
    "    return alpha * vp**beta"
   ]
  },
  {
   "cell_type": "code",
   "execution_count": 111,
   "id": "8d4bd537",
   "metadata": {},
   "outputs": [
    {
     "data": {
      "text/plain": [
       "2248.147169062099"
      ]
     },
     "execution_count": 111,
     "metadata": {},
     "output_type": "execute_result"
    }
   ],
   "source": [
    "gardner(2766)"
   ]
  },
  {
   "cell_type": "markdown",
   "id": "e0e7fa09",
   "metadata": {},
   "source": [
    "## Where to next?\n",
    "\n",
    "- Useful (and approachable) documentation\n",
    " - [python.org/tutorial](https://docs.python.org/3/tutorial/index.html)\n",
    " - [matplotlib gallery](https://matplotlib.org/stable/gallery/index.html)\n",
    " - [w3schools/python](https://www.w3schools.com/python/)\n",
    "- Books\n",
    " - [Python Crash Course, 2nd Edition](https://www.amazon.com/Python-Crash-Course-2nd-Edition/dp/1593279280)\n",
    " - [Automate the Boring Stuff with Python, 2nd Edition](https://automatetheboringstuff.com/2e/chapter0/)\n",
    " - [Learning Python: Powerful Object-Oriented Programming](https://www.amazon.com/Learning-Python-Powerful-Object-Oriented-Programming-ebook/dp/B00DDZPC9S)\n",
    "- Cheatsheets\n",
    " - [pythoncheatsheet](https://www.pythoncheatsheet.org/)\n",
    " - [Basic cheatseet](https://agilescientific.com/blog/2011/1/14/basic-cheatsheet.html)\n",
    " - [Geophysics cheatsheet](https://agilescientific.com/blog/2011/1/31/geophysics-cheatsheet.html)\n",
    " - [Rock physics cheatsheet](https://agilescientific.com/blog/2011/3/7/rock-physics-cheatsheet.html)\n",
    " - [Petrophysics cheatsheet](https://agilescientific.com/blog/2011/7/25/petrophysics-cheatsheet.html)\n",
    " - [Petroleum cheatsheet](https://agilescientific.com/blog/2011/12/12/petroleum-cheatsheet.html)\n",
    "- Transform youtube tutorials\n",
    " - [Preparing for Transform 2020](https://youtube.com/playlist?list=PLgLft9vxdduAW-jmhYqXvtfGYJS6v2FjM), setup guides for Windows and Linux\n",
    " - [Learning Python for Geoscience](https://youtube.com/playlist?list=PLgLft9vxdduDm3W6i3qjT7s-ne4oTAvks), a playlist of setup instructions and tutorials covering introductions to python, python subsurface tools, geospatial analysis, statistics and data analysis and well data exploration.\n",
    " - [Transform 2021](https://youtube.com/playlist?list=PLgLft9vxdduCESA3xAo5Ts_ziO8vZAFG1) all the content from the 2021 edition!\n",
    " - [Transform 2020](https://youtube.com/playlist?list=PLgLft9vxdduD8Zydz4dRJqIzCWDlPKITC) all the content from the 2020 edition!\n",
    "- **Your own awesome project!** The best way to learn anything is through practice, so now you should think of a task you perform at work on in your hobbies that you can break down into programmable steps, then code it up in python little by little, and before you know it, you'll be a pythonista!\n",
    "\n",
    "<div>\n",
    "<img src=\"https://avatars1.githubusercontent.com/u/1692321?s=50\"><p style=\"text-align:center\">© Agile Geoscience 2021</p>\n",
    "</div>"
   ]
  },
  {
   "cell_type": "code",
   "execution_count": null,
   "id": "efa84560",
   "metadata": {},
   "outputs": [],
   "source": []
  }
 ],
 "metadata": {
  "celltoolbar": "Tags",
  "kernelspec": {
   "display_name": "t22_setup",
   "language": "python",
   "name": "t22_setup"
  },
  "language_info": {
   "codemirror_mode": {
    "name": "ipython",
    "version": 3
   },
   "file_extension": ".py",
   "mimetype": "text/x-python",
   "name": "python",
   "nbconvert_exporter": "python",
   "pygments_lexer": "ipython3",
   "version": "3.9.12"
  }
 },
 "nbformat": 4,
 "nbformat_minor": 5
}
