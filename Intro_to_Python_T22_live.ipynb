{
 "cells": [
  {
   "cell_type": "markdown",
   "id": "02cbe208",
   "metadata": {},
   "source": [
    "# First a quick tour of the jupyter notebook\n",
    "\n",
    "- Shortcuts\n",
    "- Getting help\n",
    "- Cell types\n",
    "- Executing cells\n",
    "\n",
    "### Formatted text\n",
    "\n",
    "We can write formated text in Markdown cells (`Esc + m`) and there are plenty of resources available:\n",
    "\n",
    "- The original Markdown page by John Gruber:\n",
    "[daringfireball.net/projects/markdown](https://daringfireball.net/projects/markdown/)\n",
    "- Getting started with markdown:\n",
    "[markdownguide.org/getting-started](https://www.markdownguide.org/getting-started/)\n",
    "- Cheat sheet:\n",
    "[markdownguide.org/cheat-sheet](https://www.markdownguide.org/cheat-sheet)"
   ]
  },
  {
   "cell_type": "markdown",
   "id": "cacba190",
   "metadata": {},
   "source": [
    "#### H4-heading\n",
    "\n",
    "**Unordered list**\n",
    "- item 1\n",
    "- item 2\n",
    "  - sub-item a\n",
    "  - sub-item b\n",
    "- item 3\n",
    "\n",
    "**Ordered list**\n",
    "1. first\n",
    "2. second\n",
    "3. third\n",
    "\n",
    "*italic*, **bold**, <ins>underline (not strictly markdown but works in the notebook)</ins>\n",
    "\n",
    "> quoted text\n",
    "\n",
    "\n",
    "| Syntax | Description |\n",
    "| ----------- | ----------- |\n",
    "| Header | Title |\n",
    "| Paragraph | Text |"
   ]
  },
  {
   "cell_type": "markdown",
   "id": "687e6504",
   "metadata": {},
   "source": [
    "### Equations\n",
    "Mathematical expressions in notebooks use LaTeX:\n",
    "[overleaf.com/learn/latex/Mathematical_expressions](https://www.overleaf.com/learn/latex/Mathematical_expressions)\n",
    "\n",
    "Inline [Gardner's equation](https://subsurfwiki.org/wiki/Gardner%27s_equation) $\\rho = \\alpha {V_P}^{\\beta}$\n",
    "\n",
    "Centered equation [Darcy's Law](https://en.wikipedia.org/wiki/Darcy%27s_law)\n",
    "$$q = -\\frac{k}{\\mu L} \\Delta p$$"
   ]
  },
  {
   "cell_type": "markdown",
   "id": "e42023c4",
   "metadata": {},
   "source": [
    "### Code\n",
    "\n",
    "in-line `code`\n",
    "\n",
    "and multiline formatted code:\n",
    "\n",
    "```python\n",
    "# Some formatted python code\n",
    "\n",
    "def say_hi():\n",
    "    \"\"\"Just print hello!\"\"\"\n",
    "    print('Hello!')\n",
    "    return None\n",
    "```"
   ]
  },
  {
   "cell_type": "markdown",
   "id": "9d5275f9",
   "metadata": {},
   "source": [
    "### Code output"
   ]
  },
  {
   "cell_type": "code",
   "execution_count": null,
   "id": "6d96c478",
   "metadata": {},
   "outputs": [],
   "source": [
    "print('Hello Transfrom 2022!')"
   ]
  },
  {
   "cell_type": "markdown",
   "id": "1a1728b1",
   "metadata": {},
   "source": [
    "### Images\n",
    "\n",
    "![Transform 2022](./images/T21_shirt_viridis.png)"
   ]
  },
  {
   "cell_type": "markdown",
   "id": "3df942b3",
   "metadata": {},
   "source": [
    "# A gentle introduction to python\n",
    "\n",
    "## Things you already know\n",
    "### mathematical operators"
   ]
  },
  {
   "cell_type": "code",
   "execution_count": null,
   "id": "36890967",
   "metadata": {},
   "outputs": [],
   "source": [
    "# Live coding of basic mathematical operators\n",
    "\n"
   ]
  },
  {
   "cell_type": "markdown",
   "id": "60b979ab",
   "metadata": {},
   "source": [
    "### logical operators"
   ]
  },
  {
   "cell_type": "code",
   "execution_count": null,
   "id": "42c6103c",
   "metadata": {},
   "outputs": [],
   "source": [
    "# Live coding of logical operators\n",
    "\n"
   ]
  },
  {
   "cell_type": "markdown",
   "id": "76545ed4",
   "metadata": {},
   "source": [
    "### Assignment"
   ]
  },
  {
   "cell_type": "code",
   "execution_count": null,
   "id": "84d909ef",
   "metadata": {},
   "outputs": [],
   "source": [
    "x = 10\n",
    "# no output!"
   ]
  },
  {
   "cell_type": "code",
   "execution_count": null,
   "id": "c78ddd2c",
   "metadata": {},
   "outputs": [],
   "source": [
    "x"
   ]
  },
  {
   "cell_type": "markdown",
   "id": "e0b2e973",
   "metadata": {},
   "source": [
    "## Stepping sideways out of your comfort zone\n",
    "\n",
    "Words and collections in python (i.e. `str`, `list`, `dict`)\n",
    "\n",
    "### `str`"
   ]
  },
  {
   "cell_type": "code",
   "execution_count": null,
   "id": "12d57bcc",
   "metadata": {},
   "outputs": [],
   "source": [
    "word = 'python'\n",
    "type(word)"
   ]
  },
  {
   "cell_type": "code",
   "execution_count": null,
   "id": "73f420cc",
   "metadata": {},
   "outputs": [],
   "source": [
    "word"
   ]
  },
  {
   "cell_type": "code",
   "execution_count": null,
   "id": "32256141",
   "metadata": {},
   "outputs": [],
   "source": [
    "# single vs double quotes\n",
    "\n"
   ]
  },
  {
   "cell_type": "code",
   "execution_count": null,
   "id": "29e0ca04",
   "metadata": {},
   "outputs": [],
   "source": [
    "len(word)"
   ]
  },
  {
   "cell_type": "code",
   "execution_count": null,
   "id": "e3b41e8b",
   "metadata": {},
   "outputs": [],
   "source": [
    "# str methods\n",
    "\n"
   ]
  },
  {
   "cell_type": "markdown",
   "id": "d8fda5bd",
   "metadata": {},
   "source": [
    "### `list`"
   ]
  },
  {
   "cell_type": "code",
   "execution_count": null,
   "id": "3ed2eb40",
   "metadata": {},
   "outputs": [],
   "source": [
    "word_list = ['python', 'geology', 'programming', 'code', 'outcrop']\n",
    "# again, no output, assignment is silent"
   ]
  },
  {
   "cell_type": "code",
   "execution_count": null,
   "id": "48bdb86a",
   "metadata": {},
   "outputs": [],
   "source": [
    "# exploring lists\n",
    "\n"
   ]
  },
  {
   "cell_type": "markdown",
   "id": "90bacfd1",
   "metadata": {},
   "source": [
    "## Indexing and slicing\n",
    "\n",
    "We can reach into these collections, there are two main things to remember:\n",
    "\n",
    "0. python starts counting at `0`\n",
    "1. we use square brackets `[]`"
   ]
  },
  {
   "cell_type": "markdown",
   "id": "a10cce85",
   "metadata": {},
   "source": [
    "### Indexing and slicing `str`"
   ]
  },
  {
   "cell_type": "code",
   "execution_count": null,
   "id": "4d8a3b10",
   "metadata": {},
   "outputs": [],
   "source": []
  },
  {
   "cell_type": "markdown",
   "id": "4b926f78",
   "metadata": {},
   "source": [
    "### Indexing and slicing `list`"
   ]
  },
  {
   "cell_type": "code",
   "execution_count": null,
   "id": "cef1f9b1",
   "metadata": {},
   "outputs": [],
   "source": []
  },
  {
   "cell_type": "markdown",
   "id": "40103039",
   "metadata": {},
   "source": [
    "### `dict`"
   ]
  },
  {
   "cell_type": "code",
   "execution_count": null,
   "id": "08281d6f",
   "metadata": {},
   "outputs": [],
   "source": [
    "container = {'words': word_list, 'word': word, 'transform': 2022}\n",
    "container"
   ]
  },
  {
   "cell_type": "code",
   "execution_count": null,
   "id": "bf2fd74b",
   "metadata": {},
   "outputs": [],
   "source": [
    "# Exploring python dict\n",
    "\n"
   ]
  },
  {
   "cell_type": "markdown",
   "id": "4544620f",
   "metadata": {},
   "source": [
    "#### Importing more functions\n",
    "\n",
    "Sometimes we need to reach for some part of python that isn't loaded by default, there are three major ways to import packages:\n",
    "\n",
    "* `import package` -> imports everything. Access things using `package.function()`.\n",
    "* `import package as pkg` -> imports everything with an alias. Accessing things using `pkg.function()`.\n",
    "* `from package import function1, function2` -> import only `function1` and `function2`. Accessed as `function1()` and `function2()`.\n",
    "\n",
    "Here we use the third method to import the `datetime` object from the [`datetime`](https://docs.python.org/3/library/datetime.html#module-datetime) library:"
   ]
  },
  {
   "cell_type": "code",
   "execution_count": null,
   "id": "5a2b972f",
   "metadata": {},
   "outputs": [],
   "source": [
    "from datetime import datetime"
   ]
  },
  {
   "cell_type": "markdown",
   "id": "f98524c4",
   "metadata": {},
   "source": [
    "And we can now `update` the `dict` with a new value, for example today's date using the `datetime` object we just imported:"
   ]
  },
  {
   "cell_type": "code",
   "execution_count": null,
   "id": "b9116b5a",
   "metadata": {},
   "outputs": [],
   "source": [
    "# using datetime to add today's date to the dict\n",
    "\n"
   ]
  },
  {
   "cell_type": "code",
   "execution_count": null,
   "id": "b0ad223e",
   "metadata": {},
   "outputs": [],
   "source": [
    "container"
   ]
  },
  {
   "cell_type": "code",
   "execution_count": null,
   "id": "d72f125b",
   "metadata": {},
   "outputs": [],
   "source": [
    "container['date']"
   ]
  },
  {
   "cell_type": "markdown",
   "id": "2aac3286",
   "metadata": {},
   "source": [
    "### Keying into a `dict`"
   ]
  },
  {
   "cell_type": "code",
   "execution_count": null,
   "id": "628a6f43",
   "metadata": {},
   "outputs": [],
   "source": []
  },
  {
   "cell_type": "markdown",
   "id": "c3ccceda",
   "metadata": {},
   "source": [
    "## Controlling the flow\n",
    "- `if ... else`\n",
    "\n",
    "We often want to make decision in our code based on conditions, so first we need a `bool`-ean condition:"
   ]
  },
  {
   "cell_type": "code",
   "execution_count": null,
   "id": "a59db19d",
   "metadata": {},
   "outputs": [],
   "source": []
  },
  {
   "cell_type": "markdown",
   "id": "b05a938e",
   "metadata": {},
   "source": [
    "Now we can use these in the basic `if` statement:"
   ]
  },
  {
   "cell_type": "code",
   "execution_count": null,
   "id": "708bc474",
   "metadata": {},
   "outputs": [],
   "source": []
  },
  {
   "cell_type": "markdown",
   "id": "dc801b19",
   "metadata": {},
   "source": [
    "Let's look at `container.values()` again:"
   ]
  },
  {
   "cell_type": "code",
   "execution_count": null,
   "id": "ebba98c2",
   "metadata": {},
   "outputs": [],
   "source": [
    "container.values()"
   ]
  },
  {
   "cell_type": "markdown",
   "id": "9294649f",
   "metadata": {},
   "source": [
    "And we can check for membership of this `container.values()`:"
   ]
  },
  {
   "cell_type": "code",
   "execution_count": null,
   "id": "27b891b5",
   "metadata": {},
   "outputs": [],
   "source": [
    "'Global' in container.values()"
   ]
  },
  {
   "cell_type": "markdown",
   "id": "9a6c280b",
   "metadata": {},
   "source": [
    "So now we can use this in our conditional statement:"
   ]
  },
  {
   "cell_type": "code",
   "execution_count": null,
   "id": "701adef3",
   "metadata": {},
   "outputs": [],
   "source": [
    "if 'python' in container.values():\n",
    "    print('Code!')\n",
    "else:\n",
    "    print('No code.')"
   ]
  },
  {
   "cell_type": "code",
   "execution_count": null,
   "id": "2a64bc95",
   "metadata": {},
   "outputs": [],
   "source": []
  },
  {
   "cell_type": "markdown",
   "id": "1bc7d173",
   "metadata": {},
   "source": [
    "What does this look like with a geological example?"
   ]
  },
  {
   "cell_type": "code",
   "execution_count": null,
   "id": "d8e0f3ed",
   "metadata": {},
   "outputs": [],
   "source": []
  },
  {
   "cell_type": "markdown",
   "id": "4f0a05c7",
   "metadata": {},
   "source": [
    "## Say that again?\n",
    "- loops in python (`for`, list comprehensions)\n",
    "\n",
    "One of the main advantages of computers is the ability to repeat tedious tasks efficiently. Let us first load some data, we will use [`numpy`](https://numpy.org/) for this:"
   ]
  },
  {
   "cell_type": "code",
   "execution_count": null,
   "id": "986c2fb0",
   "metadata": {},
   "outputs": [],
   "source": [
    "import numpy as np"
   ]
  },
  {
   "cell_type": "code",
   "execution_count": null,
   "id": "a6b1d2a0",
   "metadata": {},
   "outputs": [],
   "source": [
    "data = np.load('./data/GR-NPHI-RHOB-DT.npy')\n",
    "print(data.shape)\n",
    "nphi = data[:,1]\n",
    "print(nphi.shape)"
   ]
  },
  {
   "cell_type": "code",
   "execution_count": null,
   "id": "7b4c2fac",
   "metadata": {},
   "outputs": [],
   "source": [
    "nphi"
   ]
  },
  {
   "cell_type": "code",
   "execution_count": null,
   "id": "0f3958b5",
   "metadata": {},
   "outputs": [],
   "source": []
  },
  {
   "cell_type": "code",
   "execution_count": null,
   "id": "87c5584e",
   "metadata": {},
   "outputs": [],
   "source": [
    "import matplotlib.pyplot as plt\n",
    "plt.plot(nphi)\n",
    "plt.hlines(0.24, 0, 70, color='r')\n",
    "plt.hlines(0.22, 0, 70, color='r')\n",
    "plt.ylabel('NPHI')\n",
    "plt.xlabel('Sample number')\n",
    "plt.grid(alpha=0.4)"
   ]
  },
  {
   "cell_type": "code",
   "execution_count": null,
   "id": "697cd085",
   "metadata": {},
   "outputs": [],
   "source": []
  },
  {
   "cell_type": "markdown",
   "id": "b58007da",
   "metadata": {},
   "source": [
    "## An image speaks a thousand words\n",
    "\n",
    "The [python-visualization-landscape](https://github.com/rougier/python-visualization-landscape) is vast and can be intimidating, no doubt you'll see many great examples during Transform 2022, but the place to start is usually [matplotlib](https://matplotlib.org/stable/users/index.html), you can reach the docs directly from with the jupyter notebook:\n",
    "\n",
    "![matplotlib help](./images/notebook_help_dropdown.png)"
   ]
  },
  {
   "cell_type": "code",
   "execution_count": null,
   "id": "0160ddec",
   "metadata": {},
   "outputs": [],
   "source": [
    "import matplotlib.pyplot as plt"
   ]
  },
  {
   "cell_type": "code",
   "execution_count": null,
   "id": "b8f3cddb",
   "metadata": {},
   "outputs": [],
   "source": []
  },
  {
   "cell_type": "markdown",
   "id": "9f3722b2",
   "metadata": {},
   "source": [
    "Now we have created a plot, let's pull all of this together a single cell and save the figure:"
   ]
  },
  {
   "cell_type": "code",
   "execution_count": null,
   "id": "3b8e7bab",
   "metadata": {},
   "outputs": [],
   "source": [
    "import numpy as np\n",
    "import matplotlib.pyplot as plt\n",
    "\n",
    "\n",
    "data = np.load('./data/GR-NPHI-RHOB-DT.npy')\n",
    "nphi = data[:,1]\n",
    "\n",
    "fig, ax = plt.subplots()\n",
    "\n",
    "ax.plot(nphi, 'o-', c='g', lw=0.4, markersize=2)\n",
    "ax.set_ylabel('NPHI')\n",
    "ax.set_xlabel('Sample number')\n",
    "ax.set_title('Simple Porosity plot')\n",
    "ax.grid(alpha=0.4)\n",
    "\n",
    "plt.savefig('./images/NPHI_plot.png')\n",
    "\n",
    "plt.show()"
   ]
  },
  {
   "cell_type": "markdown",
   "id": "73cb2690",
   "metadata": {},
   "source": [
    "### Interactive plots\n",
    "\n",
    "It is possible to add interactivity to plots in the Jupyter notebook using [`ipywidgets`](https://ipywidgets.readthedocs.io), without going through a full tutorial, here is a simple demo extending the plot we've been working with:"
   ]
  },
  {
   "cell_type": "code",
   "execution_count": null,
   "id": "e847a4ed",
   "metadata": {},
   "outputs": [],
   "source": [
    "from ipywidgets import interact\n",
    "import ipywidgets as widgets\n",
    "\n",
    "\n",
    "@interact(high=widgets.FloatSlider(value=0.24, min=0.22, max=0.28, step=0.001, continuous_update=False),\n",
    "          low=widgets.FloatSlider(value=0.22, min=0.18, max=0.22, step=0.001, continuous_update=False)\n",
    "         )\n",
    "def poro_high_low(high, low):\n",
    "    \"\"\"Create an interactive plot with ipywidgets.\"\"\"\n",
    "    fig, ax = plt.subplots(figsize=(14, 6))\n",
    "    ax.plot(nphi, c='k', lw=1, markersize=6)\n",
    "    ax.plot(np.where(nphi > high, nphi, None), '^', c='r', lw=0.4, markersize=10)\n",
    "    ax.plot(np.where((nphi < high) & (nphi > low), nphi, None), 'o', c='g', lw=0.4, markersize=8)\n",
    "    ax.plot(np.where(nphi < low, nphi, None), 'v', c='b', lw=0.4, markersize=8)\n",
    "    ax.fill_between(np.arange(nphi.size), low, high, color='g', alpha=0.1)\n",
    "    ax.set_ylabel('NPHI')\n",
    "    ax.set_xlabel('Sample number')\n",
    "    ax.set_title('Simple Porosity plot')\n",
    "    ax.axhline(high, ls='--' ,c='r', label='high')\n",
    "    ax.axhline(low, ls='-.', c='b', label='low')\n",
    "    ax.legend()\n",
    "    ax.grid(alpha=0.4)\n",
    "    \n",
    "    return None"
   ]
  },
  {
   "cell_type": "markdown",
   "id": "2be2b07c",
   "metadata": {},
   "source": [
    "## Wrap it up and do it again\n",
    "\n",
    "Part of the beauty of code is its reusabilty, we've used functions already:"
   ]
  },
  {
   "cell_type": "code",
   "execution_count": null,
   "id": "7e3ba462",
   "metadata": {},
   "outputs": [],
   "source": [
    "type(print)"
   ]
  },
  {
   "cell_type": "code",
   "execution_count": null,
   "id": "b362e30e",
   "metadata": {},
   "outputs": [],
   "source": [
    "sum([1, 2, 3])"
   ]
  },
  {
   "cell_type": "code",
   "execution_count": null,
   "id": "c9d769c1",
   "metadata": {},
   "outputs": [],
   "source": [
    "# using plt.scatter\n",
    "\n"
   ]
  },
  {
   "cell_type": "code",
   "execution_count": null,
   "id": "fe02dbc7",
   "metadata": {},
   "outputs": [],
   "source": [
    "# writing our own simple function\n",
    "\n"
   ]
  },
  {
   "cell_type": "code",
   "execution_count": null,
   "id": "c626aa0e",
   "metadata": {},
   "outputs": [],
   "source": [
    "my_adder?"
   ]
  },
  {
   "cell_type": "code",
   "execution_count": null,
   "id": "d41fffca",
   "metadata": {},
   "outputs": [],
   "source": [
    "my_adder(45, 98)"
   ]
  },
  {
   "cell_type": "markdown",
   "id": "5c455843",
   "metadata": {},
   "source": [
    "### Writing actual equations in python\n",
    "\n",
    "Remember this equation?\n",
    "$$\\rho = \\alpha {V_P}^{\\beta}$$\n",
    "\n",
    "Let's turn it into a python function:"
   ]
  },
  {
   "cell_type": "code",
   "execution_count": null,
   "id": "1bbcd605",
   "metadata": {},
   "outputs": [],
   "source": []
  },
  {
   "cell_type": "code",
   "execution_count": null,
   "id": "8d4bd537",
   "metadata": {},
   "outputs": [],
   "source": [
    "gardner(2766)"
   ]
  },
  {
   "cell_type": "markdown",
   "id": "e0e7fa09",
   "metadata": {},
   "source": [
    "## Where to next?\n",
    "\n",
    "- Useful (and approachable) documentation\n",
    " - [python.org/tutorial](https://docs.python.org/3/tutorial/index.html)\n",
    " - [matplotlib gallery](https://matplotlib.org/stable/gallery/index.html)\n",
    " - [w3schools/python](https://www.w3schools.com/python/)\n",
    "- Books\n",
    " - [Python Crash Course, 2nd Edition](https://www.amazon.com/Python-Crash-Course-2nd-Edition/dp/1593279280)\n",
    " - [Automate the Boring Stuff with Python, 2nd Edition](https://automatetheboringstuff.com/2e/chapter0/)\n",
    " - [Learning Python: Powerful Object-Oriented Programming](https://www.amazon.com/Learning-Python-Powerful-Object-Oriented-Programming-ebook/dp/B00DDZPC9S)\n",
    "- Cheatsheets\n",
    " - [pythoncheatsheet](https://www.pythoncheatsheet.org/)\n",
    " - [Basic cheatseet](https://agilescientific.com/blog/2011/1/14/basic-cheatsheet.html)\n",
    " - [Geophysics cheatsheet](https://agilescientific.com/blog/2011/1/31/geophysics-cheatsheet.html)\n",
    " - [Rock physics cheatsheet](https://agilescientific.com/blog/2011/3/7/rock-physics-cheatsheet.html)\n",
    " - [Petrophysics cheatsheet](https://agilescientific.com/blog/2011/7/25/petrophysics-cheatsheet.html)\n",
    " - [Petroleum cheatsheet](https://agilescientific.com/blog/2011/12/12/petroleum-cheatsheet.html)\n",
    "- Transform youtube tutorials\n",
    " - [Preparing for Transform 2020](https://youtube.com/playlist?list=PLgLft9vxdduAW-jmhYqXvtfGYJS6v2FjM), setup guides for Windows and Linux\n",
    " - [Learning Python for Geoscience](https://youtube.com/playlist?list=PLgLft9vxdduDm3W6i3qjT7s-ne4oTAvks), a playlist of setup instructions and tutorials covering introductions to python, python subsurface tools, geospatial analysis, statistics and data analysis and well data exploration.\n",
    " - [Transform 2021](https://youtube.com/playlist?list=PLgLft9vxdduCESA3xAo5Ts_ziO8vZAFG1) all the content from the 2021 edition!\n",
    " - [Transform 2020](https://youtube.com/playlist?list=PLgLft9vxdduD8Zydz4dRJqIzCWDlPKITC) all the content from the 2020 edition!\n",
    "- **Your own awesome project!** The best way to learn anything is through practice, so now you should think of a task you perform at work on in your hobbies that you can break down into programmable steps, then code it up in python little by little, and before you know it, you'll be a pythonista!\n",
    "\n",
    "<div>\n",
    "<img src=\"https://avatars1.githubusercontent.com/u/1692321?s=50\"><p style=\"text-align:center\">© Agile Geoscience 2021</p>\n",
    "</div>"
   ]
  },
  {
   "cell_type": "code",
   "execution_count": null,
   "id": "efa84560",
   "metadata": {},
   "outputs": [],
   "source": []
  }
 ],
 "metadata": {
  "celltoolbar": "Tags",
  "kernelspec": {
   "display_name": "t22_setup",
   "language": "python",
   "name": "t22_setup"
  },
  "language_info": {
   "codemirror_mode": {
    "name": "ipython",
    "version": 3
   },
   "file_extension": ".py",
   "mimetype": "text/x-python",
   "name": "python",
   "nbconvert_exporter": "python",
   "pygments_lexer": "ipython3",
   "version": "3.9.12"
  }
 },
 "nbformat": 4,
 "nbformat_minor": 5
}
